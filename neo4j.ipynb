{
 "cells": [
  {
   "cell_type": "code",
   "execution_count": 2,
   "source": [
    "import pandas as pd\r\n",
    "from neo4j import GraphDatabase"
   ],
   "outputs": [],
   "metadata": {}
  },
  {
   "cell_type": "code",
   "execution_count": 61,
   "source": [
    "association_df = pd.read_csv('./service_associations_filled.csv', index_col='Unnamed: 0')\r\n",
    "association_df = association_df.drop(columns=['Unnamed: 75'])"
   ],
   "outputs": [],
   "metadata": {}
  },
  {
   "cell_type": "code",
   "execution_count": 62,
   "source": [
    "association_df.head(3)"
   ],
   "outputs": [
    {
     "output_type": "execute_result",
     "data": {
      "text/plain": [
       "               service  GTtXZCegOZ Odoo  7m30TaadKw ownCloud  \\\n",
       "0      GTtXZCegOZ Odoo                0                    0   \n",
       "1  7m30TaadKw ownCloud                0                    0   \n",
       "2    ddy6eGz0GS GitLab                0                    0   \n",
       "\n",
       "   ddy6eGz0GS GitLab  AuoUzp7zT5 WordPress  ftB5W0yalq PrestaShop  \\\n",
       "0                  0                     0                      0   \n",
       "1                  0                     0                      0   \n",
       "2                  0                     0                      0   \n",
       "\n",
       "   1wjtGuM9P1 Drupal  vfroVvgRms Jenkins  07s0zeZYjN Domain Name  \\\n",
       "0                  0                   0                       0   \n",
       "1                  0                   0                       0   \n",
       "2                  0                   1                       0   \n",
       "\n",
       "   etez96nrAp 4Hx24x7  ...  f9WeJggEuN Gibbon  SkmrEaGFJU Seafile  \\\n",
       "0                   0  ...                  0                   0   \n",
       "1                   0  ...                  0                   0   \n",
       "2                   0  ...                  0                   0   \n",
       "\n",
       "   vnFUakntku Bagisto  CigxgBew94 OpenSIS  1faS6yFowN OSPOS  \\\n",
       "0                   0                   0                 0   \n",
       "1                   0                   0                 0   \n",
       "2                   0                   0                 0   \n",
       "\n",
       "   2ox817TNFc Chamilo  YZIeBxQlsV Akaunting  En9HfOMwXA Sign Server  \\\n",
       "0                   0                     0                       0   \n",
       "1                   0                     0                       0   \n",
       "2                   0                     0                       0   \n",
       "\n",
       "   7HZTSufu92 Nexus Repository OSS  GiVGovTMPj OpenEMR  \n",
       "0                                0                   0  \n",
       "1                                0                   0  \n",
       "2                                0                   0  \n",
       "\n",
       "[3 rows x 74 columns]"
      ],
      "text/html": [
       "<div>\n",
       "<style scoped>\n",
       "    .dataframe tbody tr th:only-of-type {\n",
       "        vertical-align: middle;\n",
       "    }\n",
       "\n",
       "    .dataframe tbody tr th {\n",
       "        vertical-align: top;\n",
       "    }\n",
       "\n",
       "    .dataframe thead th {\n",
       "        text-align: right;\n",
       "    }\n",
       "</style>\n",
       "<table border=\"1\" class=\"dataframe\">\n",
       "  <thead>\n",
       "    <tr style=\"text-align: right;\">\n",
       "      <th></th>\n",
       "      <th>service</th>\n",
       "      <th>GTtXZCegOZ Odoo</th>\n",
       "      <th>7m30TaadKw ownCloud</th>\n",
       "      <th>ddy6eGz0GS GitLab</th>\n",
       "      <th>AuoUzp7zT5 WordPress</th>\n",
       "      <th>ftB5W0yalq PrestaShop</th>\n",
       "      <th>1wjtGuM9P1 Drupal</th>\n",
       "      <th>vfroVvgRms Jenkins</th>\n",
       "      <th>07s0zeZYjN Domain Name</th>\n",
       "      <th>etez96nrAp 4Hx24x7</th>\n",
       "      <th>...</th>\n",
       "      <th>f9WeJggEuN Gibbon</th>\n",
       "      <th>SkmrEaGFJU Seafile</th>\n",
       "      <th>vnFUakntku Bagisto</th>\n",
       "      <th>CigxgBew94 OpenSIS</th>\n",
       "      <th>1faS6yFowN OSPOS</th>\n",
       "      <th>2ox817TNFc Chamilo</th>\n",
       "      <th>YZIeBxQlsV Akaunting</th>\n",
       "      <th>En9HfOMwXA Sign Server</th>\n",
       "      <th>7HZTSufu92 Nexus Repository OSS</th>\n",
       "      <th>GiVGovTMPj OpenEMR</th>\n",
       "    </tr>\n",
       "  </thead>\n",
       "  <tbody>\n",
       "    <tr>\n",
       "      <th>0</th>\n",
       "      <td>GTtXZCegOZ Odoo</td>\n",
       "      <td>0</td>\n",
       "      <td>0</td>\n",
       "      <td>0</td>\n",
       "      <td>0</td>\n",
       "      <td>0</td>\n",
       "      <td>0</td>\n",
       "      <td>0</td>\n",
       "      <td>0</td>\n",
       "      <td>0</td>\n",
       "      <td>...</td>\n",
       "      <td>0</td>\n",
       "      <td>0</td>\n",
       "      <td>0</td>\n",
       "      <td>0</td>\n",
       "      <td>0</td>\n",
       "      <td>0</td>\n",
       "      <td>0</td>\n",
       "      <td>0</td>\n",
       "      <td>0</td>\n",
       "      <td>0</td>\n",
       "    </tr>\n",
       "    <tr>\n",
       "      <th>1</th>\n",
       "      <td>7m30TaadKw ownCloud</td>\n",
       "      <td>0</td>\n",
       "      <td>0</td>\n",
       "      <td>0</td>\n",
       "      <td>0</td>\n",
       "      <td>0</td>\n",
       "      <td>0</td>\n",
       "      <td>0</td>\n",
       "      <td>0</td>\n",
       "      <td>0</td>\n",
       "      <td>...</td>\n",
       "      <td>0</td>\n",
       "      <td>0</td>\n",
       "      <td>0</td>\n",
       "      <td>0</td>\n",
       "      <td>0</td>\n",
       "      <td>0</td>\n",
       "      <td>0</td>\n",
       "      <td>0</td>\n",
       "      <td>0</td>\n",
       "      <td>0</td>\n",
       "    </tr>\n",
       "    <tr>\n",
       "      <th>2</th>\n",
       "      <td>ddy6eGz0GS GitLab</td>\n",
       "      <td>0</td>\n",
       "      <td>0</td>\n",
       "      <td>0</td>\n",
       "      <td>0</td>\n",
       "      <td>0</td>\n",
       "      <td>0</td>\n",
       "      <td>1</td>\n",
       "      <td>0</td>\n",
       "      <td>0</td>\n",
       "      <td>...</td>\n",
       "      <td>0</td>\n",
       "      <td>0</td>\n",
       "      <td>0</td>\n",
       "      <td>0</td>\n",
       "      <td>0</td>\n",
       "      <td>0</td>\n",
       "      <td>0</td>\n",
       "      <td>0</td>\n",
       "      <td>0</td>\n",
       "      <td>0</td>\n",
       "    </tr>\n",
       "  </tbody>\n",
       "</table>\n",
       "<p>3 rows × 74 columns</p>\n",
       "</div>"
      ]
     },
     "metadata": {},
     "execution_count": 62
    }
   ],
   "metadata": {}
  },
  {
   "cell_type": "code",
   "execution_count": 73,
   "source": [
    "uri = \"neo4j://localhost:7687\"\r\n",
    "driver = GraphDatabase.driver(uri, auth=(\"neo4j\", \"password\"))"
   ],
   "outputs": [],
   "metadata": {}
  },
  {
   "cell_type": "code",
   "execution_count": 20,
   "source": [
    "def create_friend_of(tx, name, friend):\r\n",
    "    tx.run(\"MATCH (a:Person) WHERE a.name = $name \"\r\n",
    "           \"CREATE (a)-[:KNOWS]->(:Person {name: $friend})\",\r\n",
    "           name=name, friend=friend)\r\n",
    "\r\n",
    "with driver.session() as session:\r\n",
    "    session.write_transaction(create_friend_of, \"Alice\", \"Bob\")\r\n",
    "\r\n",
    "with driver.session() as session:\r\n",
    "    session.write_transaction(create_friend_of, \"Alice\", \"Carl\")\r\n"
   ],
   "outputs": [],
   "metadata": {}
  },
  {
   "cell_type": "code",
   "execution_count": 21,
   "source": [
    "def get_friends_of(tx, name):\r\n",
    "    friends = []\r\n",
    "    result = tx.run(\"MATCH (a:Person)-[:KNOWS]->(f) \"\r\n",
    "                         \"WHERE a.name = $name \"\r\n",
    "                         \"RETURN f\", name=name)\r\n",
    "    for record in result:\r\n",
    "        # friends.append(record[\"friend\"])\r\n",
    "        friends.append(record)\r\n",
    "    return friends\r\n",
    "\r\n",
    "with driver.session() as session:\r\n",
    "    friends = session.read_transaction(get_friends_of, \"Alice\")\r\n",
    "    for friend in friends:\r\n",
    "        print(friend)\r\n",
    "\r\n",
    "driver.close()"
   ],
   "outputs": [
    {
     "output_type": "stream",
     "name": "stdout",
     "text": [
      "<Record f=<Node id=1 labels=frozenset({'Person'}) properties={'name': 'Bob'}>>\n",
      "<Record f=<Node id=2 labels=frozenset({'Person'}) properties={'name': 'Carl'}>>\n"
     ]
    }
   ],
   "metadata": {}
  },
  {
   "cell_type": "code",
   "execution_count": 64,
   "source": [
    "def create_service(tx, service_id, name):\r\n",
    "    tx.run(\"CREATE (s:Service {serviceId: $service_id, name: $name})\", service_id=service_id, name=name)"
   ],
   "outputs": [],
   "metadata": {}
  },
  {
   "cell_type": "code",
   "execution_count": 65,
   "source": [
    "with driver.session() as session:\r\n",
    "    for column in association_df.columns:\r\n",
    "        if column == 'service':\r\n",
    "            continue\r\n",
    "        else:\r\n",
    "            splits = column.split(' ')\r\n",
    "            service_id = splits[0]\r\n",
    "            name = ' '.join(splits[1:])\r\n",
    "            session.write_transaction(create_service, service_id, name)\r\n"
   ],
   "outputs": [],
   "metadata": {}
  },
  {
   "cell_type": "code",
   "execution_count": 70,
   "source": [
    "def make_asociation_of(tx, service1, service_2):\r\n",
    "    tx.run(\"MATCH (s1:Service {serviceId: $service_id1})\"\r\n",
    "            \"MATCH (s2:Service {serviceId: $service_id2})\"\r\n",
    "            \"CREATE (s1)-[:WORKS_WITH]->(s2)\", service_id1=service1, service_id2=service_2)"
   ],
   "outputs": [],
   "metadata": {}
  },
  {
   "cell_type": "code",
   "execution_count": 71,
   "source": [
    "with driver.session() as session:\r\n",
    "    for column1 in association_df.columns:\r\n",
    "        if column == 'service':\r\n",
    "            continue\r\n",
    "        else:\r\n",
    "            for column2 in association_df.service.values:\r\n",
    "                if association_df[association_df['service'] == column2][column1].values[0] == 1:\r\n",
    "                    session.write_transaction(make_asociation_of, column1.split(' ')[0], column2.split(' ')[0])\r\n",
    "\r\n",
    "driver.close()"
   ],
   "outputs": [],
   "metadata": {}
  },
  {
   "cell_type": "code",
   "execution_count": 85,
   "source": [
    "def get_associated_items(tx, name):\r\n",
    "    items = []\r\n",
    "    result = tx.run(\"MATCH (s:Service) -[:WORKS_WITH]- (t:Service {name: $name}) RETURN s\", name=name)\r\n",
    "    for record in result:\r\n",
    "        items.append(record)\r\n",
    "    return items"
   ],
   "outputs": [],
   "metadata": {}
  },
  {
   "cell_type": "code",
   "execution_count": 87,
   "source": [
    "with driver.session() as session:\r\n",
    "    items = session.read_transaction(get_associated_items, \"WordPress\")\r\n",
    "    items_names = {item['s']['name'] for item in items}\r\n",
    "    print(items_names)\r\n",
    "\r\n",
    "driver.close()"
   ],
   "outputs": [
    {
     "output_type": "stream",
     "name": "stdout",
     "text": [
      "{'phpBB', 'Mautic', 'OSPOS', 'LimeSurvey', 'Domain Name', 'Matomo', 'Live Helper Chat', 'SurveyProject', 'XWiki', 'Akaunting', 'Invoice Ninja', 'ORO CRM', 'MediaWiki', 'DokuWiki'}\n"
     ]
    }
   ],
   "metadata": {}
  }
 ],
 "metadata": {
  "orig_nbformat": 4,
  "language_info": {
   "name": "python"
  }
 },
 "nbformat": 4,
 "nbformat_minor": 2
}