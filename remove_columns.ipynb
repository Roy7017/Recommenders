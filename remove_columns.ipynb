{
 "cells": [
  {
   "cell_type": "markdown",
   "metadata": {},
   "source": [
    "# Removing Unnecessary columns"
   ]
  },
  {
   "cell_type": "markdown",
   "metadata": {},
   "source": [
    "## 1. Imports"
   ]
  },
  {
   "cell_type": "code",
   "execution_count": 1,
   "metadata": {},
   "outputs": [],
   "source": [
    "import pandas as pd\n",
    "import numpy as np\n",
    "import matplotlib.pyplot as plt\n",
    "import json"
   ]
  },
  {
   "cell_type": "markdown",
   "metadata": {},
   "source": [
    "## 2. Loading Data"
   ]
  },
  {
   "cell_type": "code",
   "execution_count": 2,
   "metadata": {},
   "outputs": [],
   "source": [
    "user_df = pd.read_csv('./data/users.csv', index_col='Unnamed: 0')\n",
    "account_user_df = pd.read_csv('./data/account_users.csv', index_col='Unnamed: 0')\n",
    "\n",
    "service_subscripted_df = pd.read_csv('./data/service_subscripted.csv', index_col='Unnamed: 0')\n",
    "service_subscripted_mode_df = pd.read_csv('./data/service_subscripted_modes.csv', index_col='Unnamed: 0')\n",
    "service_subscripted_status_df = pd.read_csv('./data/service_subscripted_status.csv', index_col='Unnamed: 0')\n",
    "\n",
    "service_df = pd.read_csv('./data/services.csv', index_col='Unnamed: 0')\n",
    "service_category_df = pd.read_csv('./data/service_categories.csv', index_col='Unnamed: 0')\n",
    "service_class_df = pd.read_csv('./data/service_classes.csv', index_col='Unnamed: 0')\n",
    "service_price_df = pd.read_csv('./data/service_prices.csv', index_col='Unnamed: 0')"
   ]
  },
  {
   "cell_type": "markdown",
   "metadata": {},
   "source": [
    "## 3. Removing columns"
   ]
  },
  {
   "cell_type": "code",
   "execution_count": 3,
   "metadata": {},
   "outputs": [
    {
     "data": {
      "text/plain": "(146, 95)"
     },
     "execution_count": 3,
     "metadata": {},
     "output_type": "execute_result"
    }
   ],
   "source": [
    "user_df.shape"
   ]
  },
  {
   "cell_type": "code",
   "execution_count": 4,
   "metadata": {},
   "outputs": [],
   "source": [
    "user_df.columns\n",
    "columns_to_drop = ['readBillRole', 'writeBillRole', 'readGodaddyAccountRole',\n",
    "       'writeGodaddyAccountRole', 'readPaymentMethodRole',\n",
    "       'writePaymentMethodRole', 'readBillingAddressRole',\n",
    "       'writeBillingAddressRole', 'readK8sUserConfigRole',\n",
    "       'writeK8sUserConfigRole', 'readK8sServiceSubscriptedConfigRole',\n",
    "       'writeK8sServiceSubscriptedConfigRole', 'readUserMailRole',\n",
    "       'writeUserMailRole', 'readUserNotificationRole',\n",
    "       'writeUserNotificationRole', 'readSupportTicketRole',\n",
    "       'writeSupportTicketRole', 'readUserAssistanceRequestRole',\n",
    "       'writeUserAssistanceRequestRole', 'readAccountGroupRole',\n",
    "       'writeAccountGroupRole', 'readAdministratorRole',\n",
    "       'writeAdministratorRole', 'readSaaSRole', 'writeSaaSRole',\n",
    "       'readIaaSRole', 'writeIaaSRole', 'readDnsRole', 'writeDnsRole',\n",
    "       'readEmailRole', 'writeEmailRole', 'readWebHostingRole',\n",
    "       'writeWebHostingRole', 'readWebsiteBuilderRole',\n",
    "       'writeWebsiteBuilderRole', 'readDigitalMarketingRole',\n",
    "       'writeDigitalMarketingRole', 'readSslSecurityRole',\n",
    "       'writeSslSecurityRole', '_account_lockout_expires_at',\n",
    "       'readUserSettingsRole', 'writeUserSettingsRole',\n",
    "       'readConsultingServiceRole', 'writeConsultingServiceRole',\n",
    "       'readAccountUserRole', 'writeAccountUserRole',\n",
    "       'readServiceSubscriptedFileRole', 'writeServiceSubscriptedFileRole',\n",
    "       'readMeetingRole', 'writeMeetingRole', 'readPaymentReceiptRole',\n",
    "       'writePaymentReceiptRole', '_email_verify_token',\n",
    "       '_email_verify_token_expires_at', 'email_verification_count',\n",
    "        'odoo_partner_id', 'ACL', '_perishable_token']\n",
    "user_df = user_df.drop(columns=columns_to_drop)"
   ]
  },
  {
   "cell_type": "code",
   "execution_count": 5,
   "metadata": {},
   "outputs": [],
   "source": [
    "account_user_df = account_user_df.drop(columns='ACL')"
   ]
  },
  {
   "cell_type": "code",
   "execution_count": 6,
   "metadata": {},
   "outputs": [],
   "source": [
    "columns_to_drop = ['updatedAt', 'k8sServiceSubscriptedConfig', '__type', 'firstTicket', 'ACL',\r\n",
    "        'firstBill', 'serviceSubscriptedSecure', 'mailbox_ids', 'databaseUserOtherUserAccount',\r\n",
    "        'ftpUserOtherUserAccount', 'main_external_id']\r\n",
    "service_subscripted_df = service_subscripted_df.drop(columns=columns_to_drop)"
   ]
  },
  {
   "cell_type": "code",
   "execution_count": 7,
   "metadata": {},
   "outputs": [
    {
     "data": {
      "text/plain": "Index(['name', 'task_name', 'rank', 'createdAt', 'updatedAt', 'ACL',\n       'objectId', '__type', 'className'],\n      dtype='object')"
     },
     "execution_count": 7,
     "metadata": {},
     "output_type": "execute_result"
    }
   ],
   "source": [
    "service_subscripted_mode_df.columns"
   ]
  },
  {
   "cell_type": "code",
   "execution_count": 8,
   "metadata": {},
   "outputs": [],
   "source": [
    "service_subscripted_mode_df = service_subscripted_mode_df[['objectId', 'task_name', 'rank']]"
   ]
  },
  {
   "cell_type": "code",
   "execution_count": 9,
   "metadata": {},
   "outputs": [],
   "source": [
    "service_subscripted_status_df = service_subscripted_status_df[['objectId', 'task_name']]"
   ]
  },
  {
   "cell_type": "code",
   "execution_count": 10,
   "metadata": {},
   "outputs": [],
   "source": [
    "service_df = service_df[['serviceCategories', 'versions', 'servicePrices', 'name', 'editor',\n",
    "    'short_description', 'description', 'number_if_subscription', 'serviceClass', 'main_serviceCategory',\n",
    "    'rating', 'task_name', 'keywordMainCategory', 'keywordName', 'keywordServiceCategories', 'eneable',\n",
    "    'deployment_type', 'eneable_trial', 'trial_period', 'configs', 'main_version', 'haveAndroidApp',\n",
    "    'haveIOSApp', 'benefits', 'gain_creators', 'pain_relievers', 'objectId', 'eneable_demo', 'rank',\n",
    "    'url_demo']]"
   ]
  },
  {
   "cell_type": "code",
   "execution_count": 11,
   "metadata": {},
   "outputs": [
    {
     "data": {
      "text/plain": "Index(['name', 'short_name', 'createdAt', 'updatedAt', 'task_name', 'name_fr',\n       'ACL', 'objectId', '__type', 'className', 'icon', 'description',\n       'description_fr', 'short_name_fr'],\n      dtype='object')"
     },
     "execution_count": 11,
     "metadata": {},
     "output_type": "execute_result"
    }
   ],
   "source": [
    "service_category_df.columns"
   ]
  },
  {
   "cell_type": "code",
   "execution_count": 12,
   "metadata": {},
   "outputs": [],
   "source": [
    "service_category_df = service_category_df[['objectId', 'task_name']]"
   ]
  },
  {
   "cell_type": "code",
   "execution_count": 13,
   "metadata": {},
   "outputs": [],
   "source": [
    "service_class_df = service_class_df[['objectId', 'task_name']]"
   ]
  },
  {
   "cell_type": "code",
   "execution_count": 14,
   "metadata": {},
   "outputs": [],
   "source": [
    "service_price_df = service_price_df[['objectId', 'price', 'number_of_month']]"
   ]
  },
  {
   "cell_type": "markdown",
   "metadata": {},
   "source": [
    "## 4. Saving the datframes"
   ]
  },
  {
   "cell_type": "code",
   "execution_count": 15,
   "metadata": {},
   "outputs": [],
   "source": [
    "user_df.to_csv('./columns_removed/users.csv')\n",
    "account_user_df.to_csv('./columns_removed/account_users.csv')\n",
    "\n",
    "service_subscripted_df.to_csv('./columns_removed/service_subscripted.csv')\n",
    "service_subscripted_mode_df.to_csv('./columns_removed/service_subscripted_modes.csv')\n",
    "service_subscripted_status_df.to_csv('./columns_removed/service_subscripted_status.csv')\n",
    "\n",
    "service_df.to_csv('./columns_removed/services.csv')\n",
    "service_category_df.to_csv('./columns_removed/service_categories.csv')\n",
    "service_class_df.to_csv('./columns_removed/service_classes.csv')\n",
    "service_price_df.to_csv('./columns_removed/service_prices.csv')"
   ]
  },
  {
   "cell_type": "code",
   "execution_count": null,
   "metadata": {},
   "outputs": [],
   "source": []
  }
 ],
 "metadata": {
  "interpreter": {
   "hash": "93a6a9b76bfd63e02ab1b2bd2e6bc5ff501c9330c8c8db6caa76d3262061148d"
  },
  "kernelspec": {
   "display_name": "Python 3.8.5  ('venv': venv)",
   "name": "python3"
  },
  "language_info": {
   "name": "python",
   "version": ""
  },
  "orig_nbformat": 3
 },
 "nbformat": 4,
 "nbformat_minor": 2
}