{
 "cells": [
  {
   "cell_type": "markdown",
   "source": [
    "# Baseline Models for recommendation"
   ],
   "metadata": {}
  },
  {
   "cell_type": "markdown",
   "source": [
    "## Library Imports"
   ],
   "metadata": {}
  },
  {
   "cell_type": "code",
   "execution_count": 86,
   "source": [
    "from datetime import datetime, timedelta\r\n",
    "import random\r\n",
    "import json\r\n",
    "import statistics\r\n",
    "import re\r\n",
    "from typing import Dict\r\n",
    "import pandas as pd\r\n",
    "import numpy as np\r\n",
    "import matplotlib.pyplot as plt\r\n",
    "import surprise\r\n",
    "import implicit\r\n",
    "import nltk\r\n",
    "from nltk.corpus import stopwords\r\n",
    "import scipy.sparse as sparse\r\n",
    "from scipy.sparse.linalg import spsolve\r\n",
    "from sklearn.linear_model import SGDRegressor\r\n",
    "from sklearn.metrics.pairwise import linear_kernel, cosine_similarity\r\n",
    "from sklearn.feature_extraction.text import CountVectorizer\r\n",
    "from sklearn.feature_extraction.text import TfidfVectorizer\r\n",
    "from sklearn.decomposition import LatentDirichletAllocation\r\n",
    "from tqdm.notebook import tqdm_notebook\r\n",
    "tqdm_notebook().pandas()"
   ],
   "outputs": [
    {
     "output_type": "display_data",
     "data": {
      "text/plain": [
       "0it [00:00, ?it/s]"
      ],
      "application/vnd.jupyter.widget-view+json": {
       "version_major": 2,
       "version_minor": 0,
       "model_id": "75b02cb980ae45d09c277f72d1fae8b7"
      }
     },
     "metadata": {}
    }
   ],
   "metadata": {}
  },
  {
   "cell_type": "markdown",
   "source": [
    "## Loading the data"
   ],
   "metadata": {}
  },
  {
   "cell_type": "code",
   "execution_count": 3,
   "source": [
    "user_df = pd.read_csv('./columns_removed/users.csv', index_col='Unnamed: 0')\r\n",
    "account_user_df = pd.read_csv('./columns_removed/account_users.csv', index_col='Unnamed: 0')\r\n",
    "\r\n",
    "service_subscripted_df = pd.read_csv('./columns_removed/service_subscripted.csv', index_col='Unnamed: 0')\r\n",
    "service_subscripted_mode_df = pd.read_csv('./columns_removed/service_subscripted_modes.csv', index_col='Unnamed: 0')\r\n",
    "service_subscripted_status_df = pd.read_csv('./columns_removed/service_subscripted_status.csv', index_col='Unnamed: 0')\r\n",
    "\r\n",
    "service_df = pd.read_csv('./columns_removed/services.csv', index_col='Unnamed: 0')\r\n",
    "service_category_df = pd.read_csv('./columns_removed/service_categories.csv', index_col='Unnamed: 0')\r\n",
    "service_class_df = pd.read_csv('./columns_removed/service_classes.csv', index_col='Unnamed: 0')\r\n",
    "service_price_df = pd.read_csv('./columns_removed/service_prices.csv', index_col='Unnamed: 0')"
   ],
   "outputs": [],
   "metadata": {}
  },
  {
   "cell_type": "code",
   "execution_count": 4,
   "source": [
    "service_subscripted_df.shape"
   ],
   "outputs": [
    {
     "output_type": "execute_result",
     "data": {
      "text/plain": [
       "(2354, 30)"
      ]
     },
     "metadata": {},
     "execution_count": 4
    }
   ],
   "metadata": {}
  },
  {
   "cell_type": "markdown",
   "source": [
    "We have just 2354 transactions of data. This is pretty small."
   ],
   "metadata": {}
  },
  {
   "cell_type": "markdown",
   "source": [
    "### Parsing the related data\r\n",
    "The related data comes as an object, we have to parse it, to get just the ID so we can join later on\r\n",
    "- The related columns in the data contain objects with the related data type, and the object id.\r\n",
    "- We create methods to extract the ID (or list of IDs) and replace in the data for more data manipulation"
   ],
   "metadata": {}
  },
  {
   "cell_type": "code",
   "execution_count": 5,
   "source": [
    "def getObjectId(string):\r\n",
    "    return json.loads(string.replace(\"\\'\", \"\\\"\"))['objectId'] if type(string) == str else None"
   ],
   "outputs": [],
   "metadata": {}
  },
  {
   "cell_type": "code",
   "execution_count": 6,
   "source": [
    "def getObjectIds(strings):\r\n",
    "    strings = json.loads(strings.replace(\"\\'\", \"\\\"\")) if type(strings) == str else None\r\n",
    "    return [ string['objectId'] for string in strings] if not strings is None else None "
   ],
   "outputs": [],
   "metadata": {}
  },
  {
   "cell_type": "code",
   "execution_count": 7,
   "source": [
    "print('Extracting IDs in service_subscripted_df')\r\n",
    "service_subscripted_df['user'] = service_subscripted_df['user'].progress_apply(getObjectId)\r\n",
    "service_subscripted_df['service'] = service_subscripted_df['service'].progress_apply(getObjectId)\r\n",
    "service_subscripted_df['servicePrice'] = service_subscripted_df['servicePrice'].progress_apply(getObjectId)\r\n",
    "service_subscripted_df['serviceSubscriptedStatus'] = service_subscripted_df['serviceSubscriptedStatus'].progress_apply(getObjectId)"
   ],
   "outputs": [
    {
     "output_type": "stream",
     "name": "stdout",
     "text": [
      "Extracting IDs in service_subscripted_df\n"
     ]
    },
    {
     "output_type": "display_data",
     "data": {
      "text/plain": [
       "  0%|          | 0/2354 [00:00<?, ?it/s]"
      ],
      "application/vnd.jupyter.widget-view+json": {
       "version_major": 2,
       "version_minor": 0,
       "model_id": "f34171d332024d7aaff1788bdcca935c"
      }
     },
     "metadata": {}
    },
    {
     "output_type": "display_data",
     "data": {
      "text/plain": [
       "  0%|          | 0/2354 [00:00<?, ?it/s]"
      ],
      "application/vnd.jupyter.widget-view+json": {
       "version_major": 2,
       "version_minor": 0,
       "model_id": "97109896a303423d854e0acb5f53b8e1"
      }
     },
     "metadata": {}
    },
    {
     "output_type": "display_data",
     "data": {
      "text/plain": [
       "  0%|          | 0/2354 [00:00<?, ?it/s]"
      ],
      "application/vnd.jupyter.widget-view+json": {
       "version_major": 2,
       "version_minor": 0,
       "model_id": "7c9dc33861a84e16a8cbac48be8eb815"
      }
     },
     "metadata": {}
    },
    {
     "output_type": "display_data",
     "data": {
      "text/plain": [
       "  0%|          | 0/2354 [00:00<?, ?it/s]"
      ],
      "application/vnd.jupyter.widget-view+json": {
       "version_major": 2,
       "version_minor": 0,
       "model_id": "d7afdbb7d3044164aabe87bc8596f386"
      }
     },
     "metadata": {}
    }
   ],
   "metadata": {}
  },
  {
   "cell_type": "code",
   "execution_count": 8,
   "source": [
    "service_subscripted_df[['user', 'service', 'servicePrice', 'serviceSubscriptedStatus']].head()"
   ],
   "outputs": [
    {
     "output_type": "execute_result",
     "data": {
      "text/plain": [
       "         user     service servicePrice serviceSubscriptedStatus\n",
       "0  Wuht2SEQKc  7m30TaadKw   7IQOMYgNjp               tW5G9aXwir\n",
       "1  Wuht2SEQKc  7m30TaadKw   9ZSLOxD6Qe               tW5G9aXwir\n",
       "2  Wuht2SEQKc  AuoUzp7zT5   9ZSLOxD6Qe               tW5G9aXwir\n",
       "3  Wuht2SEQKc  AuoUzp7zT5   7IQOMYgNjp               tW5G9aXwir\n",
       "4  Wuht2SEQKc  ftB5W0yalq   9ZSLOxD6Qe               tW5G9aXwir"
      ],
      "text/html": [
       "<div>\n",
       "<style scoped>\n",
       "    .dataframe tbody tr th:only-of-type {\n",
       "        vertical-align: middle;\n",
       "    }\n",
       "\n",
       "    .dataframe tbody tr th {\n",
       "        vertical-align: top;\n",
       "    }\n",
       "\n",
       "    .dataframe thead th {\n",
       "        text-align: right;\n",
       "    }\n",
       "</style>\n",
       "<table border=\"1\" class=\"dataframe\">\n",
       "  <thead>\n",
       "    <tr style=\"text-align: right;\">\n",
       "      <th></th>\n",
       "      <th>user</th>\n",
       "      <th>service</th>\n",
       "      <th>servicePrice</th>\n",
       "      <th>serviceSubscriptedStatus</th>\n",
       "    </tr>\n",
       "  </thead>\n",
       "  <tbody>\n",
       "    <tr>\n",
       "      <th>0</th>\n",
       "      <td>Wuht2SEQKc</td>\n",
       "      <td>7m30TaadKw</td>\n",
       "      <td>7IQOMYgNjp</td>\n",
       "      <td>tW5G9aXwir</td>\n",
       "    </tr>\n",
       "    <tr>\n",
       "      <th>1</th>\n",
       "      <td>Wuht2SEQKc</td>\n",
       "      <td>7m30TaadKw</td>\n",
       "      <td>9ZSLOxD6Qe</td>\n",
       "      <td>tW5G9aXwir</td>\n",
       "    </tr>\n",
       "    <tr>\n",
       "      <th>2</th>\n",
       "      <td>Wuht2SEQKc</td>\n",
       "      <td>AuoUzp7zT5</td>\n",
       "      <td>9ZSLOxD6Qe</td>\n",
       "      <td>tW5G9aXwir</td>\n",
       "    </tr>\n",
       "    <tr>\n",
       "      <th>3</th>\n",
       "      <td>Wuht2SEQKc</td>\n",
       "      <td>AuoUzp7zT5</td>\n",
       "      <td>7IQOMYgNjp</td>\n",
       "      <td>tW5G9aXwir</td>\n",
       "    </tr>\n",
       "    <tr>\n",
       "      <th>4</th>\n",
       "      <td>Wuht2SEQKc</td>\n",
       "      <td>ftB5W0yalq</td>\n",
       "      <td>9ZSLOxD6Qe</td>\n",
       "      <td>tW5G9aXwir</td>\n",
       "    </tr>\n",
       "  </tbody>\n",
       "</table>\n",
       "</div>"
      ]
     },
     "metadata": {},
     "execution_count": 8
    }
   ],
   "metadata": {}
  },
  {
   "cell_type": "code",
   "execution_count": 9,
   "source": [
    "print('Extracting IDs in service_df')\r\n",
    "service_df = pd.read_csv('./columns_removed/services.csv', index_col='Unnamed: 0')\r\n",
    "service_df['servicePrices'] = service_df['servicePrices'].progress_apply(getObjectIds)\r\n",
    "service_df['serviceCategories'] = service_df['serviceCategories'].progress_apply(getObjectIds)"
   ],
   "outputs": [
    {
     "output_type": "stream",
     "name": "stdout",
     "text": [
      "Extracting IDs in service_df\n"
     ]
    },
    {
     "output_type": "display_data",
     "data": {
      "text/plain": [
       "  0%|          | 0/73 [00:00<?, ?it/s]"
      ],
      "application/vnd.jupyter.widget-view+json": {
       "version_major": 2,
       "version_minor": 0,
       "model_id": "df21d8b434aa430bac9ea5b0169753bd"
      }
     },
     "metadata": {}
    },
    {
     "output_type": "display_data",
     "data": {
      "text/plain": [
       "  0%|          | 0/73 [00:00<?, ?it/s]"
      ],
      "application/vnd.jupyter.widget-view+json": {
       "version_major": 2,
       "version_minor": 0,
       "model_id": "a0b99d8d250f43b991850b619ed504f6"
      }
     },
     "metadata": {}
    }
   ],
   "metadata": {}
  },
  {
   "cell_type": "code",
   "execution_count": 10,
   "source": [
    "service_df[['servicePrices', 'serviceCategories']].head()"
   ],
   "outputs": [
    {
     "output_type": "execute_result",
     "data": {
      "text/plain": [
       "                                       servicePrices         serviceCategories\n",
       "0  [S7143GMweM, 4Q1ZU3K9JG, kqjeGDDnok, niCzqvNs2...  [EpKYNatgiA, 1pSekv8tDk]\n",
       "1  [niCzqvNs2p, kqjeGDDnok, udbz7SmUsG, cBoebS59t...  [0wvHuyIHIc, EpKYNatgiA]\n",
       "2  [S7143GMweM, 4Q1ZU3K9JG, kqjeGDDnok, niCzqvNs2...  [Y75plfloDh, 3qMFRyth3m]\n",
       "3  [niCzqvNs2p, kqjeGDDnok, WyRlkmAw6G, SykQsRCcZ...              [1pSekv8tDk]\n",
       "4  [niCzqvNs2p, kqjeGDDnok, WyRlkmAw6G, SykQsRCcZ...              [1pSekv8tDk]"
      ],
      "text/html": [
       "<div>\n",
       "<style scoped>\n",
       "    .dataframe tbody tr th:only-of-type {\n",
       "        vertical-align: middle;\n",
       "    }\n",
       "\n",
       "    .dataframe tbody tr th {\n",
       "        vertical-align: top;\n",
       "    }\n",
       "\n",
       "    .dataframe thead th {\n",
       "        text-align: right;\n",
       "    }\n",
       "</style>\n",
       "<table border=\"1\" class=\"dataframe\">\n",
       "  <thead>\n",
       "    <tr style=\"text-align: right;\">\n",
       "      <th></th>\n",
       "      <th>servicePrices</th>\n",
       "      <th>serviceCategories</th>\n",
       "    </tr>\n",
       "  </thead>\n",
       "  <tbody>\n",
       "    <tr>\n",
       "      <th>0</th>\n",
       "      <td>[S7143GMweM, 4Q1ZU3K9JG, kqjeGDDnok, niCzqvNs2...</td>\n",
       "      <td>[EpKYNatgiA, 1pSekv8tDk]</td>\n",
       "    </tr>\n",
       "    <tr>\n",
       "      <th>1</th>\n",
       "      <td>[niCzqvNs2p, kqjeGDDnok, udbz7SmUsG, cBoebS59t...</td>\n",
       "      <td>[0wvHuyIHIc, EpKYNatgiA]</td>\n",
       "    </tr>\n",
       "    <tr>\n",
       "      <th>2</th>\n",
       "      <td>[S7143GMweM, 4Q1ZU3K9JG, kqjeGDDnok, niCzqvNs2...</td>\n",
       "      <td>[Y75plfloDh, 3qMFRyth3m]</td>\n",
       "    </tr>\n",
       "    <tr>\n",
       "      <th>3</th>\n",
       "      <td>[niCzqvNs2p, kqjeGDDnok, WyRlkmAw6G, SykQsRCcZ...</td>\n",
       "      <td>[1pSekv8tDk]</td>\n",
       "    </tr>\n",
       "    <tr>\n",
       "      <th>4</th>\n",
       "      <td>[niCzqvNs2p, kqjeGDDnok, WyRlkmAw6G, SykQsRCcZ...</td>\n",
       "      <td>[1pSekv8tDk]</td>\n",
       "    </tr>\n",
       "  </tbody>\n",
       "</table>\n",
       "</div>"
      ]
     },
     "metadata": {},
     "execution_count": 10
    }
   ],
   "metadata": {}
  },
  {
   "cell_type": "markdown",
   "source": [
    "## Splitting the train and test data"
   ],
   "metadata": {}
  },
  {
   "cell_type": "markdown",
   "source": [
    "- We will order our transactions.\r\n",
    "- We then split them to leave a section of the later transactions out as our test set.\r\n",
    "- Our model is evaluated on the test to verify if the model, would have gotten their purchases correct."
   ],
   "metadata": {}
  },
  {
   "cell_type": "code",
   "execution_count": 11,
   "source": [
    "service_subscripted_df['createdAt'] = pd.to_datetime(service_subscripted_df['createdAt'])\r\n",
    "service_subscripted_df = service_subscripted_df.sort_values(by='createdAt')\r\n",
    "service_subscripted_df[['objectId', 'user', 'service', 'createdAt']].head()"
   ],
   "outputs": [
    {
     "output_type": "execute_result",
     "data": {
      "text/plain": [
       "     objectId        user     service                        createdAt\n",
       "0  CKaeuDD4Pz  Wuht2SEQKc  7m30TaadKw 2018-06-14 16:45:08.861000+00:00\n",
       "1  BF71jBseqP  Wuht2SEQKc  7m30TaadKw 2018-06-14 16:47:09.686000+00:00\n",
       "2  p28B1oCABN  Wuht2SEQKc  AuoUzp7zT5 2018-06-14 16:58:07.494000+00:00\n",
       "3  hngNyfZy40  Wuht2SEQKc  AuoUzp7zT5 2018-06-14 17:01:02.038000+00:00\n",
       "4  MNLGJSLQU3  Wuht2SEQKc  ftB5W0yalq 2018-06-14 18:42:27.391000+00:00"
      ],
      "text/html": [
       "<div>\n",
       "<style scoped>\n",
       "    .dataframe tbody tr th:only-of-type {\n",
       "        vertical-align: middle;\n",
       "    }\n",
       "\n",
       "    .dataframe tbody tr th {\n",
       "        vertical-align: top;\n",
       "    }\n",
       "\n",
       "    .dataframe thead th {\n",
       "        text-align: right;\n",
       "    }\n",
       "</style>\n",
       "<table border=\"1\" class=\"dataframe\">\n",
       "  <thead>\n",
       "    <tr style=\"text-align: right;\">\n",
       "      <th></th>\n",
       "      <th>objectId</th>\n",
       "      <th>user</th>\n",
       "      <th>service</th>\n",
       "      <th>createdAt</th>\n",
       "    </tr>\n",
       "  </thead>\n",
       "  <tbody>\n",
       "    <tr>\n",
       "      <th>0</th>\n",
       "      <td>CKaeuDD4Pz</td>\n",
       "      <td>Wuht2SEQKc</td>\n",
       "      <td>7m30TaadKw</td>\n",
       "      <td>2018-06-14 16:45:08.861000+00:00</td>\n",
       "    </tr>\n",
       "    <tr>\n",
       "      <th>1</th>\n",
       "      <td>BF71jBseqP</td>\n",
       "      <td>Wuht2SEQKc</td>\n",
       "      <td>7m30TaadKw</td>\n",
       "      <td>2018-06-14 16:47:09.686000+00:00</td>\n",
       "    </tr>\n",
       "    <tr>\n",
       "      <th>2</th>\n",
       "      <td>p28B1oCABN</td>\n",
       "      <td>Wuht2SEQKc</td>\n",
       "      <td>AuoUzp7zT5</td>\n",
       "      <td>2018-06-14 16:58:07.494000+00:00</td>\n",
       "    </tr>\n",
       "    <tr>\n",
       "      <th>3</th>\n",
       "      <td>hngNyfZy40</td>\n",
       "      <td>Wuht2SEQKc</td>\n",
       "      <td>AuoUzp7zT5</td>\n",
       "      <td>2018-06-14 17:01:02.038000+00:00</td>\n",
       "    </tr>\n",
       "    <tr>\n",
       "      <th>4</th>\n",
       "      <td>MNLGJSLQU3</td>\n",
       "      <td>Wuht2SEQKc</td>\n",
       "      <td>ftB5W0yalq</td>\n",
       "      <td>2018-06-14 18:42:27.391000+00:00</td>\n",
       "    </tr>\n",
       "  </tbody>\n",
       "</table>\n",
       "</div>"
      ]
     },
     "metadata": {},
     "execution_count": 11
    }
   ],
   "metadata": {}
  },
  {
   "cell_type": "code",
   "execution_count": 12,
   "source": [
    "print(service_subscripted_df['createdAt'].dtype)\r\n",
    "earliest_date: datetime = service_subscripted_df.iloc[0, 10]\r\n",
    "latest_date: datetime = service_subscripted_df.iloc[-1, 10]\r\n",
    "time_difference = latest_date - earliest_date\r\n",
    "print('The earliest date is: {}'.format(earliest_date))\r\n",
    "print('The latest date is: {}\\n'.format(latest_date))\r\n",
    "print('The timespan of the dataset is: {} days'.format(time_difference.days))"
   ],
   "outputs": [
    {
     "output_type": "stream",
     "name": "stdout",
     "text": [
      "datetime64[ns, UTC]\n",
      "The earliest date is: 2018-06-14 16:45:08.861000+00:00\n",
      "The latest date is: 2021-03-22 15:36:05.046000+00:00\n",
      "\n",
      "The timespan of the dataset is: 1011 days\n"
     ]
    }
   ],
   "metadata": {}
  },
  {
   "cell_type": "markdown",
   "source": [
    "The timespan corresponds to about 3 years. This means that we can consider the test set as the last year of the data while we train on the first two years.\r\n",
    "\r\n",
    "- The train set will be the first 24 months: `24 x 30 = 720` days\r\n",
    "- The test set will be the rest"
   ],
   "metadata": {}
  },
  {
   "cell_type": "code",
   "execution_count": 13,
   "source": [
    "training_split_date: datetime = earliest_date + timedelta(days=720)\r\n",
    "train_set = service_subscripted_df[service_subscripted_df['createdAt'] < training_split_date]\r\n",
    "test_set = service_subscripted_df[service_subscripted_df['createdAt'] >= training_split_date]"
   ],
   "outputs": [],
   "metadata": {}
  },
  {
   "cell_type": "code",
   "execution_count": 14,
   "source": [
    "train_set[['objectId', 'user', 'service', 'createdAt']].head()"
   ],
   "outputs": [
    {
     "output_type": "execute_result",
     "data": {
      "text/plain": [
       "     objectId        user     service                        createdAt\n",
       "0  CKaeuDD4Pz  Wuht2SEQKc  7m30TaadKw 2018-06-14 16:45:08.861000+00:00\n",
       "1  BF71jBseqP  Wuht2SEQKc  7m30TaadKw 2018-06-14 16:47:09.686000+00:00\n",
       "2  p28B1oCABN  Wuht2SEQKc  AuoUzp7zT5 2018-06-14 16:58:07.494000+00:00\n",
       "3  hngNyfZy40  Wuht2SEQKc  AuoUzp7zT5 2018-06-14 17:01:02.038000+00:00\n",
       "4  MNLGJSLQU3  Wuht2SEQKc  ftB5W0yalq 2018-06-14 18:42:27.391000+00:00"
      ],
      "text/html": [
       "<div>\n",
       "<style scoped>\n",
       "    .dataframe tbody tr th:only-of-type {\n",
       "        vertical-align: middle;\n",
       "    }\n",
       "\n",
       "    .dataframe tbody tr th {\n",
       "        vertical-align: top;\n",
       "    }\n",
       "\n",
       "    .dataframe thead th {\n",
       "        text-align: right;\n",
       "    }\n",
       "</style>\n",
       "<table border=\"1\" class=\"dataframe\">\n",
       "  <thead>\n",
       "    <tr style=\"text-align: right;\">\n",
       "      <th></th>\n",
       "      <th>objectId</th>\n",
       "      <th>user</th>\n",
       "      <th>service</th>\n",
       "      <th>createdAt</th>\n",
       "    </tr>\n",
       "  </thead>\n",
       "  <tbody>\n",
       "    <tr>\n",
       "      <th>0</th>\n",
       "      <td>CKaeuDD4Pz</td>\n",
       "      <td>Wuht2SEQKc</td>\n",
       "      <td>7m30TaadKw</td>\n",
       "      <td>2018-06-14 16:45:08.861000+00:00</td>\n",
       "    </tr>\n",
       "    <tr>\n",
       "      <th>1</th>\n",
       "      <td>BF71jBseqP</td>\n",
       "      <td>Wuht2SEQKc</td>\n",
       "      <td>7m30TaadKw</td>\n",
       "      <td>2018-06-14 16:47:09.686000+00:00</td>\n",
       "    </tr>\n",
       "    <tr>\n",
       "      <th>2</th>\n",
       "      <td>p28B1oCABN</td>\n",
       "      <td>Wuht2SEQKc</td>\n",
       "      <td>AuoUzp7zT5</td>\n",
       "      <td>2018-06-14 16:58:07.494000+00:00</td>\n",
       "    </tr>\n",
       "    <tr>\n",
       "      <th>3</th>\n",
       "      <td>hngNyfZy40</td>\n",
       "      <td>Wuht2SEQKc</td>\n",
       "      <td>AuoUzp7zT5</td>\n",
       "      <td>2018-06-14 17:01:02.038000+00:00</td>\n",
       "    </tr>\n",
       "    <tr>\n",
       "      <th>4</th>\n",
       "      <td>MNLGJSLQU3</td>\n",
       "      <td>Wuht2SEQKc</td>\n",
       "      <td>ftB5W0yalq</td>\n",
       "      <td>2018-06-14 18:42:27.391000+00:00</td>\n",
       "    </tr>\n",
       "  </tbody>\n",
       "</table>\n",
       "</div>"
      ]
     },
     "metadata": {},
     "execution_count": 14
    }
   ],
   "metadata": {}
  },
  {
   "cell_type": "markdown",
   "source": [
    "## Grouping and Joining the data"
   ],
   "metadata": {}
  },
  {
   "cell_type": "markdown",
   "source": [
    "- We join the service_subscripted_df with the service_df to get the service information.\r\n",
    "- Before joining, we group by user and service to get the number of times a user has subscribed to a product."
   ],
   "metadata": {}
  },
  {
   "cell_type": "code",
   "execution_count": 15,
   "source": [
    "train_subscribe_count = train_set.groupby(['user', 'service'], as_index=False).size()\r\n",
    "test_subscribe_count = test_set.groupby(['user', 'service'], as_index=False).size()\r\n",
    "\r\n",
    "train_subscribe_count.head()"
   ],
   "outputs": [
    {
     "output_type": "execute_result",
     "data": {
      "text/plain": [
       "         user     service  size\n",
       "0  0ULHUAAtf3  07s0zeZYjN    53\n",
       "1  0ULHUAAtf3  1VPS3tlcBE     3\n",
       "2  0ULHUAAtf3  1wjtGuM9P1    10\n",
       "3  0ULHUAAtf3  2TklcqXBtG     1\n",
       "4  0ULHUAAtf3  41SOBgfSTA     8"
      ],
      "text/html": [
       "<div>\n",
       "<style scoped>\n",
       "    .dataframe tbody tr th:only-of-type {\n",
       "        vertical-align: middle;\n",
       "    }\n",
       "\n",
       "    .dataframe tbody tr th {\n",
       "        vertical-align: top;\n",
       "    }\n",
       "\n",
       "    .dataframe thead th {\n",
       "        text-align: right;\n",
       "    }\n",
       "</style>\n",
       "<table border=\"1\" class=\"dataframe\">\n",
       "  <thead>\n",
       "    <tr style=\"text-align: right;\">\n",
       "      <th></th>\n",
       "      <th>user</th>\n",
       "      <th>service</th>\n",
       "      <th>size</th>\n",
       "    </tr>\n",
       "  </thead>\n",
       "  <tbody>\n",
       "    <tr>\n",
       "      <th>0</th>\n",
       "      <td>0ULHUAAtf3</td>\n",
       "      <td>07s0zeZYjN</td>\n",
       "      <td>53</td>\n",
       "    </tr>\n",
       "    <tr>\n",
       "      <th>1</th>\n",
       "      <td>0ULHUAAtf3</td>\n",
       "      <td>1VPS3tlcBE</td>\n",
       "      <td>3</td>\n",
       "    </tr>\n",
       "    <tr>\n",
       "      <th>2</th>\n",
       "      <td>0ULHUAAtf3</td>\n",
       "      <td>1wjtGuM9P1</td>\n",
       "      <td>10</td>\n",
       "    </tr>\n",
       "    <tr>\n",
       "      <th>3</th>\n",
       "      <td>0ULHUAAtf3</td>\n",
       "      <td>2TklcqXBtG</td>\n",
       "      <td>1</td>\n",
       "    </tr>\n",
       "    <tr>\n",
       "      <th>4</th>\n",
       "      <td>0ULHUAAtf3</td>\n",
       "      <td>41SOBgfSTA</td>\n",
       "      <td>8</td>\n",
       "    </tr>\n",
       "  </tbody>\n",
       "</table>\n",
       "</div>"
      ]
     },
     "metadata": {},
     "execution_count": 15
    }
   ],
   "metadata": {}
  },
  {
   "cell_type": "code",
   "execution_count": 16,
   "source": [
    "train_data = train_subscribe_count[['user', 'service', 'size']].join(service_df[['objectId', 'serviceCategories', 'servicePrices', 'name',\r\n",
    "            'task_name', 'keywordServiceCategories', 'description', 'haveAndroidApp', 'haveIOSApp']].set_index('objectId'), on='service', how='left')\r\n",
    "            \r\n",
    "test_data = test_subscribe_count[['user', 'service', 'size']].join(service_df[['objectId', 'serviceCategories', 'servicePrices', 'name',\r\n",
    "            'task_name', 'keywordServiceCategories', 'description', 'haveAndroidApp', 'haveIOSApp']].set_index('objectId'), on='service', how='left')"
   ],
   "outputs": [],
   "metadata": {}
  },
  {
   "cell_type": "code",
   "execution_count": 17,
   "source": [
    "train_data.head()"
   ],
   "outputs": [
    {
     "output_type": "execute_result",
     "data": {
      "text/plain": [
       "         user     service  size         serviceCategories  \\\n",
       "0  0ULHUAAtf3  07s0zeZYjN    53                      None   \n",
       "1  0ULHUAAtf3  1VPS3tlcBE     3                       NaN   \n",
       "2  0ULHUAAtf3  1wjtGuM9P1    10              [1pSekv8tDk]   \n",
       "3  0ULHUAAtf3  2TklcqXBtG     1  [Y75plfloDh, 3qMFRyth3m]   \n",
       "4  0ULHUAAtf3  41SOBgfSTA     8              [HMFAL7N1yK]   \n",
       "\n",
       "                                       servicePrices                    name  \\\n",
       "0                                               None             Domain Name   \n",
       "1                                                NaN                     NaN   \n",
       "2  [niCzqvNs2p, kqjeGDDnok, WyRlkmAw6G, SykQsRCcZ...                  Drupal   \n",
       "3  [niCzqvNs2p, kqjeGDDnok, udbz7SmUsG, cBoebS59t...               MediaWiki   \n",
       "4  [prBlW9GMpA, CuYOUoKqX0, 0eSSww5jud, yMmOf4BEC...  Virtual Private Server   \n",
       "\n",
       "   task_name                       keywordServiceCategories  \\\n",
       "0        dns                                            NaN   \n",
       "1        NaN                                            NaN   \n",
       "2     drupal            ['content', 'management', 'system']   \n",
       "3  mediawiki  ['software', 'development', 'devops', 'tool']   \n",
       "4       vps                ['virtual', 'private', 'server']   \n",
       "\n",
       "                                         description haveAndroidApp haveIOSApp  \n",
       "0  The Domain Name System (DNS) is a hierarchical...            NaN        NaN  \n",
       "1                                                NaN            NaN        NaN  \n",
       "2  Drupal is a popular CMS software, based on har...          False      False  \n",
       "3  MediaWiki is a collaboration and documentation...          False      False  \n",
       "4                                    Vps description            NaN        NaN  "
      ],
      "text/html": [
       "<div>\n",
       "<style scoped>\n",
       "    .dataframe tbody tr th:only-of-type {\n",
       "        vertical-align: middle;\n",
       "    }\n",
       "\n",
       "    .dataframe tbody tr th {\n",
       "        vertical-align: top;\n",
       "    }\n",
       "\n",
       "    .dataframe thead th {\n",
       "        text-align: right;\n",
       "    }\n",
       "</style>\n",
       "<table border=\"1\" class=\"dataframe\">\n",
       "  <thead>\n",
       "    <tr style=\"text-align: right;\">\n",
       "      <th></th>\n",
       "      <th>user</th>\n",
       "      <th>service</th>\n",
       "      <th>size</th>\n",
       "      <th>serviceCategories</th>\n",
       "      <th>servicePrices</th>\n",
       "      <th>name</th>\n",
       "      <th>task_name</th>\n",
       "      <th>keywordServiceCategories</th>\n",
       "      <th>description</th>\n",
       "      <th>haveAndroidApp</th>\n",
       "      <th>haveIOSApp</th>\n",
       "    </tr>\n",
       "  </thead>\n",
       "  <tbody>\n",
       "    <tr>\n",
       "      <th>0</th>\n",
       "      <td>0ULHUAAtf3</td>\n",
       "      <td>07s0zeZYjN</td>\n",
       "      <td>53</td>\n",
       "      <td>None</td>\n",
       "      <td>None</td>\n",
       "      <td>Domain Name</td>\n",
       "      <td>dns</td>\n",
       "      <td>NaN</td>\n",
       "      <td>The Domain Name System (DNS) is a hierarchical...</td>\n",
       "      <td>NaN</td>\n",
       "      <td>NaN</td>\n",
       "    </tr>\n",
       "    <tr>\n",
       "      <th>1</th>\n",
       "      <td>0ULHUAAtf3</td>\n",
       "      <td>1VPS3tlcBE</td>\n",
       "      <td>3</td>\n",
       "      <td>NaN</td>\n",
       "      <td>NaN</td>\n",
       "      <td>NaN</td>\n",
       "      <td>NaN</td>\n",
       "      <td>NaN</td>\n",
       "      <td>NaN</td>\n",
       "      <td>NaN</td>\n",
       "      <td>NaN</td>\n",
       "    </tr>\n",
       "    <tr>\n",
       "      <th>2</th>\n",
       "      <td>0ULHUAAtf3</td>\n",
       "      <td>1wjtGuM9P1</td>\n",
       "      <td>10</td>\n",
       "      <td>[1pSekv8tDk]</td>\n",
       "      <td>[niCzqvNs2p, kqjeGDDnok, WyRlkmAw6G, SykQsRCcZ...</td>\n",
       "      <td>Drupal</td>\n",
       "      <td>drupal</td>\n",
       "      <td>['content', 'management', 'system']</td>\n",
       "      <td>Drupal is a popular CMS software, based on har...</td>\n",
       "      <td>False</td>\n",
       "      <td>False</td>\n",
       "    </tr>\n",
       "    <tr>\n",
       "      <th>3</th>\n",
       "      <td>0ULHUAAtf3</td>\n",
       "      <td>2TklcqXBtG</td>\n",
       "      <td>1</td>\n",
       "      <td>[Y75plfloDh, 3qMFRyth3m]</td>\n",
       "      <td>[niCzqvNs2p, kqjeGDDnok, udbz7SmUsG, cBoebS59t...</td>\n",
       "      <td>MediaWiki</td>\n",
       "      <td>mediawiki</td>\n",
       "      <td>['software', 'development', 'devops', 'tool']</td>\n",
       "      <td>MediaWiki is a collaboration and documentation...</td>\n",
       "      <td>False</td>\n",
       "      <td>False</td>\n",
       "    </tr>\n",
       "    <tr>\n",
       "      <th>4</th>\n",
       "      <td>0ULHUAAtf3</td>\n",
       "      <td>41SOBgfSTA</td>\n",
       "      <td>8</td>\n",
       "      <td>[HMFAL7N1yK]</td>\n",
       "      <td>[prBlW9GMpA, CuYOUoKqX0, 0eSSww5jud, yMmOf4BEC...</td>\n",
       "      <td>Virtual Private Server</td>\n",
       "      <td>vps</td>\n",
       "      <td>['virtual', 'private', 'server']</td>\n",
       "      <td>Vps description</td>\n",
       "      <td>NaN</td>\n",
       "      <td>NaN</td>\n",
       "    </tr>\n",
       "  </tbody>\n",
       "</table>\n",
       "</div>"
      ]
     },
     "metadata": {},
     "execution_count": 17
    }
   ],
   "metadata": {}
  },
  {
   "cell_type": "code",
   "execution_count": 18,
   "source": [
    "train_data[train_data['user'] == 'Wuht2SEQKc'][['service', 'size']].sort_values(by='size', ascending=False).head()"
   ],
   "outputs": [
    {
     "output_type": "execute_result",
     "data": {
      "text/plain": [
       "        service  size\n",
       "195  07s0zeZYjN   103\n",
       "219  Nd3our0ZjN    55\n",
       "199  41SOBgfSTA    42\n",
       "207  AuoUzp7zT5    26\n",
       "198  2TklcqXBtG    16"
      ],
      "text/html": [
       "<div>\n",
       "<style scoped>\n",
       "    .dataframe tbody tr th:only-of-type {\n",
       "        vertical-align: middle;\n",
       "    }\n",
       "\n",
       "    .dataframe tbody tr th {\n",
       "        vertical-align: top;\n",
       "    }\n",
       "\n",
       "    .dataframe thead th {\n",
       "        text-align: right;\n",
       "    }\n",
       "</style>\n",
       "<table border=\"1\" class=\"dataframe\">\n",
       "  <thead>\n",
       "    <tr style=\"text-align: right;\">\n",
       "      <th></th>\n",
       "      <th>service</th>\n",
       "      <th>size</th>\n",
       "    </tr>\n",
       "  </thead>\n",
       "  <tbody>\n",
       "    <tr>\n",
       "      <th>195</th>\n",
       "      <td>07s0zeZYjN</td>\n",
       "      <td>103</td>\n",
       "    </tr>\n",
       "    <tr>\n",
       "      <th>219</th>\n",
       "      <td>Nd3our0ZjN</td>\n",
       "      <td>55</td>\n",
       "    </tr>\n",
       "    <tr>\n",
       "      <th>199</th>\n",
       "      <td>41SOBgfSTA</td>\n",
       "      <td>42</td>\n",
       "    </tr>\n",
       "    <tr>\n",
       "      <th>207</th>\n",
       "      <td>AuoUzp7zT5</td>\n",
       "      <td>26</td>\n",
       "    </tr>\n",
       "    <tr>\n",
       "      <th>198</th>\n",
       "      <td>2TklcqXBtG</td>\n",
       "      <td>16</td>\n",
       "    </tr>\n",
       "  </tbody>\n",
       "</table>\n",
       "</div>"
      ]
     },
     "metadata": {},
     "execution_count": 18
    }
   ],
   "metadata": {}
  },
  {
   "cell_type": "code",
   "execution_count": 19,
   "source": [
    "test_user = train_data[train_data['user'] == 'Wuht2SEQKc'][['service', 'size']].sort_values(by='size', ascending=False)\r\n",
    "plt.plot(test_user['service'].values, test_user['size'])"
   ],
   "outputs": [
    {
     "output_type": "execute_result",
     "data": {
      "text/plain": [
       "[<matplotlib.lines.Line2D at 0x248af2de9a0>]"
      ]
     },
     "metadata": {},
     "execution_count": 19
    },
    {
     "output_type": "display_data",
     "data": {
      "text/plain": [
       "<Figure size 432x288 with 1 Axes>"
      ],
      "image/png": "[encoded data removed]"
     },
     "metadata": {
      "needs_background": "light"
     }
    }
   ],
   "metadata": {}
  },
  {
   "cell_type": "markdown",
   "source": [
    "The user with that particular ID has used multiple services a certain number of times. This will count as our implicit feedback\r\n",
    "\r\n",
    "The number of times a user has subscribed to a particular services seems to be exponential."
   ],
   "metadata": {}
  },
  {
   "cell_type": "code",
   "execution_count": 20,
   "source": [
    "train_data[train_data['service'] == '07s0zeZYjN'][['user', 'size']].sort_values(by='size', ascending=False).head()"
   ],
   "outputs": [
    {
     "output_type": "execute_result",
     "data": {
      "text/plain": [
       "           user  size\n",
       "195  Wuht2SEQKc   103\n",
       "0    0ULHUAAtf3    53\n",
       "67   4J60SXAGWB    50\n",
       "136  JVEJq4hHlI    42\n",
       "260  jzl9egzBnk    15"
      ],
      "text/html": [
       "<div>\n",
       "<style scoped>\n",
       "    .dataframe tbody tr th:only-of-type {\n",
       "        vertical-align: middle;\n",
       "    }\n",
       "\n",
       "    .dataframe tbody tr th {\n",
       "        vertical-align: top;\n",
       "    }\n",
       "\n",
       "    .dataframe thead th {\n",
       "        text-align: right;\n",
       "    }\n",
       "</style>\n",
       "<table border=\"1\" class=\"dataframe\">\n",
       "  <thead>\n",
       "    <tr style=\"text-align: right;\">\n",
       "      <th></th>\n",
       "      <th>user</th>\n",
       "      <th>size</th>\n",
       "    </tr>\n",
       "  </thead>\n",
       "  <tbody>\n",
       "    <tr>\n",
       "      <th>195</th>\n",
       "      <td>Wuht2SEQKc</td>\n",
       "      <td>103</td>\n",
       "    </tr>\n",
       "    <tr>\n",
       "      <th>0</th>\n",
       "      <td>0ULHUAAtf3</td>\n",
       "      <td>53</td>\n",
       "    </tr>\n",
       "    <tr>\n",
       "      <th>67</th>\n",
       "      <td>4J60SXAGWB</td>\n",
       "      <td>50</td>\n",
       "    </tr>\n",
       "    <tr>\n",
       "      <th>136</th>\n",
       "      <td>JVEJq4hHlI</td>\n",
       "      <td>42</td>\n",
       "    </tr>\n",
       "    <tr>\n",
       "      <th>260</th>\n",
       "      <td>jzl9egzBnk</td>\n",
       "      <td>15</td>\n",
       "    </tr>\n",
       "  </tbody>\n",
       "</table>\n",
       "</div>"
      ]
     },
     "metadata": {},
     "execution_count": 20
    }
   ],
   "metadata": {}
  },
  {
   "cell_type": "code",
   "execution_count": 21,
   "source": [
    "test_service = train_data[train_data['service'] == '07s0zeZYjN'][['user', 'size']].sort_values(by='size', ascending=False)\r\n",
    "plt.plot(test_service['user'].values, test_service['size'].values)"
   ],
   "outputs": [
    {
     "output_type": "execute_result",
     "data": {
      "text/plain": [
       "[<matplotlib.lines.Line2D at 0x248b1447310>]"
      ]
     },
     "metadata": {},
     "execution_count": 21
    },
    {
     "output_type": "display_data",
     "data": {
      "text/plain": [
       "<Figure size 432x288 with 1 Axes>"
      ],
      "image/png": "[encoded data removed]"
     },
     "metadata": {
      "needs_background": "light"
     }
    }
   ],
   "metadata": {}
  },
  {
   "cell_type": "markdown",
   "source": [
    "The curve for the number of times a service has been used has a similar shape"
   ],
   "metadata": {}
  },
  {
   "cell_type": "markdown",
   "source": [
    "## Evaluation functions"
   ],
   "metadata": {}
  },
  {
   "cell_type": "markdown",
   "source": [
    "### Recall at N"
   ],
   "metadata": {}
  },
  {
   "cell_type": "markdown",
   "source": [
    "For $N$ items recommended to a user, let $m$ be the number of relevant items in the list of $N$ items recommended and $M$ be the total number of relevant items. We have the **recall at N** to be,\r\n",
    "$\r\n",
    "recall\\ at\\ N = \\frac m M\r\n",
    "$"
   ],
   "metadata": {}
  },
  {
   "cell_type": "code",
   "execution_count": 22,
   "source": [
    "def recall_at_N(rankings: Dict[str, list], test_count: pd.DataFrame, N: int = 20):\r\n",
    "    recall_sum = 0\r\n",
    "    for user in rankings.keys():\r\n",
    "        recommendations = rankings[user][:N] # We get the first N items from the ranked list\r\n",
    "        relevant_items: list = test_count[test_count['user'] == user].sort_values(by='size', ascending=False)['service'].values\r\n",
    "        relevant_recommendations = list(set(recommendations) & set(relevant_items))\r\n",
    "        recall = len(relevant_recommendations)/len(relevant_items)\r\n",
    "        recall_sum += recall\r\n",
    "\r\n",
    "    mean_recall = recall_sum / len(rankings.keys())\r\n",
    "    return mean_recall * 100"
   ],
   "outputs": [],
   "metadata": {}
  },
  {
   "cell_type": "markdown",
   "source": [
    "### Rank"
   ],
   "metadata": {}
  },
  {
   "cell_type": "markdown",
   "source": [
    "This is a measure that takes into account the order in which the items have been recommended.\r\n",
    "\r\n",
    "We denote by $rank_{ui}$ the percentile rank of the item $i$ within the ordered list of all items prepared for user $u$. \r\n",
    "\r\n",
    "This implies that $rank_{ui} = 0\\%$ would mean item $i$ is predicted to be the most desirable for user $u$ being in the first position.\r\n",
    "\r\n",
    "On the other hand, $rank_{ui} = 100\\%$ means item $i$ is predicted to be the least desirable for user $u$ being in the last position.\r\n",
    "\r\n",
    "Percentile ranks instead of absolute ranks are used to make sure the score is independent of the number of items, which is variable.\r\n",
    "\r\n",
    "The measure is basically the expected percentile ranking of an item during the test period.\r\n",
    "\r\n",
    "Let $r_{ui}^t$ be the rating of item $i$ for user $u$ during the test period. Then the measure is calculated as follows:\r\n",
    "\r\n",
    "$\r\n",
    "rank = \\frac {\\sum_{ui} r_{ui}^t rank_{ui}} {\\sum_{ui} r_{ui}^t}\r\n",
    "$"
   ],
   "metadata": {}
  },
  {
   "cell_type": "markdown",
   "source": [
    "We will use a modified version to compute the rank_score at $N$. We will calculate the expected percentile ranking of items only in the first $N$ ranked items."
   ],
   "metadata": {}
  },
  {
   "cell_type": "code",
   "execution_count": 23,
   "source": [
    "def rank_score(rankings: Dict[str, list], test_count: pd.DataFrame, N: int = 20):\r\n",
    "    rank_sum = 0\r\n",
    "    rating_sum = 0\r\n",
    "    for user in rankings.keys():\r\n",
    "        # print(len(rankings[user]))\r\n",
    "        for (index, item) in enumerate(rankings[user]):\r\n",
    "            if(index >= N): break\r\n",
    "            rank_ui:float =  (index / len(rankings[user])) * 100\r\n",
    "            rating_ui:int = test_count[(test_count['user'] == user) & (test_count['service'] == item)]['size'].values\r\n",
    "            if(len(rating_ui) <= 0): rating_ui = 0\r\n",
    "            else: rating_ui = rating_ui[0]\r\n",
    "            rank_sum += rank_ui*rating_ui\r\n",
    "            rating_sum += rating_ui\r\n",
    "\r\n",
    "    expected_rank = rank_sum/rating_sum\r\n",
    "    return expected_rank"
   ],
   "outputs": [],
   "metadata": {}
  },
  {
   "cell_type": "markdown",
   "source": [
    "## Reading data"
   ],
   "metadata": {}
  },
  {
   "cell_type": "code",
   "execution_count": 24,
   "source": [
    "reader = surprise.Reader(rating_scale=(0, 103))\r\n",
    "train_dataset = surprise.Dataset.load_from_df(train_data[['user', 'service', 'size']], reader)"
   ],
   "outputs": [],
   "metadata": {}
  },
  {
   "cell_type": "markdown",
   "source": [
    "## Baseline Models"
   ],
   "metadata": {}
  },
  {
   "cell_type": "markdown",
   "source": [
    "### Base Model"
   ],
   "metadata": {}
  },
  {
   "cell_type": "markdown",
   "source": [
    "We start by defining a base Model that has functions for instanciating and evaluating the models. Any other functions common to all models will be put here."
   ],
   "metadata": {}
  },
  {
   "cell_type": "code",
   "execution_count": 25,
   "source": [
    "class BaseModel:\r\n",
    "    def __init__(self, train_count: pd.DataFrame, test_count: pd.DataFrame):\r\n",
    "        self.train_count = train_count\r\n",
    "        self.test_count = test_count\r\n",
    "        self.rankings = None\r\n",
    "\r\n",
    "    def rank_items(self):\r\n",
    "        pass\r\n",
    "\r\n",
    "    def evaluate_recall(self, rankings: Dict[str, list], N: int = 20, on_train: bool = False):\r\n",
    "        if(rankings is None): raise Exception('Rankings cannot be None')\r\n",
    "        else: return recall_at_N(rankings=rankings, test_count=self.train_count if on_train else self.test_count, N=N)\r\n",
    "\r\n",
    "    def evaluate_rank(self, rankings: Dict[str, list], on_train: bool = False, N:int = 20):\r\n",
    "        if(rankings is None): raise Exception('Rankings cannot be None')\r\n",
    "        else: return rank_score(rankings=rankings, test_count=self.train_count if on_train else self.test_count, N=N)"
   ],
   "outputs": [],
   "metadata": {}
  },
  {
   "cell_type": "markdown",
   "source": [
    "### Random model"
   ],
   "metadata": {}
  },
  {
   "cell_type": "markdown",
   "source": [
    "This model randomly recommends $N$ items to each of the users."
   ],
   "metadata": {}
  },
  {
   "cell_type": "markdown",
   "source": [
    "#### Building the model"
   ],
   "metadata": {}
  },
  {
   "cell_type": "code",
   "execution_count": 26,
   "source": [
    "class RandomModel(BaseModel):\r\n",
    "    def rank_items(self):\r\n",
    "        users = self.train_count['user'].unique()\r\n",
    "        items = self.train_count['service'].unique()\r\n",
    "        rankings: Dict[str, list] = {}\r\n",
    "        for user in users:\r\n",
    "            random.shuffle(items)\r\n",
    "            rankings[user] = items\r\n",
    "        return rankings"
   ],
   "outputs": [],
   "metadata": {}
  },
  {
   "cell_type": "code",
   "execution_count": 27,
   "source": [
    "class SurpriseRandomModel(surprise.NormalPredictor):\r\n",
    "    def rank_items(self, users: list, items: list):\r\n",
    "        rankings: Dict[str, list] = {}\r\n",
    "        for user in users:\r\n",
    "            ranking_list = [self.predict(user, item, clip=False) for item in items]\r\n",
    "            rankings_df = pd.DataFrame({\r\n",
    "                'item': items,\r\n",
    "                'ranking': ranking_list\r\n",
    "            })\r\n",
    "            rankings[user] = rankings_df.sort_values(by='ranking')['item'].values\r\n",
    "        return rankings"
   ],
   "outputs": [],
   "metadata": {}
  },
  {
   "cell_type": "markdown",
   "source": [
    "#### Evaluating the model"
   ],
   "metadata": {}
  },
  {
   "cell_type": "code",
   "execution_count": 28,
   "source": [
    "random_model = RandomModel(train_count=train_data, test_count=test_data)\r\n",
    "surprise_random_model = SurpriseRandomModel()\r\n",
    "surprise_random_model.fit(train_dataset.build_full_trainset())\r\n",
    "random_rankings = random_model.rank_items()\r\n",
    "surprise_random_rankings = surprise_random_model.rank_items(users=train_data['user'].unique(), items=train_data['service'].unique())"
   ],
   "outputs": [],
   "metadata": {}
  },
  {
   "cell_type": "code",
   "execution_count": 29,
   "source": [
    "num_services = len(train_data['service'].values)\r\n",
    "random_rank_score = random_model.evaluate_rank(rankings=random_rankings, on_train=True, N=num_services)\r\n",
    "surprise_random_rank_score = rank_score(rankings=surprise_random_rankings, test_count=train_data, N=num_services)"
   ],
   "outputs": [],
   "metadata": {}
  },
  {
   "cell_type": "code",
   "execution_count": 30,
   "source": [
    "print('The rank score for the random model is {} %'.format(random_rank_score))\r\n",
    "print('The rank score for the surprise random model is {} %'.format(surprise_random_rank_score))"
   ],
   "outputs": [
    {
     "output_type": "stream",
     "name": "stdout",
     "text": [
      "The rank score for the random model is 55.54774832321941 %\n",
      "The rank score for the surprise random model is 34.769509208985404 %\n"
     ]
    }
   ],
   "metadata": {}
  },
  {
   "cell_type": "markdown",
   "source": [
    "The rank score for the random is quite correct, since it is normally supposed to be about 50%\r\n",
    "\r\n",
    "The rank score for the surprise module is lower, possibly due to the fact that it uses a normal distribution."
   ],
   "metadata": {}
  },
  {
   "cell_type": "code",
   "execution_count": 31,
   "source": [
    "random_recall = random_model.evaluate_recall(rankings=random_rankings, N=40, on_train=True)\r\n",
    "surprise_random_recall = recall_at_N(rankings=surprise_random_rankings, N=40, test_count=train_data)"
   ],
   "outputs": [],
   "metadata": {}
  },
  {
   "cell_type": "code",
   "execution_count": 32,
   "source": [
    "print('The recall score for the random model is {} %'.format(random_recall))\r\n",
    "print('The recall score for the surprise random model is {} %'.format(surprise_random_recall))"
   ],
   "outputs": [
    {
     "output_type": "stream",
     "name": "stdout",
     "text": [
      "The recall score for the random model is 61.715911684482535 %\n",
      "The recall score for the surprise random model is 73.79597856738056 %\n"
     ]
    }
   ],
   "metadata": {}
  },
  {
   "cell_type": "markdown",
   "source": [
    "### Global Popularity based model"
   ],
   "metadata": {}
  },
  {
   "cell_type": "markdown",
   "source": [
    "This model simply consists of recommending the $N$ most popular items to every user."
   ],
   "metadata": {}
  },
  {
   "cell_type": "markdown",
   "source": [
    "#### Building model"
   ],
   "metadata": {}
  },
  {
   "cell_type": "code",
   "execution_count": 33,
   "source": [
    "class PopularityModel(BaseModel):\r\n",
    "    def rank_items(self):\r\n",
    "        users = self.train_count['user'].unique()\r\n",
    "        global_item_count = self.train_count.groupby(by='service', as_index=False).sum().sort_values(by='size', ascending=False)\r\n",
    "        rankings: Dict[str, list] = {}\r\n",
    "        for user in users:\r\n",
    "            rankings[user] = global_item_count['service'].values\r\n",
    "        return rankings    "
   ],
   "outputs": [],
   "metadata": {}
  },
  {
   "cell_type": "markdown",
   "source": [
    "#### Evaluating model"
   ],
   "metadata": {}
  },
  {
   "cell_type": "code",
   "execution_count": 34,
   "source": [
    "popularity_model = PopularityModel(train_count=train_data, test_count=test_data)\r\n",
    "popularity_rankings = popularity_model.rank_items()"
   ],
   "outputs": [],
   "metadata": {}
  },
  {
   "cell_type": "code",
   "execution_count": 35,
   "source": [
    "num_services = len(train_data['service'].values)\r\n",
    "popularity_rank_score = popularity_model.evaluate_rank(rankings=popularity_rankings, on_train=True, N=num_services)"
   ],
   "outputs": [],
   "metadata": {}
  },
  {
   "cell_type": "code",
   "execution_count": 36,
   "source": [
    "print('The rank score for the popularity model is {} %'.format(popularity_rank_score))"
   ],
   "outputs": [
    {
     "output_type": "stream",
     "name": "stdout",
     "text": [
      "The rank score for the popularity model is 16.986053444054086 %\n"
     ]
    }
   ],
   "metadata": {}
  },
  {
   "cell_type": "markdown",
   "source": [
    "The rank score has improved from the random model which was at about 50% to about 17%"
   ],
   "metadata": {}
  },
  {
   "cell_type": "code",
   "execution_count": 37,
   "source": [
    "popularity_recall = popularity_model.evaluate_recall(rankings=popularity_rankings, N=40, on_train=True)"
   ],
   "outputs": [],
   "metadata": {}
  },
  {
   "cell_type": "code",
   "execution_count": 38,
   "source": [
    "print('The recall for the popularity model is {} %'.format(popularity_recall))"
   ],
   "outputs": [
    {
     "output_type": "stream",
     "name": "stdout",
     "text": [
      "The recall for the popularity model is 92.70480282918193 %\n"
     ]
    }
   ],
   "metadata": {}
  },
  {
   "cell_type": "markdown",
   "source": [
    "We see an increase in recall from the random model even thought high recall doesn't necessarily imply a good performing model."
   ],
   "metadata": {}
  },
  {
   "cell_type": "markdown",
   "source": [
    "### Global Baseline model"
   ],
   "metadata": {}
  },
  {
   "cell_type": "markdown",
   "source": [
    "#### Theoritical concept"
   ],
   "metadata": {}
  },
  {
   "cell_type": "markdown",
   "source": [
    "This model encapsulates all the effects that do not involve user-item interaction.\r\n",
    "\r\n",
    "We denote $\\mu$ the overall average. A baseline prediction for an unknown item $i$ by a user $u$ will be denoted by $b_{ui}$ and accounts for the user and the item effects:\r\n",
    "\r\n",
    "$\r\n",
    "b_{ui} = \\mu + b_u + b_i\r\n",
    "$\r\n"
   ],
   "metadata": {}
  },
  {
   "cell_type": "markdown",
   "source": [
    "The parameters $b_u$ and $b_i$ indicate the observed deviations of user $u$ and item $i$ respectively, from the average. In order to estimate $b_u$ and $b_i$, we will solve the least squares problem:\r\n",
    "$\r\n",
    "\\min_{b_*} \\sum_{(u, i) \\in \\Kappa} {(r_{ui} - \\mu - b_u - b_i)^2} + \\lambda_1(\\sum_u {b_u^2} + \\sum_i {b_i^2})\r\n",
    "$\r\n",
    "The regularization term avoids overfitting."
   ],
   "metadata": {}
  },
  {
   "cell_type": "code",
   "execution_count": 39,
   "source": [
    "class SurpriseGlobalBaselineModel(surprise.BaselineOnly):\r\n",
    "    def rank_items(self, users: list, items: list):\r\n",
    "        rankings: Dict[str, list] = {}\r\n",
    "        for user in users:\r\n",
    "            ranking_list = [self.predict(user, item, clip=False) for item in items]\r\n",
    "            rankings_df = pd.DataFrame({\r\n",
    "                'item': items,\r\n",
    "                'ranking': ranking_list\r\n",
    "            })\r\n",
    "            rankings[user] = rankings_df.sort_values(by='ranking')['item'].values\r\n",
    "        return rankings"
   ],
   "outputs": [],
   "metadata": {}
  },
  {
   "cell_type": "markdown",
   "source": [
    "#### Evaluating model"
   ],
   "metadata": {}
  },
  {
   "cell_type": "code",
   "execution_count": 40,
   "source": [
    "global_baseline_model = SurpriseGlobalBaselineModel()\r\n",
    "global_baseline_model.fit(train_dataset.build_full_trainset())\r\n",
    "global_baseline_rankings = global_baseline_model.rank_items(users=train_data['user'].unique(), items=train_data['service'].unique())"
   ],
   "outputs": [
    {
     "output_type": "stream",
     "name": "stdout",
     "text": [
      "Estimating biases using als...\n"
     ]
    }
   ],
   "metadata": {}
  },
  {
   "cell_type": "code",
   "execution_count": 41,
   "source": [
    "num_services = len(train_data['service'].values)\r\n",
    "global_baseline_rank_score = rank_score(rankings=global_baseline_rankings, test_count=train_data, N=40)"
   ],
   "outputs": [],
   "metadata": {}
  },
  {
   "cell_type": "code",
   "execution_count": 42,
   "source": [
    "print('The rank score for the global baseline model is {} %'.format(global_baseline_rank_score))"
   ],
   "outputs": [
    {
     "output_type": "stream",
     "name": "stdout",
     "text": [
      "The rank score for the global baseline model is 22.679880388472828 %\n"
     ]
    }
   ],
   "metadata": {}
  },
  {
   "cell_type": "markdown",
   "source": [
    "This is a slight improvement from the User popularity model above."
   ],
   "metadata": {}
  },
  {
   "cell_type": "code",
   "execution_count": 43,
   "source": [
    "global_baseline_recall = recall_at_N(rankings=global_baseline_rankings, test_count=train_data, N=40)"
   ],
   "outputs": [],
   "metadata": {}
  },
  {
   "cell_type": "code",
   "execution_count": 44,
   "source": [
    "print('The recall for the global baseline model is {} %'.format(global_baseline_recall))"
   ],
   "outputs": [
    {
     "output_type": "stream",
     "name": "stdout",
     "text": [
      "The recall for the global baseline model is 73.79597856738056 %\n"
     ]
    }
   ],
   "metadata": {}
  },
  {
   "cell_type": "markdown",
   "source": [
    "### Testing if order of users and services is the same as the order of their baselines\r\n",
    "\r\n",
    "And also storing the baselines"
   ],
   "metadata": {}
  },
  {
   "cell_type": "code",
   "execution_count": 45,
   "source": [
    "users: list = train_data['user'].unique()\r\n",
    "services: list = train_data['service'].unique()\r\n",
    "mean = train_data['size'].mean()\r\n",
    "\r\n",
    "# print(users)\r\n",
    "# print(services)\r\n",
    "\r\n",
    "user_index = 5\r\n",
    "item_index = 6\r\n",
    "\r\n",
    "item_baseline = global_baseline_model.bi\r\n",
    "user_baseline = global_baseline_model.bu\r\n",
    "\r\n",
    "predict1 = global_baseline_model.predict(users[user_index], services[item_index], clip=False)\r\n",
    "predict2  = mean + item_baseline[item_index] + user_baseline[user_index]\r\n",
    "\r\n",
    "print(predict1)\r\n",
    "print(predict2)"
   ],
   "outputs": [
    {
     "output_type": "stream",
     "name": "stdout",
     "text": [
      "user: 49xBwwcHpk item: 58z2G8LUxk r_ui = None   est = 3.19   {'was_impossible': False}\n",
      "3.193944011830001\n"
     ]
    }
   ],
   "metadata": {}
  },
  {
   "cell_type": "markdown",
   "source": [
    "## Collaborative models"
   ],
   "metadata": {}
  },
  {
   "cell_type": "markdown",
   "source": [
    "### Transforming training data with the baselines (To be used by ALS and Item CF models)"
   ],
   "metadata": {}
  },
  {
   "cell_type": "code",
   "execution_count": 46,
   "source": [
    "def get_baseline(row, bi: np.ndarray, bu: np.ndarray):\r\n",
    "    size = row['size']\r\n",
    "    uid: str = row['user']\r\n",
    "    iid: str = row['service']\r\n",
    "    user_index = users.tolist().index(uid)\r\n",
    "    item_index = services.tolist().index(iid)\r\n",
    "    return size - mean - bi[item_index] - bu[user_index]"
   ],
   "outputs": [],
   "metadata": {}
  },
  {
   "cell_type": "code",
   "execution_count": 47,
   "source": [
    "train_data['baseline'] = train_data.apply(get_baseline, axis=1, bi=item_baseline, bu=user_baseline)\r\n",
    "train_data[['user', 'service', 'baseline']].describe()"
   ],
   "outputs": [
    {
     "output_type": "execute_result",
     "data": {
      "text/plain": [
       "         baseline\n",
       "count  341.000000\n",
       "mean    -0.668162\n",
       "std      8.377521\n",
       "min     -9.218750\n",
       "25%     -3.590763\n",
       "50%     -1.948920\n",
       "75%     -0.434528\n",
       "max     88.802974"
      ],
      "text/html": [
       "<div>\n",
       "<style scoped>\n",
       "    .dataframe tbody tr th:only-of-type {\n",
       "        vertical-align: middle;\n",
       "    }\n",
       "\n",
       "    .dataframe tbody tr th {\n",
       "        vertical-align: top;\n",
       "    }\n",
       "\n",
       "    .dataframe thead th {\n",
       "        text-align: right;\n",
       "    }\n",
       "</style>\n",
       "<table border=\"1\" class=\"dataframe\">\n",
       "  <thead>\n",
       "    <tr style=\"text-align: right;\">\n",
       "      <th></th>\n",
       "      <th>baseline</th>\n",
       "    </tr>\n",
       "  </thead>\n",
       "  <tbody>\n",
       "    <tr>\n",
       "      <th>count</th>\n",
       "      <td>341.000000</td>\n",
       "    </tr>\n",
       "    <tr>\n",
       "      <th>mean</th>\n",
       "      <td>-0.668162</td>\n",
       "    </tr>\n",
       "    <tr>\n",
       "      <th>std</th>\n",
       "      <td>8.377521</td>\n",
       "    </tr>\n",
       "    <tr>\n",
       "      <th>min</th>\n",
       "      <td>-9.218750</td>\n",
       "    </tr>\n",
       "    <tr>\n",
       "      <th>25%</th>\n",
       "      <td>-3.590763</td>\n",
       "    </tr>\n",
       "    <tr>\n",
       "      <th>50%</th>\n",
       "      <td>-1.948920</td>\n",
       "    </tr>\n",
       "    <tr>\n",
       "      <th>75%</th>\n",
       "      <td>-0.434528</td>\n",
       "    </tr>\n",
       "    <tr>\n",
       "      <th>max</th>\n",
       "      <td>88.802974</td>\n",
       "    </tr>\n",
       "  </tbody>\n",
       "</table>\n",
       "</div>"
      ]
     },
     "metadata": {},
     "execution_count": 47
    }
   ],
   "metadata": {}
  },
  {
   "cell_type": "markdown",
   "source": [
    "### Building the confidence values with baseline corrected data.\r\n",
    "The Collaborative Filtering for Implicit Feedback Datasets paper details how they used ALS for implicit feedback. They made a certain transformation to their data to use in the Alternating Least Square algorithm. The implicit python module, implements this algorithm but requires the confidence values to be calculated prior. The confidence values are derived by a function that strictly increases with $r_{ui}$. One of the functions they used was:\r\n",
    "$\r\n",
    "c_{ui} = 1 + \\alpha r_{ui}\r\n",
    "$"
   ],
   "metadata": {}
  },
  {
   "cell_type": "code",
   "execution_count": 48,
   "source": [
    "alpha = 40\r\n",
    "train_data['confidence'] = train_data['baseline'].apply(lambda baseline: 1 + (baseline*alpha))\r\n",
    "train_data[['user', 'service', 'confidence']].describe()"
   ],
   "outputs": [
    {
     "output_type": "execute_result",
     "data": {
      "text/plain": [
       "        confidence\n",
       "count   341.000000\n",
       "mean    -25.726479\n",
       "std     335.100853\n",
       "min    -367.750019\n",
       "25%    -142.630517\n",
       "50%     -76.956804\n",
       "75%     -16.381122\n",
       "max    3553.118975"
      ],
      "text/html": [
       "<div>\n",
       "<style scoped>\n",
       "    .dataframe tbody tr th:only-of-type {\n",
       "        vertical-align: middle;\n",
       "    }\n",
       "\n",
       "    .dataframe tbody tr th {\n",
       "        vertical-align: top;\n",
       "    }\n",
       "\n",
       "    .dataframe thead th {\n",
       "        text-align: right;\n",
       "    }\n",
       "</style>\n",
       "<table border=\"1\" class=\"dataframe\">\n",
       "  <thead>\n",
       "    <tr style=\"text-align: right;\">\n",
       "      <th></th>\n",
       "      <th>confidence</th>\n",
       "    </tr>\n",
       "  </thead>\n",
       "  <tbody>\n",
       "    <tr>\n",
       "      <th>count</th>\n",
       "      <td>341.000000</td>\n",
       "    </tr>\n",
       "    <tr>\n",
       "      <th>mean</th>\n",
       "      <td>-25.726479</td>\n",
       "    </tr>\n",
       "    <tr>\n",
       "      <th>std</th>\n",
       "      <td>335.100853</td>\n",
       "    </tr>\n",
       "    <tr>\n",
       "      <th>min</th>\n",
       "      <td>-367.750019</td>\n",
       "    </tr>\n",
       "    <tr>\n",
       "      <th>25%</th>\n",
       "      <td>-142.630517</td>\n",
       "    </tr>\n",
       "    <tr>\n",
       "      <th>50%</th>\n",
       "      <td>-76.956804</td>\n",
       "    </tr>\n",
       "    <tr>\n",
       "      <th>75%</th>\n",
       "      <td>-16.381122</td>\n",
       "    </tr>\n",
       "    <tr>\n",
       "      <th>max</th>\n",
       "      <td>3553.118975</td>\n",
       "    </tr>\n",
       "  </tbody>\n",
       "</table>\n",
       "</div>"
      ]
     },
     "metadata": {},
     "execution_count": 48
    }
   ],
   "metadata": {}
  },
  {
   "cell_type": "markdown",
   "source": [
    "### Creating index lookup tables for users and items"
   ],
   "metadata": {}
  },
  {
   "cell_type": "code",
   "execution_count": 49,
   "source": [
    "uid_to_idx = {}\r\n",
    "idx_to_uid = {}\r\n",
    "\r\n",
    "iid_to_idx = {}\r\n",
    "idx_to_iid = {}\r\n",
    "\r\n",
    "for (index, user) in enumerate(users):\r\n",
    "    uid_to_idx[user] = index\r\n",
    "    idx_to_uid[index] = user\r\n",
    "\r\n",
    "for (index, item) in enumerate(services):\r\n",
    "    iid_to_idx[item] = index\r\n",
    "    idx_to_iid[index] = item"
   ],
   "outputs": [],
   "metadata": {}
  },
  {
   "cell_type": "markdown",
   "source": [
    "### Implicit ALS model"
   ],
   "metadata": {}
  },
  {
   "cell_type": "markdown",
   "source": [
    "#### Building the sparse matrix for confidence values"
   ],
   "metadata": {}
  },
  {
   "cell_type": "code",
   "execution_count": 50,
   "source": [
    "cat_type = pd.api.types.CategoricalDtype(categories=users)\r\n",
    "rows = train_data.user.astype(cat_type).cat.codes\r\n",
    "# Get the associated row indices\r\n",
    "\r\n",
    "cat_type = pd.api.types.CategoricalDtype(categories=services)\r\n",
    "cols = train_data.service.astype(cat_type).cat.codes \r\n",
    "# Get the associated column indices\r\n",
    "\r\n",
    "confidence = list(train_data.confidence) # All of our confidence values\r\n",
    "\r\n",
    "confidence_sparse = sparse.csr_matrix((confidence, (rows, cols)), shape=(len(users), len(services)))"
   ],
   "outputs": [],
   "metadata": {}
  },
  {
   "cell_type": "markdown",
   "source": [
    "#### Calculating sparsity"
   ],
   "metadata": {}
  },
  {
   "cell_type": "code",
   "execution_count": 51,
   "source": [
    "matrix_size = confidence_sparse.shape[0]*confidence_sparse.shape[1] # Number of possible interactions in the matrix\r\n",
    "num_interactions = len(confidence_sparse.nonzero()[0]) # Number of items interacted with\r\n",
    "sparsity = 100*(1 - (num_interactions/matrix_size))\r\n",
    "sparsity"
   ],
   "outputs": [
    {
     "output_type": "execute_result",
     "data": {
      "text/plain": [
       "87.20930232558139"
      ]
     },
     "metadata": {},
     "execution_count": 51
    }
   ],
   "metadata": {}
  },
  {
   "cell_type": "markdown",
   "source": [
    "87.2% of the interaction matrix is sparse. For collaborative filtering to work, the maximum sparsity you could get away with would probably be about 99.5% or so. We are well below this, so we should be able to get decent results."
   ],
   "metadata": {}
  },
  {
   "cell_type": "code",
   "execution_count": 52,
   "source": [
    "implicit_als_model = implicit.als.AlternatingLeastSquares(factors=100, \r\n",
    "                                            regularization = 0.1, \r\n",
    "                                            iterations = 1000)\r\n",
    "implicit_als_model.fit(confidence_sparse.transpose().tocsr())"
   ],
   "outputs": [
    {
     "output_type": "stream",
     "name": "stderr",
     "text": [
      "WARNING:root:OpenBLAS detected. Its highly recommend to set the environment variable 'export OPENBLAS_NUM_THREADS=1' to disable its internal multithreading\n",
      "100%|██████████| 1000/1000 [00:04<00:00, 222.82it/s]\n"
     ]
    }
   ],
   "metadata": {}
  },
  {
   "cell_type": "code",
   "execution_count": 53,
   "source": [
    "implicit_als_rankings = {}\r\n",
    "for (user, index) in uid_to_idx.items():\r\n",
    "    rankings = implicit_als_model.rank_items(userid=index, user_items=confidence_sparse, selected_items=list(idx_to_iid.keys()), recalculate_user=False)\r\n",
    "    # print(rankings)\r\n",
    "    implicit_als_rankings[user] = [idx_to_iid[index] for (index, score) in rankings]"
   ],
   "outputs": [],
   "metadata": {}
  },
  {
   "cell_type": "code",
   "execution_count": 54,
   "source": [
    "num_services = len(train_data['service'].values)\r\n",
    "implicit_als_rank_score = rank_score(rankings=implicit_als_rankings, test_count=train_data, N=40)"
   ],
   "outputs": [],
   "metadata": {}
  },
  {
   "cell_type": "code",
   "execution_count": 55,
   "source": [
    "print('The MPR score for the Implicit ALS model is {} %'.format(implicit_als_rank_score))"
   ],
   "outputs": [
    {
     "output_type": "stream",
     "name": "stdout",
     "text": [
      "The MPR score for the Implicit ALS model is 10.420219997528116 %\n"
     ]
    }
   ],
   "metadata": {}
  },
  {
   "cell_type": "markdown",
   "source": [
    "### Normalizing the baseline values\r\n",
    "We have to try two versions of normalization for item-based recommendation:\r\n",
    "- Normalizing before calculating baselines\r\n",
    "- Calculating baselines before normalizing"
   ],
   "metadata": {}
  },
  {
   "cell_type": "markdown",
   "source": [
    "#### Defining the normalizer class"
   ],
   "metadata": {}
  },
  {
   "cell_type": "code",
   "execution_count": 56,
   "source": [
    "class Normalizer():\r\n",
    "    def __init__(self):\r\n",
    "        pass\r\n",
    "\r\n",
    "    def fit(self, values: np.ndarray):\r\n",
    "        self.mean = values.mean()\r\n",
    "        self.std = values.std()\r\n",
    "\r\n",
    "    def transform(self, values: np.ndarray):\r\n",
    "        return (values - self.mean) / self.std\r\n",
    "\r\n",
    "    def fit_transform(self, values: np.ndarray):\r\n",
    "        self.fit(values)\r\n",
    "        return self.transform(values)\r\n",
    "\r\n",
    "    def inverse(self, values: np.ndarray):\r\n",
    "        return (values * self.std) + self.mean"
   ],
   "outputs": [],
   "metadata": {}
  },
  {
   "cell_type": "markdown",
   "source": [
    "#### Normalizing the data"
   ],
   "metadata": {}
  },
  {
   "cell_type": "code",
   "execution_count": 57,
   "source": [
    "normalizer = Normalizer()\r\n",
    "normalizer.fit(train_data.baseline.values)\r\n",
    "train_data['normal_baseline'] = pd.Series(normalizer.transform(train_data.baseline.values))"
   ],
   "outputs": [],
   "metadata": {}
  },
  {
   "cell_type": "code",
   "execution_count": 58,
   "source": [
    "train_data[['user', 'service', 'baseline', 'normal_baseline']].describe()"
   ],
   "outputs": [
    {
     "output_type": "execute_result",
     "data": {
      "text/plain": [
       "         baseline  normal_baseline\n",
       "count  341.000000     3.410000e+02\n",
       "mean    -0.668162    -3.906943e-18\n",
       "std      8.377521     1.001470e+00\n",
       "min     -9.218750    -1.022158e+00\n",
       "25%     -3.590763    -3.493749e-01\n",
       "50%     -1.948920    -1.531050e-01\n",
       "75%     -0.434528     2.792917e-02\n",
       "max     88.802974     1.069560e+01"
      ],
      "text/html": [
       "<div>\n",
       "<style scoped>\n",
       "    .dataframe tbody tr th:only-of-type {\n",
       "        vertical-align: middle;\n",
       "    }\n",
       "\n",
       "    .dataframe tbody tr th {\n",
       "        vertical-align: top;\n",
       "    }\n",
       "\n",
       "    .dataframe thead th {\n",
       "        text-align: right;\n",
       "    }\n",
       "</style>\n",
       "<table border=\"1\" class=\"dataframe\">\n",
       "  <thead>\n",
       "    <tr style=\"text-align: right;\">\n",
       "      <th></th>\n",
       "      <th>baseline</th>\n",
       "      <th>normal_baseline</th>\n",
       "    </tr>\n",
       "  </thead>\n",
       "  <tbody>\n",
       "    <tr>\n",
       "      <th>count</th>\n",
       "      <td>341.000000</td>\n",
       "      <td>3.410000e+02</td>\n",
       "    </tr>\n",
       "    <tr>\n",
       "      <th>mean</th>\n",
       "      <td>-0.668162</td>\n",
       "      <td>-3.906943e-18</td>\n",
       "    </tr>\n",
       "    <tr>\n",
       "      <th>std</th>\n",
       "      <td>8.377521</td>\n",
       "      <td>1.001470e+00</td>\n",
       "    </tr>\n",
       "    <tr>\n",
       "      <th>min</th>\n",
       "      <td>-9.218750</td>\n",
       "      <td>-1.022158e+00</td>\n",
       "    </tr>\n",
       "    <tr>\n",
       "      <th>25%</th>\n",
       "      <td>-3.590763</td>\n",
       "      <td>-3.493749e-01</td>\n",
       "    </tr>\n",
       "    <tr>\n",
       "      <th>50%</th>\n",
       "      <td>-1.948920</td>\n",
       "      <td>-1.531050e-01</td>\n",
       "    </tr>\n",
       "    <tr>\n",
       "      <th>75%</th>\n",
       "      <td>-0.434528</td>\n",
       "      <td>2.792917e-02</td>\n",
       "    </tr>\n",
       "    <tr>\n",
       "      <th>max</th>\n",
       "      <td>88.802974</td>\n",
       "      <td>1.069560e+01</td>\n",
       "    </tr>\n",
       "  </tbody>\n",
       "</table>\n",
       "</div>"
      ]
     },
     "metadata": {},
     "execution_count": 58
    }
   ],
   "metadata": {}
  },
  {
   "cell_type": "code",
   "execution_count": 59,
   "source": [
    "normalizer = Normalizer()\r\n",
    "normalizer.fit(train_data['size'].values)\r\n",
    "train_data['normal'] = pd.Series(normalizer.transform(train_data['size'].values))"
   ],
   "outputs": [],
   "metadata": {}
  },
  {
   "cell_type": "code",
   "execution_count": 60,
   "source": [
    "train_data[['user', 'service', 'size', 'normal']].describe()"
   ],
   "outputs": [
    {
     "output_type": "execute_result",
     "data": {
      "text/plain": [
       "             size        normal\n",
       "count  341.000000  3.410000e+02\n",
       "mean     4.442815  6.251109e-17\n",
       "std      9.445219  1.001470e+00\n",
       "min      1.000000 -3.650391e-01\n",
       "25%      1.000000 -3.650391e-01\n",
       "50%      2.000000 -2.590099e-01\n",
       "75%      4.000000 -4.695137e-02\n",
       "max    103.000000  1.044994e+01"
      ],
      "text/html": [
       "<div>\n",
       "<style scoped>\n",
       "    .dataframe tbody tr th:only-of-type {\n",
       "        vertical-align: middle;\n",
       "    }\n",
       "\n",
       "    .dataframe tbody tr th {\n",
       "        vertical-align: top;\n",
       "    }\n",
       "\n",
       "    .dataframe thead th {\n",
       "        text-align: right;\n",
       "    }\n",
       "</style>\n",
       "<table border=\"1\" class=\"dataframe\">\n",
       "  <thead>\n",
       "    <tr style=\"text-align: right;\">\n",
       "      <th></th>\n",
       "      <th>size</th>\n",
       "      <th>normal</th>\n",
       "    </tr>\n",
       "  </thead>\n",
       "  <tbody>\n",
       "    <tr>\n",
       "      <th>count</th>\n",
       "      <td>341.000000</td>\n",
       "      <td>3.410000e+02</td>\n",
       "    </tr>\n",
       "    <tr>\n",
       "      <th>mean</th>\n",
       "      <td>4.442815</td>\n",
       "      <td>6.251109e-17</td>\n",
       "    </tr>\n",
       "    <tr>\n",
       "      <th>std</th>\n",
       "      <td>9.445219</td>\n",
       "      <td>1.001470e+00</td>\n",
       "    </tr>\n",
       "    <tr>\n",
       "      <th>min</th>\n",
       "      <td>1.000000</td>\n",
       "      <td>-3.650391e-01</td>\n",
       "    </tr>\n",
       "    <tr>\n",
       "      <th>25%</th>\n",
       "      <td>1.000000</td>\n",
       "      <td>-3.650391e-01</td>\n",
       "    </tr>\n",
       "    <tr>\n",
       "      <th>50%</th>\n",
       "      <td>2.000000</td>\n",
       "      <td>-2.590099e-01</td>\n",
       "    </tr>\n",
       "    <tr>\n",
       "      <th>75%</th>\n",
       "      <td>4.000000</td>\n",
       "      <td>-4.695137e-02</td>\n",
       "    </tr>\n",
       "    <tr>\n",
       "      <th>max</th>\n",
       "      <td>103.000000</td>\n",
       "      <td>1.044994e+01</td>\n",
       "    </tr>\n",
       "  </tbody>\n",
       "</table>\n",
       "</div>"
      ]
     },
     "metadata": {},
     "execution_count": 60
    }
   ],
   "metadata": {}
  },
  {
   "cell_type": "markdown",
   "source": [
    "### Item Neighbourhood model"
   ],
   "metadata": {}
  },
  {
   "cell_type": "code",
   "execution_count": 61,
   "source": [
    "class SurpriseKnnBaselineModel(surprise.KNNBaseline):\r\n",
    "    def rank_items(self, users: list, items: list):\r\n",
    "        rankings: Dict[str, list] = {}\r\n",
    "        for user in users:\r\n",
    "            ranking_list = [self.predict(user, item, clip=False) for item in items]\r\n",
    "            rankings_df = pd.DataFrame({\r\n",
    "                'item': items,\r\n",
    "                'ranking': ranking_list\r\n",
    "            })\r\n",
    "            rankings[user] = rankings_df.sort_values(by='ranking')['item'].values\r\n",
    "        return rankings"
   ],
   "outputs": [],
   "metadata": {}
  },
  {
   "cell_type": "code",
   "execution_count": 62,
   "source": [
    "class SurpriseKnnNormalModel(surprise.KNNWithZScore):\r\n",
    "    def rank_items(self, users: list, items: list):\r\n",
    "        rankings: Dict[str, list] = {}\r\n",
    "        for user in users:\r\n",
    "            ranking_list = [self.predict(user, item, clip=False) for item in items]\r\n",
    "            rankings_df = pd.DataFrame({\r\n",
    "                'item': items,\r\n",
    "                'ranking': ranking_list\r\n",
    "            })\r\n",
    "            rankings[user] = rankings_df.sort_values(by='ranking')['item'].values\r\n",
    "        return rankings"
   ],
   "outputs": [],
   "metadata": {}
  },
  {
   "cell_type": "code",
   "execution_count": 63,
   "source": [
    "reader = surprise.Reader(rating_scale=(0, train_data['confidence'].max()))\r\n",
    "train_dataset = surprise.Dataset.load_from_df(train_data[['user', 'service', 'baseline']], reader)"
   ],
   "outputs": [],
   "metadata": {}
  },
  {
   "cell_type": "code",
   "execution_count": 64,
   "source": [
    "bsl_options = {'method': 'sgd',\r\n",
    "               'n_epochs': 20,\r\n",
    "               }\r\n",
    "\r\n",
    "sim_options = {'name': 'msd',\r\n",
    "               'user_based': False  # compute  similarities between items\r\n",
    "               }"
   ],
   "outputs": [],
   "metadata": {}
  },
  {
   "cell_type": "code",
   "execution_count": 65,
   "source": [
    "knn_baseline_model = SurpriseKnnBaselineModel(k=num_services, min_k=60, sim_options=sim_options, bsl_options=bsl_options)\r\n",
    "knn_baseline_model.fit(train_dataset.build_full_trainset())\r\n",
    "knn_baseline_rankings = knn_baseline_model.rank_items(users=train_data['user'].unique(), items=train_data['service'].unique())\r\n",
    "\r\n",
    "knn_normal_model = SurpriseKnnNormalModel(sim_options={'name': 'pearson_baseline', 'user_based': False})\r\n",
    "knn_normal_model.fit(train_dataset.build_full_trainset())\r\n",
    "knn_normal_rankings = knn_normal_model.rank_items(users=train_data['user'].unique(), items=train_data['service'].unique())"
   ],
   "outputs": [
    {
     "output_type": "stream",
     "name": "stdout",
     "text": [
      "Estimating biases using sgd...\n",
      "Computing the msd similarity matrix...\n",
      "Done computing similarity matrix.\n",
      "Estimating biases using als...\n",
      "Computing the pearson_baseline similarity matrix...\n",
      "Done computing similarity matrix.\n"
     ]
    }
   ],
   "metadata": {}
  },
  {
   "cell_type": "code",
   "execution_count": 66,
   "source": [
    "num_services = len(train_data['service'].values)\r\n",
    "knn_baseline_rank_score = rank_score(rankings=knn_baseline_rankings, test_count=train_data, N=40)\r\n",
    "knn_normal_rank_score = rank_score(rankings=knn_normal_rankings, test_count=train_data, N=40)"
   ],
   "outputs": [],
   "metadata": {}
  },
  {
   "cell_type": "code",
   "execution_count": 67,
   "source": [
    "print('The rank score for the KNN Baseline model is {} %'.format(knn_baseline_rank_score))\r\n",
    "print('The rank score for the KNN Normal model is {} %'.format(knn_normal_rank_score))"
   ],
   "outputs": [
    {
     "output_type": "stream",
     "name": "stdout",
     "text": [
      "The rank score for the KNN Baseline model is 22.679880388472828 %\n",
      "The rank score for the KNN Normal model is 22.679880388472828 %\n"
     ]
    }
   ],
   "metadata": {}
  },
  {
   "cell_type": "code",
   "execution_count": 68,
   "source": [
    "for user in users:\r\n",
    "    ranking_list1 = [knn_baseline_model.predict(user, item, clip=False) for item in services]\r\n",
    "    rankings_df1 = pd.DataFrame({\r\n",
    "        'item': services,\r\n",
    "        'ranking': ranking_list1\r\n",
    "    })\r\n",
    "    predict1 = rankings_df1.sort_values(by='ranking')['item'].values\r\n",
    "\r\n",
    "    ranking_list2 = [knn_normal_model.predict(user, item, clip=False) for item in services]\r\n",
    "    rankings_df2 = pd.DataFrame({\r\n",
    "        'item': services,\r\n",
    "        'ranking': ranking_list2\r\n",
    "    })\r\n",
    "    predict2 = rankings_df2.sort_values(by='ranking')['item'].values\r\n",
    "    # print(ranking_list1 == ranking_list2)\r\n",
    "    # print((ranking_list1))\r\n",
    "    # print('\\n')\r\n",
    "    # print(ranking_list2)\r\n",
    "    # print('\\n\\n')\r\n",
    "\r\n"
   ],
   "outputs": [],
   "metadata": {}
  },
  {
   "cell_type": "markdown",
   "source": [
    "## Content-based Models"
   ],
   "metadata": {}
  },
  {
   "cell_type": "markdown",
   "source": [
    "### Looking at service descriptions"
   ],
   "metadata": {}
  },
  {
   "cell_type": "code",
   "execution_count": 69,
   "source": [
    "train_data.head()"
   ],
   "outputs": [
    {
     "output_type": "execute_result",
     "data": {
      "text/plain": [
       "         user     service  size         serviceCategories  \\\n",
       "0  0ULHUAAtf3  07s0zeZYjN    53                      None   \n",
       "1  0ULHUAAtf3  1VPS3tlcBE     3                       NaN   \n",
       "2  0ULHUAAtf3  1wjtGuM9P1    10              [1pSekv8tDk]   \n",
       "3  0ULHUAAtf3  2TklcqXBtG     1  [Y75plfloDh, 3qMFRyth3m]   \n",
       "4  0ULHUAAtf3  41SOBgfSTA     8              [HMFAL7N1yK]   \n",
       "\n",
       "                                       servicePrices                    name  \\\n",
       "0                                               None             Domain Name   \n",
       "1                                                NaN                     NaN   \n",
       "2  [niCzqvNs2p, kqjeGDDnok, WyRlkmAw6G, SykQsRCcZ...                  Drupal   \n",
       "3  [niCzqvNs2p, kqjeGDDnok, udbz7SmUsG, cBoebS59t...               MediaWiki   \n",
       "4  [prBlW9GMpA, CuYOUoKqX0, 0eSSww5jud, yMmOf4BEC...  Virtual Private Server   \n",
       "\n",
       "   task_name                       keywordServiceCategories  \\\n",
       "0        dns                                            NaN   \n",
       "1        NaN                                            NaN   \n",
       "2     drupal            ['content', 'management', 'system']   \n",
       "3  mediawiki  ['software', 'development', 'devops', 'tool']   \n",
       "4       vps                ['virtual', 'private', 'server']   \n",
       "\n",
       "                                         description haveAndroidApp  \\\n",
       "0  The Domain Name System (DNS) is a hierarchical...            NaN   \n",
       "1                                                NaN            NaN   \n",
       "2  Drupal is a popular CMS software, based on har...          False   \n",
       "3  MediaWiki is a collaboration and documentation...          False   \n",
       "4                                    Vps description            NaN   \n",
       "\n",
       "  haveIOSApp   baseline   confidence  normal_baseline    normal  \n",
       "0        NaN  41.599726  1664.989032         5.052807  5.148482  \n",
       "1        NaN  -2.945354  -116.814176        -0.272221 -0.152981  \n",
       "2      False   4.791660   192.666380         0.652680  0.589224  \n",
       "3      False  -4.985331  -198.413251        -0.516085 -0.365039  \n",
       "4        NaN   0.249184    10.967375         0.109662  0.377166  "
      ],
      "text/html": [
       "<div>\n",
       "<style scoped>\n",
       "    .dataframe tbody tr th:only-of-type {\n",
       "        vertical-align: middle;\n",
       "    }\n",
       "\n",
       "    .dataframe tbody tr th {\n",
       "        vertical-align: top;\n",
       "    }\n",
       "\n",
       "    .dataframe thead th {\n",
       "        text-align: right;\n",
       "    }\n",
       "</style>\n",
       "<table border=\"1\" class=\"dataframe\">\n",
       "  <thead>\n",
       "    <tr style=\"text-align: right;\">\n",
       "      <th></th>\n",
       "      <th>user</th>\n",
       "      <th>service</th>\n",
       "      <th>size</th>\n",
       "      <th>serviceCategories</th>\n",
       "      <th>servicePrices</th>\n",
       "      <th>name</th>\n",
       "      <th>task_name</th>\n",
       "      <th>keywordServiceCategories</th>\n",
       "      <th>description</th>\n",
       "      <th>haveAndroidApp</th>\n",
       "      <th>haveIOSApp</th>\n",
       "      <th>baseline</th>\n",
       "      <th>confidence</th>\n",
       "      <th>normal_baseline</th>\n",
       "      <th>normal</th>\n",
       "    </tr>\n",
       "  </thead>\n",
       "  <tbody>\n",
       "    <tr>\n",
       "      <th>0</th>\n",
       "      <td>0ULHUAAtf3</td>\n",
       "      <td>07s0zeZYjN</td>\n",
       "      <td>53</td>\n",
       "      <td>None</td>\n",
       "      <td>None</td>\n",
       "      <td>Domain Name</td>\n",
       "      <td>dns</td>\n",
       "      <td>NaN</td>\n",
       "      <td>The Domain Name System (DNS) is a hierarchical...</td>\n",
       "      <td>NaN</td>\n",
       "      <td>NaN</td>\n",
       "      <td>41.599726</td>\n",
       "      <td>1664.989032</td>\n",
       "      <td>5.052807</td>\n",
       "      <td>5.148482</td>\n",
       "    </tr>\n",
       "    <tr>\n",
       "      <th>1</th>\n",
       "      <td>0ULHUAAtf3</td>\n",
       "      <td>1VPS3tlcBE</td>\n",
       "      <td>3</td>\n",
       "      <td>NaN</td>\n",
       "      <td>NaN</td>\n",
       "      <td>NaN</td>\n",
       "      <td>NaN</td>\n",
       "      <td>NaN</td>\n",
       "      <td>NaN</td>\n",
       "      <td>NaN</td>\n",
       "      <td>NaN</td>\n",
       "      <td>-2.945354</td>\n",
       "      <td>-116.814176</td>\n",
       "      <td>-0.272221</td>\n",
       "      <td>-0.152981</td>\n",
       "    </tr>\n",
       "    <tr>\n",
       "      <th>2</th>\n",
       "      <td>0ULHUAAtf3</td>\n",
       "      <td>1wjtGuM9P1</td>\n",
       "      <td>10</td>\n",
       "      <td>[1pSekv8tDk]</td>\n",
       "      <td>[niCzqvNs2p, kqjeGDDnok, WyRlkmAw6G, SykQsRCcZ...</td>\n",
       "      <td>Drupal</td>\n",
       "      <td>drupal</td>\n",
       "      <td>['content', 'management', 'system']</td>\n",
       "      <td>Drupal is a popular CMS software, based on har...</td>\n",
       "      <td>False</td>\n",
       "      <td>False</td>\n",
       "      <td>4.791660</td>\n",
       "      <td>192.666380</td>\n",
       "      <td>0.652680</td>\n",
       "      <td>0.589224</td>\n",
       "    </tr>\n",
       "    <tr>\n",
       "      <th>3</th>\n",
       "      <td>0ULHUAAtf3</td>\n",
       "      <td>2TklcqXBtG</td>\n",
       "      <td>1</td>\n",
       "      <td>[Y75plfloDh, 3qMFRyth3m]</td>\n",
       "      <td>[niCzqvNs2p, kqjeGDDnok, udbz7SmUsG, cBoebS59t...</td>\n",
       "      <td>MediaWiki</td>\n",
       "      <td>mediawiki</td>\n",
       "      <td>['software', 'development', 'devops', 'tool']</td>\n",
       "      <td>MediaWiki is a collaboration and documentation...</td>\n",
       "      <td>False</td>\n",
       "      <td>False</td>\n",
       "      <td>-4.985331</td>\n",
       "      <td>-198.413251</td>\n",
       "      <td>-0.516085</td>\n",
       "      <td>-0.365039</td>\n",
       "    </tr>\n",
       "    <tr>\n",
       "      <th>4</th>\n",
       "      <td>0ULHUAAtf3</td>\n",
       "      <td>41SOBgfSTA</td>\n",
       "      <td>8</td>\n",
       "      <td>[HMFAL7N1yK]</td>\n",
       "      <td>[prBlW9GMpA, CuYOUoKqX0, 0eSSww5jud, yMmOf4BEC...</td>\n",
       "      <td>Virtual Private Server</td>\n",
       "      <td>vps</td>\n",
       "      <td>['virtual', 'private', 'server']</td>\n",
       "      <td>Vps description</td>\n",
       "      <td>NaN</td>\n",
       "      <td>NaN</td>\n",
       "      <td>0.249184</td>\n",
       "      <td>10.967375</td>\n",
       "      <td>0.109662</td>\n",
       "      <td>0.377166</td>\n",
       "    </tr>\n",
       "  </tbody>\n",
       "</table>\n",
       "</div>"
      ]
     },
     "metadata": {},
     "execution_count": 69
    }
   ],
   "metadata": {}
  },
  {
   "cell_type": "code",
   "execution_count": 70,
   "source": [
    "index = 35\r\n",
    "train_data.loc[index, 'description']"
   ],
   "outputs": [
    {
     "output_type": "execute_result",
     "data": {
      "text/plain": [
       "'Moodle is a free, online Learning Management System available to students, educators or administrators to build a personalised curriculum by using plugins for various content, activities and workflow. Moodle is a versatile eLearning platform for different industries, from education to manufacturing and media and entertainment. It includes videos, web conferencing, audio, whiteboards, desktop sharing and session recording features. \\n'"
      ]
     },
     "metadata": {},
     "execution_count": 70
    }
   ],
   "metadata": {}
  },
  {
   "cell_type": "code",
   "execution_count": 71,
   "source": [
    "train_data[train_data['description'].astype(str).str.contains('description')].name.unique()"
   ],
   "outputs": [
    {
     "output_type": "execute_result",
     "data": {
      "text/plain": [
       "array(['Virtual Private Server', 'GeoNetwork', 'Professional Email',\n",
       "       'Digital Marketing ', 'SSL & SECURITY  ', 'Web Hosting ',\n",
       "       'Website Builder'], dtype=object)"
      ]
     },
     "metadata": {},
     "execution_count": 71
    }
   ],
   "metadata": {}
  },
  {
   "cell_type": "code",
   "execution_count": 72,
   "source": [
    "not_null_desc = service_df[service_df.description.notnull()]\r\n",
    "# display(not_null_desc)\r\n",
    "vector = CountVectorizer(ngram_range=(1,1), stop_words='english').fit(not_null_desc.description)\r\n",
    "bag_of_words = vector.transform(not_null_desc.description)\r\n",
    "bag_of_words"
   ],
   "outputs": [
    {
     "output_type": "execute_result",
     "data": {
      "text/plain": [
       "<71x876 sparse matrix of type '<class 'numpy.int64'>'\n",
       "\twith 1651 stored elements in Compressed Sparse Row format>"
      ]
     },
     "metadata": {},
     "execution_count": 72
    }
   ],
   "metadata": {}
  },
  {
   "cell_type": "code",
   "execution_count": 73,
   "source": [
    "bag_of_words.shape"
   ],
   "outputs": [
    {
     "output_type": "execute_result",
     "data": {
      "text/plain": [
       "(71, 876)"
      ]
     },
     "metadata": {},
     "execution_count": 73
    }
   ],
   "metadata": {}
  },
  {
   "cell_type": "code",
   "execution_count": 83,
   "source": [
    "not_null_desc.loc[:, ['word_count']] = not_null_desc['description'].apply(lambda x: len(str(x).split()))\r\n",
    "desc_lengths = not_null_desc['word_count'].tolist()\r\n",
    "\r\n",
    "print(\"Number of descriptions:\",len(desc_lengths),\r\n",
    "      \"\\nAverage word count\", np.average(desc_lengths),\r\n",
    "      \"\\nMinimum word count\", min(desc_lengths),\r\n",
    "      \"\\nMaximum word count\", max(desc_lengths))"
   ],
   "outputs": [
    {
     "output_type": "stream",
     "name": "stdout",
     "text": [
      "Number of descriptions: 71 \n",
      "Average word count 42.40845070422535 \n",
      "Minimum word count 1 \n",
      "Maximum word count 95\n"
     ]
    }
   ],
   "metadata": {}
  },
  {
   "cell_type": "markdown",
   "source": [
    "### Cleaning the descriptions"
   ],
   "metadata": {}
  },
  {
   "cell_type": "code",
   "execution_count": 145,
   "source": [
    "nltk.download('stopwords')\r\n",
    "\r\n",
    "REPLACE_BY_SPACE_RE = re.compile('[/(){}\\[\\]\\|@,;]')\r\n",
    "BAD_SYMBOLS_RE = re.compile('[^0-9a-z #+_]')\r\n",
    "STOPWORDS = set(stopwords.words('english'))\r\n",
    "\r\n",
    "def clean_text(text):\r\n",
    "    \"\"\"\r\n",
    "        text: a string\r\n",
    "        \r\n",
    "        return: modified initial string\r\n",
    "    \"\"\"\r\n",
    "    text = text.lower() # lowercase text\r\n",
    "    text = REPLACE_BY_SPACE_RE.sub(' ', text) # replace REPLACE_BY_SPACE_RE symbols by space in text. substitute the matched string in REPLACE_BY_SPACE_RE with space.\r\n",
    "    text = BAD_SYMBOLS_RE.sub('', text) # remove symbols which are in BAD_SYMBOLS_RE from text. substitute the matched string in BAD_SYMBOLS_RE with nothing. \r\n",
    "    text = ' '.join(word for word in text.split() if word not in STOPWORDS) # remove stopwors from text\r\n",
    "    return text"
   ],
   "outputs": [
    {
     "output_type": "stream",
     "name": "stderr",
     "text": [
      "[nltk_data] Downloading package stopwords to\n",
      "[nltk_data]     C:\\Users\\roybm\\AppData\\Roaming\\nltk_data...\n",
      "[nltk_data]   Package stopwords is already up-to-date!\n"
     ]
    }
   ],
   "metadata": {}
  },
  {
   "cell_type": "code",
   "execution_count": 146,
   "source": [
    "content_train_data = train_data[train_data['description'].notna()]\r\n",
    "content_service_df = service_df[service_df['description'].notna()]"
   ],
   "outputs": [],
   "metadata": {}
  },
  {
   "cell_type": "code",
   "execution_count": 147,
   "source": [
    "content_train_data.loc[:, ['description_clean']] = content_train_data['description'].apply(clean_text)\r\n",
    "content_service_df.loc[:, ['description_clean']] = content_service_df['description'].apply(clean_text)"
   ],
   "outputs": [
    {
     "output_type": "stream",
     "name": "stderr",
     "text": [
      "d:\\Projects\\machine-learning\\venv\\lib\\site-packages\\pandas\\core\\indexing.py:1676: SettingWithCopyWarning: \n",
      "A value is trying to be set on a copy of a slice from a DataFrame.\n",
      "Try using .loc[row_indexer,col_indexer] = value instead\n",
      "\n",
      "See the caveats in the documentation: https://pandas.pydata.org/pandas-docs/stable/user_guide/indexing.html#returning-a-view-versus-a-copy\n",
      "  self._setitem_single_column(ilocs[0], value, pi)\n"
     ]
    }
   ],
   "metadata": {}
  },
  {
   "cell_type": "markdown",
   "source": [
    "### Getting similarity matrix"
   ],
   "metadata": {}
  },
  {
   "cell_type": "code",
   "execution_count": 148,
   "source": [
    "item_to_index = {}\r\n",
    "index_to_item = {}\r\n",
    "\r\n",
    "content_service_df.reset_index(inplace=True)\r\n",
    "index_to_item = content_service_df['objectId'].to_dict()\r\n",
    "item_to_index = {value: key for key, value in index_to_item.items()}"
   ],
   "outputs": [],
   "metadata": {}
  },
  {
   "cell_type": "code",
   "execution_count": 149,
   "source": [
    "tfidf = TfidfVectorizer(analyzer='word', ngram_range=(1,1), min_df=0, stop_words='english')\r\n",
    "tfidf_matrix = tfidf.fit_transform(content_service_df['description_clean'])\r\n",
    "cosine_similarities = cosine_similarity(tfidf_matrix, tfidf_matrix)"
   ],
   "outputs": [],
   "metadata": {}
  },
  {
   "cell_type": "code",
   "execution_count": 150,
   "source": [
    "cosine_similarities.shape"
   ],
   "outputs": [
    {
     "output_type": "execute_result",
     "data": {
      "text/plain": [
       "(71, 71)"
      ]
     },
     "metadata": {},
     "execution_count": 150
    }
   ],
   "metadata": {}
  },
  {
   "cell_type": "code",
   "execution_count": 262,
   "source": [
    "def get_knn(item_index: int, k:int = cosine_similarities.shape[0], cosine_similarities = cosine_similarities):\r\n",
    "    assert(item_index >= 0 and item_index < cosine_similarities.shape[0])\r\n",
    "    assert(k >= 0)\r\n",
    "    score_series = pd.Series(cosine_similarities[item_index]).sort_values(ascending=False)\r\n",
    "\r\n",
    "    top_k_indices = list(score_series.iloc[1: k+1].index)\r\n",
    "    top_k_scores = list(score_series.iloc[1: k+1].values)\r\n",
    "    return {index: score for index, score in zip(top_k_indices, top_k_scores)}"
   ],
   "outputs": [],
   "metadata": {}
  },
  {
   "cell_type": "markdown",
   "source": [
    "### Showing top $K$ neighbours of an item"
   ],
   "metadata": {}
  },
  {
   "cell_type": "code",
   "execution_count": 266,
   "source": [
    "index = 0\r\n",
    "service = content_service_df.loc[index, :]\r\n",
    "print(\"{}: {}\".format(service['name'], service['description_clean']))\r\n",
    "\r\n",
    "item_index = item_to_index[service['objectId']]\r\n",
    "k = 10\r\n",
    "\r\n",
    "top_items = get_knn(item_index=item_index, k=k)\r\n",
    "top_items = {index_to_item[idx]: score for idx, score in top_items.items()}\r\n",
    "print(top_items)\r\n",
    "display(content_service_df[content_service_df['objectId'].isin(top_items.keys())][['objectId', 'name', 'description', 'description_clean']])"
   ],
   "outputs": [
    {
     "output_type": "stream",
     "name": "stdout",
     "text": [
      "Odoo: odoo provides full stack tools business owners seamlessly manage segments operations platform encompasses erp crm accounting project management marketing inventory manufacturing purchasing software right box odoo highly modular multifunctional utilises easytomanage interfaces available pc smartphone operating systems\n",
      "{'8EdDdrAQNK': 0.14258354195055034, '7m30TaadKw': 0.12566445924885478, 'YZIeBxQlsV': 0.12485455324224595, 'E6HdFmXWg0': 0.0919730003644279, 'SuRhp77ZCx': 0.08913913487948483, 'jKgY0RcJsL': 0.07531506104696756, 'ImR9eQMZ6k': 0.0644204604278647, '58z2G8LUxk': 0.06363506590167856, 'auGIGMX1He': 0.061893195737639274, 'KIic6wvhMT': 0.059220949135570855}\n"
     ]
    },
    {
     "output_type": "display_data",
     "data": {
      "text/plain": [
       "      objectId                name  \\\n",
       "1   7m30TaadKw            ownCloud   \n",
       "12  E6HdFmXWg0              Manage   \n",
       "22  auGIGMX1He              Moodle   \n",
       "25  SuRhp77ZCx  Digital Marketing    \n",
       "26  58z2G8LUxk              Mautic   \n",
       "29  8EdDdrAQNK            Dolibarr   \n",
       "32  ImR9eQMZ6k                GLPI   \n",
       "42  KIic6wvhMT               Nuxeo   \n",
       "59  jKgY0RcJsL   Easy!Appointments   \n",
       "67  YZIeBxQlsV           Akaunting   \n",
       "\n",
       "                                          description  \\\n",
       "1   ownCloud is a self-hosted document sharing, sy...   \n",
       "12  Systems management is the administration of th...   \n",
       "22  Moodle is a free, online Learning Management S...   \n",
       "25                      Digital Marketing description   \n",
       "26  Mautic is a unique fully-featured omnichannel ...   \n",
       "29  Dolibarr is an all-in-one ERP and CRM software...   \n",
       "32  GLPI is a free, easy-to-use incident control s...   \n",
       "42  Nuxeo is a cloud-based content services platfo...   \n",
       "59  Easy!Appointments is a highly customizable web...   \n",
       "67  From invoicing to expense tracking to accounti...   \n",
       "\n",
       "                                    description_clean  \n",
       "1   owncloud selfhosted document sharing syncing s...  \n",
       "12  systems management administration information ...  \n",
       "22  moodle free online learning management system ...  \n",
       "25                      digital marketing description  \n",
       "26  mautic unique fullyfeatured omnichannel provid...  \n",
       "29  dolibarr allinone erp crm software outstanding...  \n",
       "32  glpi free easytouse incident control software ...  \n",
       "42  nuxeo cloudbased content services platform man...  \n",
       "59  easyappointments highly customizable web appli...  \n",
       "67  invoicing expense tracking accounting akauntin...  "
      ],
      "text/html": [
       "<div>\n",
       "<style scoped>\n",
       "    .dataframe tbody tr th:only-of-type {\n",
       "        vertical-align: middle;\n",
       "    }\n",
       "\n",
       "    .dataframe tbody tr th {\n",
       "        vertical-align: top;\n",
       "    }\n",
       "\n",
       "    .dataframe thead th {\n",
       "        text-align: right;\n",
       "    }\n",
       "</style>\n",
       "<table border=\"1\" class=\"dataframe\">\n",
       "  <thead>\n",
       "    <tr style=\"text-align: right;\">\n",
       "      <th></th>\n",
       "      <th>objectId</th>\n",
       "      <th>name</th>\n",
       "      <th>description</th>\n",
       "      <th>description_clean</th>\n",
       "    </tr>\n",
       "  </thead>\n",
       "  <tbody>\n",
       "    <tr>\n",
       "      <th>1</th>\n",
       "      <td>7m30TaadKw</td>\n",
       "      <td>ownCloud</td>\n",
       "      <td>ownCloud is a self-hosted document sharing, sy...</td>\n",
       "      <td>owncloud selfhosted document sharing syncing s...</td>\n",
       "    </tr>\n",
       "    <tr>\n",
       "      <th>12</th>\n",
       "      <td>E6HdFmXWg0</td>\n",
       "      <td>Manage</td>\n",
       "      <td>Systems management is the administration of th...</td>\n",
       "      <td>systems management administration information ...</td>\n",
       "    </tr>\n",
       "    <tr>\n",
       "      <th>22</th>\n",
       "      <td>auGIGMX1He</td>\n",
       "      <td>Moodle</td>\n",
       "      <td>Moodle is a free, online Learning Management S...</td>\n",
       "      <td>moodle free online learning management system ...</td>\n",
       "    </tr>\n",
       "    <tr>\n",
       "      <th>25</th>\n",
       "      <td>SuRhp77ZCx</td>\n",
       "      <td>Digital Marketing</td>\n",
       "      <td>Digital Marketing description</td>\n",
       "      <td>digital marketing description</td>\n",
       "    </tr>\n",
       "    <tr>\n",
       "      <th>26</th>\n",
       "      <td>58z2G8LUxk</td>\n",
       "      <td>Mautic</td>\n",
       "      <td>Mautic is a unique fully-featured omnichannel ...</td>\n",
       "      <td>mautic unique fullyfeatured omnichannel provid...</td>\n",
       "    </tr>\n",
       "    <tr>\n",
       "      <th>29</th>\n",
       "      <td>8EdDdrAQNK</td>\n",
       "      <td>Dolibarr</td>\n",
       "      <td>Dolibarr is an all-in-one ERP and CRM software...</td>\n",
       "      <td>dolibarr allinone erp crm software outstanding...</td>\n",
       "    </tr>\n",
       "    <tr>\n",
       "      <th>32</th>\n",
       "      <td>ImR9eQMZ6k</td>\n",
       "      <td>GLPI</td>\n",
       "      <td>GLPI is a free, easy-to-use incident control s...</td>\n",
       "      <td>glpi free easytouse incident control software ...</td>\n",
       "    </tr>\n",
       "    <tr>\n",
       "      <th>42</th>\n",
       "      <td>KIic6wvhMT</td>\n",
       "      <td>Nuxeo</td>\n",
       "      <td>Nuxeo is a cloud-based content services platfo...</td>\n",
       "      <td>nuxeo cloudbased content services platform man...</td>\n",
       "    </tr>\n",
       "    <tr>\n",
       "      <th>59</th>\n",
       "      <td>jKgY0RcJsL</td>\n",
       "      <td>Easy!Appointments</td>\n",
       "      <td>Easy!Appointments is a highly customizable web...</td>\n",
       "      <td>easyappointments highly customizable web appli...</td>\n",
       "    </tr>\n",
       "    <tr>\n",
       "      <th>67</th>\n",
       "      <td>YZIeBxQlsV</td>\n",
       "      <td>Akaunting</td>\n",
       "      <td>From invoicing to expense tracking to accounti...</td>\n",
       "      <td>invoicing expense tracking accounting akauntin...</td>\n",
       "    </tr>\n",
       "  </tbody>\n",
       "</table>\n",
       "</div>"
      ]
     },
     "metadata": {}
    }
   ],
   "metadata": {}
  },
  {
   "cell_type": "code",
   "execution_count": 196,
   "source": [
    "# num = cosine_similarities.shape[0]\r\n",
    "# for idx in range(num):\r\n",
    "#     print(sorted(cosine_similarities[idx], reverse=True)[1])"
   ],
   "outputs": [],
   "metadata": {}
  },
  {
   "cell_type": "code",
   "execution_count": 256,
   "source": [
    "# for idx in range(70):\r\n",
    "#     print(get_knn(item_index=idx, k=70, cosine_similarities=cosine_similarities))"
   ],
   "outputs": [],
   "metadata": {}
  },
  {
   "cell_type": "markdown",
   "source": [
    "### Generating content based rankings"
   ],
   "metadata": {}
  },
  {
   "cell_type": "code",
   "execution_count": 273,
   "source": [
    "def get_user_rankings(user_id, user_relations: pd.DataFrame) -> Dict:\r\n",
    "    user_items = user_relations['service'].values\r\n",
    "    item_scores = {}\r\n",
    "    for item in user_items:\r\n",
    "        iid = item_to_index[item]\r\n",
    "        nearest_indices = get_knn(item_index=iid, k=70, cosine_similarities=cosine_similarities)\r\n",
    "        nearest_items = {index_to_item[idx]: score for idx, score in nearest_indices.items()}\r\n",
    "        for neighbour_item in nearest_items:\r\n",
    "            if neighbour_item in item_scores.keys():\r\n",
    "                if item_scores[neighbour_item] < nearest_items[neighbour_item]:\r\n",
    "                    item_scores[neighbour_item] = nearest_items[neighbour_item]\r\n",
    "            else:\r\n",
    "                item_scores[neighbour_item] = nearest_items[neighbour_item]\r\n",
    "        # print(iid)\r\n",
    "        # print(nearest_indices)\r\n",
    "        # print('\\n')\r\n",
    "    return item_scores"
   ],
   "outputs": [],
   "metadata": {}
  },
  {
   "cell_type": "code",
   "execution_count": 274,
   "source": [
    "user_id = '0ULHUAAtf3'\r\n",
    "display(content_train_data[content_train_data['user'] == user_id].head(6))\r\n",
    "user_rankings = get_user_rankings(user_id, content_train_data[content_train_data['user'] == user_id])\r\n",
    "print(user_rankings)\r\n",
    "ranked = content_service_df[content_service_df['objectId'].isin(user_rankings.keys())].copy()\r\n",
    "ranked['score'] = ranked['objectId'].apply(lambda x: user_rankings[x])\r\n",
    "display(ranked.sort_values(by='score', ascending=False)[['objectId', 'name', 'description', 'description_clean', 'score']].head(20))"
   ],
   "outputs": [
    {
     "output_type": "display_data",
     "data": {
      "text/plain": [
       "         user     service  size         serviceCategories  \\\n",
       "0  0ULHUAAtf3  07s0zeZYjN    53                      None   \n",
       "2  0ULHUAAtf3  1wjtGuM9P1    10              [1pSekv8tDk]   \n",
       "3  0ULHUAAtf3  2TklcqXBtG     1  [Y75plfloDh, 3qMFRyth3m]   \n",
       "4  0ULHUAAtf3  41SOBgfSTA     8              [HMFAL7N1yK]   \n",
       "5  0ULHUAAtf3  4VGoltqhzv     1              [98VGEW2nSt]   \n",
       "6  0ULHUAAtf3  58z2G8LUxk     1              [rGIvTPetST]   \n",
       "\n",
       "                                       servicePrices                    name  \\\n",
       "0                                               None             Domain Name   \n",
       "2  [niCzqvNs2p, kqjeGDDnok, WyRlkmAw6G, SykQsRCcZ...                  Drupal   \n",
       "3  [niCzqvNs2p, kqjeGDDnok, udbz7SmUsG, cBoebS59t...               MediaWiki   \n",
       "4  [prBlW9GMpA, CuYOUoKqX0, 0eSSww5jud, yMmOf4BEC...  Virtual Private Server   \n",
       "5  [niCzqvNs2p, kqjeGDDnok, udbz7SmUsG, cBoebS59t...                osTicket   \n",
       "6  [niCzqvNs2p, kqjeGDDnok, udbz7SmUsG, cBoebS59t...                  Mautic   \n",
       "\n",
       "   task_name                       keywordServiceCategories  \\\n",
       "0        dns                                            NaN   \n",
       "2     drupal            ['content', 'management', 'system']   \n",
       "3  mediawiki  ['software', 'development', 'devops', 'tool']   \n",
       "4       vps                ['virtual', 'private', 'server']   \n",
       "5   osticket                               ['help', 'desk']   \n",
       "6     mautic     ['customer', 'relationship', 'management']   \n",
       "\n",
       "                                         description haveAndroidApp  \\\n",
       "0  The Domain Name System (DNS) is a hierarchical...            NaN   \n",
       "2  Drupal is a popular CMS software, based on har...          False   \n",
       "3  MediaWiki is a collaboration and documentation...          False   \n",
       "4                                    Vps description            NaN   \n",
       "5  OsTicket is free software that comes feature-p...           True   \n",
       "6  Mautic is a unique fully-featured omnichannel ...          False   \n",
       "\n",
       "  haveIOSApp   baseline   confidence  normal_baseline    normal  \\\n",
       "0        NaN  41.599726  1664.989032         5.052807  5.148482   \n",
       "2      False   4.791660   192.666380         0.652680  0.589224   \n",
       "3      False  -4.985331  -198.413251        -0.516085 -0.365039   \n",
       "4        NaN   0.249184    10.967375         0.109662  0.377166   \n",
       "5       True  -4.035080  -160.403184        -0.402490 -0.365039   \n",
       "6      False  -3.815823  -151.632935        -0.376279 -0.365039   \n",
       "\n",
       "                                   description_clean  \n",
       "0  domain name system dns hierarchical decentrali...  \n",
       "2  drupal popular cms software based hard data es...  \n",
       "3  mediawiki collaboration documentation platform...  \n",
       "4                                    vps description  \n",
       "5  osticket free software comes featurepacked upo...  \n",
       "6  mautic unique fullyfeatured omnichannel provid...  "
      ],
      "text/html": [
       "<div>\n",
       "<style scoped>\n",
       "    .dataframe tbody tr th:only-of-type {\n",
       "        vertical-align: middle;\n",
       "    }\n",
       "\n",
       "    .dataframe tbody tr th {\n",
       "        vertical-align: top;\n",
       "    }\n",
       "\n",
       "    .dataframe thead th {\n",
       "        text-align: right;\n",
       "    }\n",
       "</style>\n",
       "<table border=\"1\" class=\"dataframe\">\n",
       "  <thead>\n",
       "    <tr style=\"text-align: right;\">\n",
       "      <th></th>\n",
       "      <th>user</th>\n",
       "      <th>service</th>\n",
       "      <th>size</th>\n",
       "      <th>serviceCategories</th>\n",
       "      <th>servicePrices</th>\n",
       "      <th>name</th>\n",
       "      <th>task_name</th>\n",
       "      <th>keywordServiceCategories</th>\n",
       "      <th>description</th>\n",
       "      <th>haveAndroidApp</th>\n",
       "      <th>haveIOSApp</th>\n",
       "      <th>baseline</th>\n",
       "      <th>confidence</th>\n",
       "      <th>normal_baseline</th>\n",
       "      <th>normal</th>\n",
       "      <th>description_clean</th>\n",
       "    </tr>\n",
       "  </thead>\n",
       "  <tbody>\n",
       "    <tr>\n",
       "      <th>0</th>\n",
       "      <td>0ULHUAAtf3</td>\n",
       "      <td>07s0zeZYjN</td>\n",
       "      <td>53</td>\n",
       "      <td>None</td>\n",
       "      <td>None</td>\n",
       "      <td>Domain Name</td>\n",
       "      <td>dns</td>\n",
       "      <td>NaN</td>\n",
       "      <td>The Domain Name System (DNS) is a hierarchical...</td>\n",
       "      <td>NaN</td>\n",
       "      <td>NaN</td>\n",
       "      <td>41.599726</td>\n",
       "      <td>1664.989032</td>\n",
       "      <td>5.052807</td>\n",
       "      <td>5.148482</td>\n",
       "      <td>domain name system dns hierarchical decentrali...</td>\n",
       "    </tr>\n",
       "    <tr>\n",
       "      <th>2</th>\n",
       "      <td>0ULHUAAtf3</td>\n",
       "      <td>1wjtGuM9P1</td>\n",
       "      <td>10</td>\n",
       "      <td>[1pSekv8tDk]</td>\n",
       "      <td>[niCzqvNs2p, kqjeGDDnok, WyRlkmAw6G, SykQsRCcZ...</td>\n",
       "      <td>Drupal</td>\n",
       "      <td>drupal</td>\n",
       "      <td>['content', 'management', 'system']</td>\n",
       "      <td>Drupal is a popular CMS software, based on har...</td>\n",
       "      <td>False</td>\n",
       "      <td>False</td>\n",
       "      <td>4.791660</td>\n",
       "      <td>192.666380</td>\n",
       "      <td>0.652680</td>\n",
       "      <td>0.589224</td>\n",
       "      <td>drupal popular cms software based hard data es...</td>\n",
       "    </tr>\n",
       "    <tr>\n",
       "      <th>3</th>\n",
       "      <td>0ULHUAAtf3</td>\n",
       "      <td>2TklcqXBtG</td>\n",
       "      <td>1</td>\n",
       "      <td>[Y75plfloDh, 3qMFRyth3m]</td>\n",
       "      <td>[niCzqvNs2p, kqjeGDDnok, udbz7SmUsG, cBoebS59t...</td>\n",
       "      <td>MediaWiki</td>\n",
       "      <td>mediawiki</td>\n",
       "      <td>['software', 'development', 'devops', 'tool']</td>\n",
       "      <td>MediaWiki is a collaboration and documentation...</td>\n",
       "      <td>False</td>\n",
       "      <td>False</td>\n",
       "      <td>-4.985331</td>\n",
       "      <td>-198.413251</td>\n",
       "      <td>-0.516085</td>\n",
       "      <td>-0.365039</td>\n",
       "      <td>mediawiki collaboration documentation platform...</td>\n",
       "    </tr>\n",
       "    <tr>\n",
       "      <th>4</th>\n",
       "      <td>0ULHUAAtf3</td>\n",
       "      <td>41SOBgfSTA</td>\n",
       "      <td>8</td>\n",
       "      <td>[HMFAL7N1yK]</td>\n",
       "      <td>[prBlW9GMpA, CuYOUoKqX0, 0eSSww5jud, yMmOf4BEC...</td>\n",
       "      <td>Virtual Private Server</td>\n",
       "      <td>vps</td>\n",
       "      <td>['virtual', 'private', 'server']</td>\n",
       "      <td>Vps description</td>\n",
       "      <td>NaN</td>\n",
       "      <td>NaN</td>\n",
       "      <td>0.249184</td>\n",
       "      <td>10.967375</td>\n",
       "      <td>0.109662</td>\n",
       "      <td>0.377166</td>\n",
       "      <td>vps description</td>\n",
       "    </tr>\n",
       "    <tr>\n",
       "      <th>5</th>\n",
       "      <td>0ULHUAAtf3</td>\n",
       "      <td>4VGoltqhzv</td>\n",
       "      <td>1</td>\n",
       "      <td>[98VGEW2nSt]</td>\n",
       "      <td>[niCzqvNs2p, kqjeGDDnok, udbz7SmUsG, cBoebS59t...</td>\n",
       "      <td>osTicket</td>\n",
       "      <td>osticket</td>\n",
       "      <td>['help', 'desk']</td>\n",
       "      <td>OsTicket is free software that comes feature-p...</td>\n",
       "      <td>True</td>\n",
       "      <td>True</td>\n",
       "      <td>-4.035080</td>\n",
       "      <td>-160.403184</td>\n",
       "      <td>-0.402490</td>\n",
       "      <td>-0.365039</td>\n",
       "      <td>osticket free software comes featurepacked upo...</td>\n",
       "    </tr>\n",
       "    <tr>\n",
       "      <th>6</th>\n",
       "      <td>0ULHUAAtf3</td>\n",
       "      <td>58z2G8LUxk</td>\n",
       "      <td>1</td>\n",
       "      <td>[rGIvTPetST]</td>\n",
       "      <td>[niCzqvNs2p, kqjeGDDnok, udbz7SmUsG, cBoebS59t...</td>\n",
       "      <td>Mautic</td>\n",
       "      <td>mautic</td>\n",
       "      <td>['customer', 'relationship', 'management']</td>\n",
       "      <td>Mautic is a unique fully-featured omnichannel ...</td>\n",
       "      <td>False</td>\n",
       "      <td>False</td>\n",
       "      <td>-3.815823</td>\n",
       "      <td>-151.632935</td>\n",
       "      <td>-0.376279</td>\n",
       "      <td>-0.365039</td>\n",
       "      <td>mautic unique fullyfeatured omnichannel provid...</td>\n",
       "    </tr>\n",
       "  </tbody>\n",
       "</table>\n",
       "</div>"
      ]
     },
     "metadata": {}
    },
    {
     "output_type": "stream",
     "name": "stdout",
     "text": [
      "{'ngMtunarGs': 0.06826014445512543, 'H3tQqskLpw': 0.14794537990527767, '5fQA3zRBI3': 0.14794537990527767, 'etez96nrAp': 0.14794537990527767, 'Hn0NJStHCR': 0.14794537990527767, 'CprptNr2Nx': 0.1706416275241663, 'f9WeJggEuN': 0.22991521286759645, 'nbIiqjJjsn': 0.15822149500880991, 'TB8PwodfDY': 0.08935397765995567, 'AuoUzp7zT5': 0.16841259053405833, '58z2G8LUxk': 0.19400199612365648, 'E2SCN4dkan': 0.1305575462006343, 'GQRRyEwanT': 0.1305575462006343, 'jKgY0RcJsL': 0.1941064272779135, 'KIic6wvhMT': 0.15322905288203173, 'pqI3dNNWjA': 0.3571071082620618, 'fJzgGvbwUE': 0.3082288204059826, 'vCh4KEcrTD': 0.1706416275241663, '4VGoltqhzv': 0.11872014547644762, 'Iv61Fw05XK': 0.08385354812102598, 'Yaums85LS6': 0.20551022191861276, 'cOJ226nCZ4': 0.0773757043624089, '5FEtwwKJtY': 0.13481431187742998, 'RVixlLfKEe': 0.19660947231597142, 'GTtXZCegOZ': 0.14258354195055034, 'J9xVEEspC9': 0.1774782971404996, 'gamwPOt7Cj': 0.0, 'i0VIppkrVf': 0.0, 'mcCmTKqg1r': 0.12129200607333612, 'kKLQbahrMs': 0.09487446041015425, 'SkmrEaGFJU': 0.17970479487174928, 'vnFUakntku': 0.12989846610073402, 'CigxgBew94': 0.14492847386723787, '1faS6yFowN': 0.08042518802448925, '2ox817TNFc': 0.16950955385890437, 'YZIeBxQlsV': 0.12485455324224595, 'En9HfOMwXA': 0.05350803231081015, '7HZTSufu92': 0.08682576094497681, 'E5XesK4yRA': 0.1254025000271423, 'QWozA4VFZp': 0.20234323248312114, 'Ya8NmwUNd0': 0.11453426808345425, 'xwjtwVdjLj': 0.0693303390485062, 'ddy6eGz0GS': 0.12466370137492279, 'ftB5W0yalq': 0.18576942805916888, '1wjtGuM9P1': 0.12673347424167664, 'vfroVvgRms': 0.07737483275712886, 'GDrO6oVVfF': 0.044681354306860634, 'TAdXUq421Q': 0.15322905288203173, 'GZUspWUOi8': 0.07602749583562804, 'E6HdFmXWg0': 0.1260153576809463, 'ACoFsG2IG8': 0.054482996250373734, 'Nd3our0ZjN': 0.36324791553731217, 'lKqcC30btt': 0.20234323248312114, 'paQSdvsNQA': 0.16841259053405833, '2TklcqXBtG': 0.0885871892553257, 'auGIGMX1He': 0.10318959324116606, 'Nu581hqbbG': 0.09918443019144427, 'SuRhp77ZCx': 0.2981233881835327, 'AuWqrN86vc': 0.1524142476866813, 'oJqcJ3RqmF': 0.2808637297140173, '8EdDdrAQNK': 0.14258354195055034, 'LBUUyONXfX': 0.08726847692846865, 'YFyAPxf0Ni': 0.18576942805916888, 'ImR9eQMZ6k': 0.19400199612365648, 'LobvWDl8Jy': 0.13063106552942066, '41SOBgfSTA': 0.36324791553731217, '7m30TaadKw': 0.12566445924885478, 'BDwnYYHs6i': 0.15822149500880991, 'zM9QyqPRNC': 0.0733581970965028, 'GiVGovTMPj': 0.09278525584436637, '07s0zeZYjN': 0.034825650139156304}\n"
     ]
    },
    {
     "output_type": "display_data",
     "data": {
      "text/plain": [
       "      objectId                    name  \\\n",
       "18  Nd3our0ZjN      Professional Email   \n",
       "34  41SOBgfSTA  Virtual Private Server   \n",
       "48  pqI3dNNWjA            Web Hosting    \n",
       "47  fJzgGvbwUE         Website Builder   \n",
       "25  SuRhp77ZCx      Digital Marketing    \n",
       "28  oJqcJ3RqmF        SSL & SECURITY     \n",
       "61  f9WeJggEuN                  Gibbon   \n",
       "50  Yaums85LS6                   HESK    \n",
       "35  QWozA4VFZp           SurveyProject   \n",
       "19  lKqcC30btt                  Joomla   \n",
       "53  RVixlLfKEe      Storage and backup   \n",
       "59  jKgY0RcJsL       Easy!Appointments   \n",
       "26  58z2G8LUxk                  Mautic   \n",
       "32  ImR9eQMZ6k                    GLPI   \n",
       "31  YFyAPxf0Ni                 Magento   \n",
       "4   ftB5W0yalq              PrestaShop   \n",
       "62  SkmrEaGFJU                 Seafile   \n",
       "54  J9xVEEspC9                Security   \n",
       "46  vCh4KEcrTD             OpenProject   \n",
       "23  CprptNr2Nx                 Redmine   \n",
       "\n",
       "                                          description  \\\n",
       "18                                  Email description   \n",
       "34                                    Vps description   \n",
       "48                            Web Hosting description   \n",
       "47                        Website Builder description   \n",
       "25                      Digital Marketing description   \n",
       "28                          SSL & SECRITY description   \n",
       "61  Gibbon is a free, open-source and flexible Stu...   \n",
       "50  HESK is a free help desk software that allows ...   \n",
       "35  Survey Project is a free, open source web appl...   \n",
       "19  Joomla is a free content management system (CM...   \n",
       "53                                 Storage and backup   \n",
       "59  Easy!Appointments is a highly customizable web...   \n",
       "26  Mautic is a unique fully-featured omnichannel ...   \n",
       "32  GLPI is a free, easy-to-use incident control s...   \n",
       "31  Magento is the ultimate e-commerce store devel...   \n",
       "4   PrestaShop is a freemium e-commerce solution t...   \n",
       "62  Seafile is an open source file synchronization...   \n",
       "54                                           Security   \n",
       "46  OpenProject is open-source software that excel...   \n",
       "23  Redmine is a 100% free, customisable web appli...   \n",
       "\n",
       "                                    description_clean     score  \n",
       "18                                  email description  0.363248  \n",
       "34                                    vps description  0.363248  \n",
       "48                            web hosting description  0.357107  \n",
       "47                        website builder description  0.308229  \n",
       "25                      digital marketing description  0.298123  \n",
       "28                            ssl secrity description  0.280864  \n",
       "61  gibbon free opensource flexible student inform...  0.229915  \n",
       "50  hesk free help desk software allows tickets ma...  0.205510  \n",
       "35  survey project free open source web applicatio...  0.202343  \n",
       "19  joomla free content management system cms publ...  0.202343  \n",
       "53                                     storage backup  0.196609  \n",
       "59  easyappointments highly customizable web appli...  0.194106  \n",
       "26  mautic unique fullyfeatured omnichannel provid...  0.194002  \n",
       "32  glpi free easytouse incident control software ...  0.194002  \n",
       "31  magento ultimate ecommerce store development p...  0.185769  \n",
       "4   prestashop freemium ecommerce solution allows ...  0.185769  \n",
       "62  seafile open source file synchronization shari...  0.179705  \n",
       "54                                           security  0.177478  \n",
       "46  openproject opensource software excels enablin...  0.170642  \n",
       "23  redmine 100 free customisable web application ...  0.170642  "
      ],
      "text/html": [
       "<div>\n",
       "<style scoped>\n",
       "    .dataframe tbody tr th:only-of-type {\n",
       "        vertical-align: middle;\n",
       "    }\n",
       "\n",
       "    .dataframe tbody tr th {\n",
       "        vertical-align: top;\n",
       "    }\n",
       "\n",
       "    .dataframe thead th {\n",
       "        text-align: right;\n",
       "    }\n",
       "</style>\n",
       "<table border=\"1\" class=\"dataframe\">\n",
       "  <thead>\n",
       "    <tr style=\"text-align: right;\">\n",
       "      <th></th>\n",
       "      <th>objectId</th>\n",
       "      <th>name</th>\n",
       "      <th>description</th>\n",
       "      <th>description_clean</th>\n",
       "      <th>score</th>\n",
       "    </tr>\n",
       "  </thead>\n",
       "  <tbody>\n",
       "    <tr>\n",
       "      <th>18</th>\n",
       "      <td>Nd3our0ZjN</td>\n",
       "      <td>Professional Email</td>\n",
       "      <td>Email description</td>\n",
       "      <td>email description</td>\n",
       "      <td>0.363248</td>\n",
       "    </tr>\n",
       "    <tr>\n",
       "      <th>34</th>\n",
       "      <td>41SOBgfSTA</td>\n",
       "      <td>Virtual Private Server</td>\n",
       "      <td>Vps description</td>\n",
       "      <td>vps description</td>\n",
       "      <td>0.363248</td>\n",
       "    </tr>\n",
       "    <tr>\n",
       "      <th>48</th>\n",
       "      <td>pqI3dNNWjA</td>\n",
       "      <td>Web Hosting</td>\n",
       "      <td>Web Hosting description</td>\n",
       "      <td>web hosting description</td>\n",
       "      <td>0.357107</td>\n",
       "    </tr>\n",
       "    <tr>\n",
       "      <th>47</th>\n",
       "      <td>fJzgGvbwUE</td>\n",
       "      <td>Website Builder</td>\n",
       "      <td>Website Builder description</td>\n",
       "      <td>website builder description</td>\n",
       "      <td>0.308229</td>\n",
       "    </tr>\n",
       "    <tr>\n",
       "      <th>25</th>\n",
       "      <td>SuRhp77ZCx</td>\n",
       "      <td>Digital Marketing</td>\n",
       "      <td>Digital Marketing description</td>\n",
       "      <td>digital marketing description</td>\n",
       "      <td>0.298123</td>\n",
       "    </tr>\n",
       "    <tr>\n",
       "      <th>28</th>\n",
       "      <td>oJqcJ3RqmF</td>\n",
       "      <td>SSL &amp; SECURITY</td>\n",
       "      <td>SSL &amp; SECRITY description</td>\n",
       "      <td>ssl secrity description</td>\n",
       "      <td>0.280864</td>\n",
       "    </tr>\n",
       "    <tr>\n",
       "      <th>61</th>\n",
       "      <td>f9WeJggEuN</td>\n",
       "      <td>Gibbon</td>\n",
       "      <td>Gibbon is a free, open-source and flexible Stu...</td>\n",
       "      <td>gibbon free opensource flexible student inform...</td>\n",
       "      <td>0.229915</td>\n",
       "    </tr>\n",
       "    <tr>\n",
       "      <th>50</th>\n",
       "      <td>Yaums85LS6</td>\n",
       "      <td>HESK</td>\n",
       "      <td>HESK is a free help desk software that allows ...</td>\n",
       "      <td>hesk free help desk software allows tickets ma...</td>\n",
       "      <td>0.205510</td>\n",
       "    </tr>\n",
       "    <tr>\n",
       "      <th>35</th>\n",
       "      <td>QWozA4VFZp</td>\n",
       "      <td>SurveyProject</td>\n",
       "      <td>Survey Project is a free, open source web appl...</td>\n",
       "      <td>survey project free open source web applicatio...</td>\n",
       "      <td>0.202343</td>\n",
       "    </tr>\n",
       "    <tr>\n",
       "      <th>19</th>\n",
       "      <td>lKqcC30btt</td>\n",
       "      <td>Joomla</td>\n",
       "      <td>Joomla is a free content management system (CM...</td>\n",
       "      <td>joomla free content management system cms publ...</td>\n",
       "      <td>0.202343</td>\n",
       "    </tr>\n",
       "    <tr>\n",
       "      <th>53</th>\n",
       "      <td>RVixlLfKEe</td>\n",
       "      <td>Storage and backup</td>\n",
       "      <td>Storage and backup</td>\n",
       "      <td>storage backup</td>\n",
       "      <td>0.196609</td>\n",
       "    </tr>\n",
       "    <tr>\n",
       "      <th>59</th>\n",
       "      <td>jKgY0RcJsL</td>\n",
       "      <td>Easy!Appointments</td>\n",
       "      <td>Easy!Appointments is a highly customizable web...</td>\n",
       "      <td>easyappointments highly customizable web appli...</td>\n",
       "      <td>0.194106</td>\n",
       "    </tr>\n",
       "    <tr>\n",
       "      <th>26</th>\n",
       "      <td>58z2G8LUxk</td>\n",
       "      <td>Mautic</td>\n",
       "      <td>Mautic is a unique fully-featured omnichannel ...</td>\n",
       "      <td>mautic unique fullyfeatured omnichannel provid...</td>\n",
       "      <td>0.194002</td>\n",
       "    </tr>\n",
       "    <tr>\n",
       "      <th>32</th>\n",
       "      <td>ImR9eQMZ6k</td>\n",
       "      <td>GLPI</td>\n",
       "      <td>GLPI is a free, easy-to-use incident control s...</td>\n",
       "      <td>glpi free easytouse incident control software ...</td>\n",
       "      <td>0.194002</td>\n",
       "    </tr>\n",
       "    <tr>\n",
       "      <th>31</th>\n",
       "      <td>YFyAPxf0Ni</td>\n",
       "      <td>Magento</td>\n",
       "      <td>Magento is the ultimate e-commerce store devel...</td>\n",
       "      <td>magento ultimate ecommerce store development p...</td>\n",
       "      <td>0.185769</td>\n",
       "    </tr>\n",
       "    <tr>\n",
       "      <th>4</th>\n",
       "      <td>ftB5W0yalq</td>\n",
       "      <td>PrestaShop</td>\n",
       "      <td>PrestaShop is a freemium e-commerce solution t...</td>\n",
       "      <td>prestashop freemium ecommerce solution allows ...</td>\n",
       "      <td>0.185769</td>\n",
       "    </tr>\n",
       "    <tr>\n",
       "      <th>62</th>\n",
       "      <td>SkmrEaGFJU</td>\n",
       "      <td>Seafile</td>\n",
       "      <td>Seafile is an open source file synchronization...</td>\n",
       "      <td>seafile open source file synchronization shari...</td>\n",
       "      <td>0.179705</td>\n",
       "    </tr>\n",
       "    <tr>\n",
       "      <th>54</th>\n",
       "      <td>J9xVEEspC9</td>\n",
       "      <td>Security</td>\n",
       "      <td>Security</td>\n",
       "      <td>security</td>\n",
       "      <td>0.177478</td>\n",
       "    </tr>\n",
       "    <tr>\n",
       "      <th>46</th>\n",
       "      <td>vCh4KEcrTD</td>\n",
       "      <td>OpenProject</td>\n",
       "      <td>OpenProject is open-source software that excel...</td>\n",
       "      <td>openproject opensource software excels enablin...</td>\n",
       "      <td>0.170642</td>\n",
       "    </tr>\n",
       "    <tr>\n",
       "      <th>23</th>\n",
       "      <td>CprptNr2Nx</td>\n",
       "      <td>Redmine</td>\n",
       "      <td>Redmine is a 100% free, customisable web appli...</td>\n",
       "      <td>redmine 100 free customisable web application ...</td>\n",
       "      <td>0.170642</td>\n",
       "    </tr>\n",
       "  </tbody>\n",
       "</table>\n",
       "</div>"
      ]
     },
     "metadata": {}
    }
   ],
   "metadata": {}
  },
  {
   "cell_type": "code",
   "execution_count": null,
   "source": [
    "content_based_rankings = {}"
   ],
   "outputs": [],
   "metadata": {}
  }
 ],
 "metadata": {
  "interpreter": {
   "hash": "93a6a9b76bfd63e02ab1b2bd2e6bc5ff501c9330c8c8db6caa76d3262061148d"
  },
  "kernelspec": {
   "display_name": "Python 3.8.5  ('venv': venv)",
   "name": "python3"
  },
  "language_info": {
   "codemirror_mode": {
    "name": "ipython",
    "version": 3
   },
   "file_extension": ".py",
   "mimetype": "text/x-python",
   "name": "python",
   "nbconvert_exporter": "python",
   "pygments_lexer": "ipython3",
   "version": "3.8.5"
  },
  "orig_nbformat": 3
 },
 "nbformat": 4,
 "nbformat_minor": 2
}