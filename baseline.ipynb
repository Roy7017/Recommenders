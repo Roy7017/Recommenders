{
 "cells": [
  {
   "cell_type": "markdown",
   "source": [
    "# Baseline Models for recommendation"
   ],
   "metadata": {}
  },
  {
   "cell_type": "markdown",
   "source": [
    "## Library Imports"
   ],
   "metadata": {}
  },
  {
   "cell_type": "code",
   "execution_count": 1,
   "source": [
    "from datetime import datetime, timedelta\r\n",
    "import random\r\n",
    "import json\r\n",
    "import statistics\r\n",
    "import re\r\n",
    "from typing import Dict\r\n",
    "import pandas as pd\r\n",
    "import numpy as np\r\n",
    "import matplotlib.pyplot as plt\r\n",
    "import surprise\r\n",
    "import implicit\r\n",
    "import nltk\r\n",
    "from nltk.corpus import stopwords\r\n",
    "import scipy.sparse as sparse\r\n",
    "from scipy.sparse.linalg import spsolve\r\n",
    "from sklearn.linear_model import SGDRegressor\r\n",
    "from sklearn.metrics.pairwise import linear_kernel, cosine_similarity\r\n",
    "from sklearn.feature_extraction.text import CountVectorizer\r\n",
    "from sklearn.feature_extraction.text import TfidfVectorizer\r\n",
    "from sklearn.decomposition import LatentDirichletAllocation\r\n",
    "from tqdm.notebook import tqdm_notebook\r\n",
    "\r\n",
    "tqdm_notebook().pandas()\r\n"
   ],
   "outputs": [
    {
     "output_type": "display_data",
     "data": {
      "text/plain": [
       "0it [00:00, ?it/s]"
      ],
      "application/vnd.jupyter.widget-view+json": {
       "version_major": 2,
       "version_minor": 0,
       "model_id": "c1362c89fc9e4c94968ba2ec9728d1e1"
      }
     },
     "metadata": {}
    }
   ],
   "metadata": {}
  },
  {
   "cell_type": "markdown",
   "source": [
    "## Loading the data"
   ],
   "metadata": {}
  },
  {
   "cell_type": "code",
   "execution_count": 2,
   "source": [
    "user_df = pd.read_csv(\"./columns_removed/users.csv\", index_col=\"Unnamed: 0\")\r\n",
    "account_user_df = pd.read_csv(\r\n",
    "    \"./columns_removed/account_users.csv\", index_col=\"Unnamed: 0\"\r\n",
    ")\r\n",
    "\r\n",
    "service_subscripted_df = pd.read_csv(\r\n",
    "    \"./columns_removed/service_subscripted.csv\", index_col=\"Unnamed: 0\"\r\n",
    ")\r\n",
    "service_subscripted_mode_df = pd.read_csv(\r\n",
    "    \"./columns_removed/service_subscripted_modes.csv\", index_col=\"Unnamed: 0\"\r\n",
    ")\r\n",
    "service_subscripted_status_df = pd.read_csv(\r\n",
    "    \"./columns_removed/service_subscripted_status.csv\", index_col=\"Unnamed: 0\"\r\n",
    ")\r\n",
    "\r\n",
    "service_df = pd.read_csv(\"./columns_removed/services.csv\", index_col=\"Unnamed: 0\")\r\n",
    "service_category_df = pd.read_csv(\r\n",
    "    \"./columns_removed/service_categories.csv\", index_col=\"Unnamed: 0\"\r\n",
    ")\r\n",
    "service_class_df = pd.read_csv(\r\n",
    "    \"./columns_removed/service_classes.csv\", index_col=\"Unnamed: 0\"\r\n",
    ")\r\n",
    "service_price_df = pd.read_csv(\r\n",
    "    \"./columns_removed/service_prices.csv\", index_col=\"Unnamed: 0\"\r\n",
    ")\r\n"
   ],
   "outputs": [],
   "metadata": {}
  },
  {
   "cell_type": "code",
   "execution_count": 3,
   "source": [
    "service_subscripted_df.shape\r\n"
   ],
   "outputs": [
    {
     "output_type": "execute_result",
     "data": {
      "text/plain": [
       "(2354, 30)"
      ]
     },
     "metadata": {},
     "execution_count": 3
    }
   ],
   "metadata": {}
  },
  {
   "cell_type": "markdown",
   "source": [
    "We have just 2354 transactions of data. This is pretty small."
   ],
   "metadata": {}
  },
  {
   "cell_type": "markdown",
   "source": [
    "### Parsing the related data\r\n",
    "The related data comes as an object, we have to parse it, to get just the ID so we can join later on\r\n",
    "- The related columns in the data contain objects with the related data type, and the object id.\r\n",
    "- We create methods to extract the ID (or list of IDs) and replace in the data for more data manipulation"
   ],
   "metadata": {}
  },
  {
   "cell_type": "code",
   "execution_count": 4,
   "source": [
    "def getObjectId(string):\r\n",
    "    return (\r\n",
    "        json.loads(string.replace(\"'\", '\"'))[\"objectId\"]\r\n",
    "        if type(string) == str\r\n",
    "        else None\r\n",
    "    )\r\n"
   ],
   "outputs": [],
   "metadata": {}
  },
  {
   "cell_type": "code",
   "execution_count": 5,
   "source": [
    "def getObjectIds(strings):\r\n",
    "    strings = json.loads(strings.replace(\"'\", '\"')) if type(strings) == str else None\r\n",
    "    return [string[\"objectId\"] for string in strings] if not strings is None else None\r\n"
   ],
   "outputs": [],
   "metadata": {}
  },
  {
   "cell_type": "code",
   "execution_count": 6,
   "source": [
    "print(\"Extracting IDs in service_subscripted_df\")\r\n",
    "service_subscripted_df[\"user\"] = service_subscripted_df[\"user\"].progress_apply(\r\n",
    "    getObjectId\r\n",
    ")\r\n",
    "service_subscripted_df[\"service\"] = service_subscripted_df[\"service\"].progress_apply(\r\n",
    "    getObjectId\r\n",
    ")\r\n",
    "service_subscripted_df[\"servicePrice\"] = service_subscripted_df[\r\n",
    "    \"servicePrice\"\r\n",
    "].progress_apply(getObjectId)\r\n",
    "service_subscripted_df[\"serviceSubscriptedStatus\"] = service_subscripted_df[\r\n",
    "    \"serviceSubscriptedStatus\"\r\n",
    "].progress_apply(getObjectId)\r\n"
   ],
   "outputs": [
    {
     "output_type": "stream",
     "name": "stdout",
     "text": [
      "Extracting IDs in service_subscripted_df\n"
     ]
    },
    {
     "output_type": "display_data",
     "data": {
      "text/plain": [
       "  0%|          | 0/2354 [00:00<?, ?it/s]"
      ],
      "application/vnd.jupyter.widget-view+json": {
       "version_major": 2,
       "version_minor": 0,
       "model_id": "bff249dd73a5479ba28a20c89708cb29"
      }
     },
     "metadata": {}
    },
    {
     "output_type": "display_data",
     "data": {
      "text/plain": [
       "  0%|          | 0/2354 [00:00<?, ?it/s]"
      ],
      "application/vnd.jupyter.widget-view+json": {
       "version_major": 2,
       "version_minor": 0,
       "model_id": "3678777669fb48788911dca29ed9ad1f"
      }
     },
     "metadata": {}
    },
    {
     "output_type": "display_data",
     "data": {
      "text/plain": [
       "  0%|          | 0/2354 [00:00<?, ?it/s]"
      ],
      "application/vnd.jupyter.widget-view+json": {
       "version_major": 2,
       "version_minor": 0,
       "model_id": "53e6e005792049df928f627661c8a634"
      }
     },
     "metadata": {}
    },
    {
     "output_type": "display_data",
     "data": {
      "text/plain": [
       "  0%|          | 0/2354 [00:00<?, ?it/s]"
      ],
      "application/vnd.jupyter.widget-view+json": {
       "version_major": 2,
       "version_minor": 0,
       "model_id": "a80287e8d9a547f1b3dcd46b673c270e"
      }
     },
     "metadata": {}
    }
   ],
   "metadata": {}
  },
  {
   "cell_type": "code",
   "execution_count": 7,
   "source": [
    "service_subscripted_df[\r\n",
    "    [\"user\", \"service\", \"servicePrice\", \"serviceSubscriptedStatus\"]\r\n",
    "].head()\r\n"
   ],
   "outputs": [
    {
     "output_type": "execute_result",
     "data": {
      "text/plain": [
       "         user     service servicePrice serviceSubscriptedStatus\n",
       "0  Wuht2SEQKc  7m30TaadKw   7IQOMYgNjp               tW5G9aXwir\n",
       "1  Wuht2SEQKc  7m30TaadKw   9ZSLOxD6Qe               tW5G9aXwir\n",
       "2  Wuht2SEQKc  AuoUzp7zT5   9ZSLOxD6Qe               tW5G9aXwir\n",
       "3  Wuht2SEQKc  AuoUzp7zT5   7IQOMYgNjp               tW5G9aXwir\n",
       "4  Wuht2SEQKc  ftB5W0yalq   9ZSLOxD6Qe               tW5G9aXwir"
      ],
      "text/html": [
       "<div>\n",
       "<style scoped>\n",
       "    .dataframe tbody tr th:only-of-type {\n",
       "        vertical-align: middle;\n",
       "    }\n",
       "\n",
       "    .dataframe tbody tr th {\n",
       "        vertical-align: top;\n",
       "    }\n",
       "\n",
       "    .dataframe thead th {\n",
       "        text-align: right;\n",
       "    }\n",
       "</style>\n",
       "<table border=\"1\" class=\"dataframe\">\n",
       "  <thead>\n",
       "    <tr style=\"text-align: right;\">\n",
       "      <th></th>\n",
       "      <th>user</th>\n",
       "      <th>service</th>\n",
       "      <th>servicePrice</th>\n",
       "      <th>serviceSubscriptedStatus</th>\n",
       "    </tr>\n",
       "  </thead>\n",
       "  <tbody>\n",
       "    <tr>\n",
       "      <th>0</th>\n",
       "      <td>Wuht2SEQKc</td>\n",
       "      <td>7m30TaadKw</td>\n",
       "      <td>7IQOMYgNjp</td>\n",
       "      <td>tW5G9aXwir</td>\n",
       "    </tr>\n",
       "    <tr>\n",
       "      <th>1</th>\n",
       "      <td>Wuht2SEQKc</td>\n",
       "      <td>7m30TaadKw</td>\n",
       "      <td>9ZSLOxD6Qe</td>\n",
       "      <td>tW5G9aXwir</td>\n",
       "    </tr>\n",
       "    <tr>\n",
       "      <th>2</th>\n",
       "      <td>Wuht2SEQKc</td>\n",
       "      <td>AuoUzp7zT5</td>\n",
       "      <td>9ZSLOxD6Qe</td>\n",
       "      <td>tW5G9aXwir</td>\n",
       "    </tr>\n",
       "    <tr>\n",
       "      <th>3</th>\n",
       "      <td>Wuht2SEQKc</td>\n",
       "      <td>AuoUzp7zT5</td>\n",
       "      <td>7IQOMYgNjp</td>\n",
       "      <td>tW5G9aXwir</td>\n",
       "    </tr>\n",
       "    <tr>\n",
       "      <th>4</th>\n",
       "      <td>Wuht2SEQKc</td>\n",
       "      <td>ftB5W0yalq</td>\n",
       "      <td>9ZSLOxD6Qe</td>\n",
       "      <td>tW5G9aXwir</td>\n",
       "    </tr>\n",
       "  </tbody>\n",
       "</table>\n",
       "</div>"
      ]
     },
     "metadata": {},
     "execution_count": 7
    }
   ],
   "metadata": {}
  },
  {
   "cell_type": "code",
   "execution_count": 8,
   "source": [
    "print(\"Extracting IDs in service_df\")\r\n",
    "service_df = pd.read_csv(\"./columns_removed/services.csv\", index_col=\"Unnamed: 0\")\r\n",
    "service_df[\"servicePrices\"] = service_df[\"servicePrices\"].progress_apply(getObjectIds)\r\n",
    "service_df[\"serviceCategories\"] = service_df[\"serviceCategories\"].progress_apply(\r\n",
    "    getObjectIds\r\n",
    ")\r\n"
   ],
   "outputs": [
    {
     "output_type": "stream",
     "name": "stdout",
     "text": [
      "Extracting IDs in service_df\n"
     ]
    },
    {
     "output_type": "display_data",
     "data": {
      "text/plain": [
       "  0%|          | 0/73 [00:00<?, ?it/s]"
      ],
      "application/vnd.jupyter.widget-view+json": {
       "version_major": 2,
       "version_minor": 0,
       "model_id": "cb92ecb66d204a3fab72d56834791061"
      }
     },
     "metadata": {}
    },
    {
     "output_type": "display_data",
     "data": {
      "text/plain": [
       "  0%|          | 0/73 [00:00<?, ?it/s]"
      ],
      "application/vnd.jupyter.widget-view+json": {
       "version_major": 2,
       "version_minor": 0,
       "model_id": "87db2482c9884251b23fe0957b41b606"
      }
     },
     "metadata": {}
    }
   ],
   "metadata": {}
  },
  {
   "cell_type": "code",
   "execution_count": 9,
   "source": [
    "service_df[[\"servicePrices\", \"serviceCategories\"]].head()\r\n"
   ],
   "outputs": [
    {
     "output_type": "execute_result",
     "data": {
      "text/plain": [
       "                                       servicePrices         serviceCategories\n",
       "0  [S7143GMweM, 4Q1ZU3K9JG, kqjeGDDnok, niCzqvNs2...  [EpKYNatgiA, 1pSekv8tDk]\n",
       "1  [niCzqvNs2p, kqjeGDDnok, udbz7SmUsG, cBoebS59t...  [0wvHuyIHIc, EpKYNatgiA]\n",
       "2  [S7143GMweM, 4Q1ZU3K9JG, kqjeGDDnok, niCzqvNs2...  [Y75plfloDh, 3qMFRyth3m]\n",
       "3  [niCzqvNs2p, kqjeGDDnok, WyRlkmAw6G, SykQsRCcZ...              [1pSekv8tDk]\n",
       "4  [niCzqvNs2p, kqjeGDDnok, WyRlkmAw6G, SykQsRCcZ...              [1pSekv8tDk]"
      ],
      "text/html": [
       "<div>\n",
       "<style scoped>\n",
       "    .dataframe tbody tr th:only-of-type {\n",
       "        vertical-align: middle;\n",
       "    }\n",
       "\n",
       "    .dataframe tbody tr th {\n",
       "        vertical-align: top;\n",
       "    }\n",
       "\n",
       "    .dataframe thead th {\n",
       "        text-align: right;\n",
       "    }\n",
       "</style>\n",
       "<table border=\"1\" class=\"dataframe\">\n",
       "  <thead>\n",
       "    <tr style=\"text-align: right;\">\n",
       "      <th></th>\n",
       "      <th>servicePrices</th>\n",
       "      <th>serviceCategories</th>\n",
       "    </tr>\n",
       "  </thead>\n",
       "  <tbody>\n",
       "    <tr>\n",
       "      <th>0</th>\n",
       "      <td>[S7143GMweM, 4Q1ZU3K9JG, kqjeGDDnok, niCzqvNs2...</td>\n",
       "      <td>[EpKYNatgiA, 1pSekv8tDk]</td>\n",
       "    </tr>\n",
       "    <tr>\n",
       "      <th>1</th>\n",
       "      <td>[niCzqvNs2p, kqjeGDDnok, udbz7SmUsG, cBoebS59t...</td>\n",
       "      <td>[0wvHuyIHIc, EpKYNatgiA]</td>\n",
       "    </tr>\n",
       "    <tr>\n",
       "      <th>2</th>\n",
       "      <td>[S7143GMweM, 4Q1ZU3K9JG, kqjeGDDnok, niCzqvNs2...</td>\n",
       "      <td>[Y75plfloDh, 3qMFRyth3m]</td>\n",
       "    </tr>\n",
       "    <tr>\n",
       "      <th>3</th>\n",
       "      <td>[niCzqvNs2p, kqjeGDDnok, WyRlkmAw6G, SykQsRCcZ...</td>\n",
       "      <td>[1pSekv8tDk]</td>\n",
       "    </tr>\n",
       "    <tr>\n",
       "      <th>4</th>\n",
       "      <td>[niCzqvNs2p, kqjeGDDnok, WyRlkmAw6G, SykQsRCcZ...</td>\n",
       "      <td>[1pSekv8tDk]</td>\n",
       "    </tr>\n",
       "  </tbody>\n",
       "</table>\n",
       "</div>"
      ]
     },
     "metadata": {},
     "execution_count": 9
    }
   ],
   "metadata": {}
  },
  {
   "cell_type": "markdown",
   "source": [
    "## Splitting the train and test data"
   ],
   "metadata": {}
  },
  {
   "cell_type": "markdown",
   "source": [
    "- We will order our transactions.\r\n",
    "- We then split them to leave a section of the later transactions out as our test set.\r\n",
    "- Our model is evaluated on the test to verify if the model, would have gotten their purchases correct."
   ],
   "metadata": {}
  },
  {
   "cell_type": "code",
   "execution_count": 10,
   "source": [
    "service_subscripted_df[\"createdAt\"] = pd.to_datetime(\r\n",
    "    service_subscripted_df[\"createdAt\"]\r\n",
    ")\r\n",
    "service_subscripted_df = service_subscripted_df.sort_values(by=\"createdAt\")\r\n",
    "service_subscripted_df[[\"objectId\", \"user\", \"service\", \"createdAt\"]].head()\r\n"
   ],
   "outputs": [
    {
     "output_type": "execute_result",
     "data": {
      "text/plain": [
       "     objectId        user     service                        createdAt\n",
       "0  CKaeuDD4Pz  Wuht2SEQKc  7m30TaadKw 2018-06-14 16:45:08.861000+00:00\n",
       "1  BF71jBseqP  Wuht2SEQKc  7m30TaadKw 2018-06-14 16:47:09.686000+00:00\n",
       "2  p28B1oCABN  Wuht2SEQKc  AuoUzp7zT5 2018-06-14 16:58:07.494000+00:00\n",
       "3  hngNyfZy40  Wuht2SEQKc  AuoUzp7zT5 2018-06-14 17:01:02.038000+00:00\n",
       "4  MNLGJSLQU3  Wuht2SEQKc  ftB5W0yalq 2018-06-14 18:42:27.391000+00:00"
      ],
      "text/html": [
       "<div>\n",
       "<style scoped>\n",
       "    .dataframe tbody tr th:only-of-type {\n",
       "        vertical-align: middle;\n",
       "    }\n",
       "\n",
       "    .dataframe tbody tr th {\n",
       "        vertical-align: top;\n",
       "    }\n",
       "\n",
       "    .dataframe thead th {\n",
       "        text-align: right;\n",
       "    }\n",
       "</style>\n",
       "<table border=\"1\" class=\"dataframe\">\n",
       "  <thead>\n",
       "    <tr style=\"text-align: right;\">\n",
       "      <th></th>\n",
       "      <th>objectId</th>\n",
       "      <th>user</th>\n",
       "      <th>service</th>\n",
       "      <th>createdAt</th>\n",
       "    </tr>\n",
       "  </thead>\n",
       "  <tbody>\n",
       "    <tr>\n",
       "      <th>0</th>\n",
       "      <td>CKaeuDD4Pz</td>\n",
       "      <td>Wuht2SEQKc</td>\n",
       "      <td>7m30TaadKw</td>\n",
       "      <td>2018-06-14 16:45:08.861000+00:00</td>\n",
       "    </tr>\n",
       "    <tr>\n",
       "      <th>1</th>\n",
       "      <td>BF71jBseqP</td>\n",
       "      <td>Wuht2SEQKc</td>\n",
       "      <td>7m30TaadKw</td>\n",
       "      <td>2018-06-14 16:47:09.686000+00:00</td>\n",
       "    </tr>\n",
       "    <tr>\n",
       "      <th>2</th>\n",
       "      <td>p28B1oCABN</td>\n",
       "      <td>Wuht2SEQKc</td>\n",
       "      <td>AuoUzp7zT5</td>\n",
       "      <td>2018-06-14 16:58:07.494000+00:00</td>\n",
       "    </tr>\n",
       "    <tr>\n",
       "      <th>3</th>\n",
       "      <td>hngNyfZy40</td>\n",
       "      <td>Wuht2SEQKc</td>\n",
       "      <td>AuoUzp7zT5</td>\n",
       "      <td>2018-06-14 17:01:02.038000+00:00</td>\n",
       "    </tr>\n",
       "    <tr>\n",
       "      <th>4</th>\n",
       "      <td>MNLGJSLQU3</td>\n",
       "      <td>Wuht2SEQKc</td>\n",
       "      <td>ftB5W0yalq</td>\n",
       "      <td>2018-06-14 18:42:27.391000+00:00</td>\n",
       "    </tr>\n",
       "  </tbody>\n",
       "</table>\n",
       "</div>"
      ]
     },
     "metadata": {},
     "execution_count": 10
    }
   ],
   "metadata": {}
  },
  {
   "cell_type": "code",
   "execution_count": 11,
   "source": [
    "print(service_subscripted_df[\"createdAt\"].dtype)\r\n",
    "earliest_date: datetime = service_subscripted_df.iloc[0, 10]\r\n",
    "latest_date: datetime = service_subscripted_df.iloc[-1, 10]\r\n",
    "time_difference = latest_date - earliest_date\r\n",
    "print(\"The earliest date is: {}\".format(earliest_date))\r\n",
    "print(\"The latest date is: {}\\n\".format(latest_date))\r\n",
    "print(\"The timespan of the dataset is: {} days\".format(time_difference.days))\r\n"
   ],
   "outputs": [
    {
     "output_type": "stream",
     "name": "stdout",
     "text": [
      "datetime64[ns, UTC]\n",
      "The earliest date is: 2018-06-14 16:45:08.861000+00:00\n",
      "The latest date is: 2021-03-22 15:36:05.046000+00:00\n",
      "\n",
      "The timespan of the dataset is: 1011 days\n"
     ]
    }
   ],
   "metadata": {}
  },
  {
   "cell_type": "markdown",
   "source": [
    "The timespan corresponds to about 3 years. This means that we can consider the test set as the last year of the data while we train on the first two years.\r\n",
    "\r\n",
    "- The train set will be the first 24 months: `24 x 30 = 720` days\r\n",
    "- The test set will be the rest"
   ],
   "metadata": {}
  },
  {
   "cell_type": "code",
   "execution_count": 12,
   "source": [
    "training_split_date: datetime = earliest_date + timedelta(days=720)\r\n",
    "train_set = service_subscripted_df[\r\n",
    "    service_subscripted_df[\"createdAt\"] < training_split_date\r\n",
    "]\r\n",
    "test_set = service_subscripted_df[\r\n",
    "    service_subscripted_df[\"createdAt\"] >= training_split_date\r\n",
    "]\r\n"
   ],
   "outputs": [],
   "metadata": {}
  },
  {
   "cell_type": "code",
   "execution_count": 13,
   "source": [
    "train_set[[\"objectId\", \"user\", \"service\", \"createdAt\"]].head()\r\n"
   ],
   "outputs": [
    {
     "output_type": "execute_result",
     "data": {
      "text/plain": [
       "     objectId        user     service                        createdAt\n",
       "0  CKaeuDD4Pz  Wuht2SEQKc  7m30TaadKw 2018-06-14 16:45:08.861000+00:00\n",
       "1  BF71jBseqP  Wuht2SEQKc  7m30TaadKw 2018-06-14 16:47:09.686000+00:00\n",
       "2  p28B1oCABN  Wuht2SEQKc  AuoUzp7zT5 2018-06-14 16:58:07.494000+00:00\n",
       "3  hngNyfZy40  Wuht2SEQKc  AuoUzp7zT5 2018-06-14 17:01:02.038000+00:00\n",
       "4  MNLGJSLQU3  Wuht2SEQKc  ftB5W0yalq 2018-06-14 18:42:27.391000+00:00"
      ],
      "text/html": [
       "<div>\n",
       "<style scoped>\n",
       "    .dataframe tbody tr th:only-of-type {\n",
       "        vertical-align: middle;\n",
       "    }\n",
       "\n",
       "    .dataframe tbody tr th {\n",
       "        vertical-align: top;\n",
       "    }\n",
       "\n",
       "    .dataframe thead th {\n",
       "        text-align: right;\n",
       "    }\n",
       "</style>\n",
       "<table border=\"1\" class=\"dataframe\">\n",
       "  <thead>\n",
       "    <tr style=\"text-align: right;\">\n",
       "      <th></th>\n",
       "      <th>objectId</th>\n",
       "      <th>user</th>\n",
       "      <th>service</th>\n",
       "      <th>createdAt</th>\n",
       "    </tr>\n",
       "  </thead>\n",
       "  <tbody>\n",
       "    <tr>\n",
       "      <th>0</th>\n",
       "      <td>CKaeuDD4Pz</td>\n",
       "      <td>Wuht2SEQKc</td>\n",
       "      <td>7m30TaadKw</td>\n",
       "      <td>2018-06-14 16:45:08.861000+00:00</td>\n",
       "    </tr>\n",
       "    <tr>\n",
       "      <th>1</th>\n",
       "      <td>BF71jBseqP</td>\n",
       "      <td>Wuht2SEQKc</td>\n",
       "      <td>7m30TaadKw</td>\n",
       "      <td>2018-06-14 16:47:09.686000+00:00</td>\n",
       "    </tr>\n",
       "    <tr>\n",
       "      <th>2</th>\n",
       "      <td>p28B1oCABN</td>\n",
       "      <td>Wuht2SEQKc</td>\n",
       "      <td>AuoUzp7zT5</td>\n",
       "      <td>2018-06-14 16:58:07.494000+00:00</td>\n",
       "    </tr>\n",
       "    <tr>\n",
       "      <th>3</th>\n",
       "      <td>hngNyfZy40</td>\n",
       "      <td>Wuht2SEQKc</td>\n",
       "      <td>AuoUzp7zT5</td>\n",
       "      <td>2018-06-14 17:01:02.038000+00:00</td>\n",
       "    </tr>\n",
       "    <tr>\n",
       "      <th>4</th>\n",
       "      <td>MNLGJSLQU3</td>\n",
       "      <td>Wuht2SEQKc</td>\n",
       "      <td>ftB5W0yalq</td>\n",
       "      <td>2018-06-14 18:42:27.391000+00:00</td>\n",
       "    </tr>\n",
       "  </tbody>\n",
       "</table>\n",
       "</div>"
      ]
     },
     "metadata": {},
     "execution_count": 13
    }
   ],
   "metadata": {}
  },
  {
   "cell_type": "markdown",
   "source": [
    "## Grouping and Joining the data"
   ],
   "metadata": {}
  },
  {
   "cell_type": "markdown",
   "source": [
    "- We join the service_subscripted_df with the service_df to get the service information.\r\n",
    "- Before joining, we group by user and service to get the number of times a user has subscribed to a product."
   ],
   "metadata": {}
  },
  {
   "cell_type": "code",
   "execution_count": 14,
   "source": [
    "train_subscribe_count = train_set.groupby([\"user\", \"service\"], as_index=False).size()\r\n",
    "test_subscribe_count = test_set.groupby([\"user\", \"service\"], as_index=False).size()\r\n",
    "\r\n",
    "train_subscribe_count.head()\r\n"
   ],
   "outputs": [
    {
     "output_type": "execute_result",
     "data": {
      "text/plain": [
       "         user     service  size\n",
       "0  0ULHUAAtf3  07s0zeZYjN    53\n",
       "1  0ULHUAAtf3  1VPS3tlcBE     3\n",
       "2  0ULHUAAtf3  1wjtGuM9P1    10\n",
       "3  0ULHUAAtf3  2TklcqXBtG     1\n",
       "4  0ULHUAAtf3  41SOBgfSTA     8"
      ],
      "text/html": [
       "<div>\n",
       "<style scoped>\n",
       "    .dataframe tbody tr th:only-of-type {\n",
       "        vertical-align: middle;\n",
       "    }\n",
       "\n",
       "    .dataframe tbody tr th {\n",
       "        vertical-align: top;\n",
       "    }\n",
       "\n",
       "    .dataframe thead th {\n",
       "        text-align: right;\n",
       "    }\n",
       "</style>\n",
       "<table border=\"1\" class=\"dataframe\">\n",
       "  <thead>\n",
       "    <tr style=\"text-align: right;\">\n",
       "      <th></th>\n",
       "      <th>user</th>\n",
       "      <th>service</th>\n",
       "      <th>size</th>\n",
       "    </tr>\n",
       "  </thead>\n",
       "  <tbody>\n",
       "    <tr>\n",
       "      <th>0</th>\n",
       "      <td>0ULHUAAtf3</td>\n",
       "      <td>07s0zeZYjN</td>\n",
       "      <td>53</td>\n",
       "    </tr>\n",
       "    <tr>\n",
       "      <th>1</th>\n",
       "      <td>0ULHUAAtf3</td>\n",
       "      <td>1VPS3tlcBE</td>\n",
       "      <td>3</td>\n",
       "    </tr>\n",
       "    <tr>\n",
       "      <th>2</th>\n",
       "      <td>0ULHUAAtf3</td>\n",
       "      <td>1wjtGuM9P1</td>\n",
       "      <td>10</td>\n",
       "    </tr>\n",
       "    <tr>\n",
       "      <th>3</th>\n",
       "      <td>0ULHUAAtf3</td>\n",
       "      <td>2TklcqXBtG</td>\n",
       "      <td>1</td>\n",
       "    </tr>\n",
       "    <tr>\n",
       "      <th>4</th>\n",
       "      <td>0ULHUAAtf3</td>\n",
       "      <td>41SOBgfSTA</td>\n",
       "      <td>8</td>\n",
       "    </tr>\n",
       "  </tbody>\n",
       "</table>\n",
       "</div>"
      ]
     },
     "metadata": {},
     "execution_count": 14
    }
   ],
   "metadata": {}
  },
  {
   "cell_type": "code",
   "execution_count": 15,
   "source": [
    "train_data = train_subscribe_count[[\"user\", \"service\", \"size\"]].join(\r\n",
    "    service_df[\r\n",
    "        [\r\n",
    "            \"objectId\",\r\n",
    "            \"serviceCategories\",\r\n",
    "            \"servicePrices\",\r\n",
    "            \"name\",\r\n",
    "            \"task_name\",\r\n",
    "            \"keywordServiceCategories\",\r\n",
    "            \"description\",\r\n",
    "            \"haveAndroidApp\",\r\n",
    "            \"haveIOSApp\",\r\n",
    "        ]\r\n",
    "    ].set_index(\"objectId\"),\r\n",
    "    on=\"service\",\r\n",
    "    how=\"left\",\r\n",
    ")\r\n",
    "\r\n",
    "test_data = test_subscribe_count[[\"user\", \"service\", \"size\"]].join(\r\n",
    "    service_df[\r\n",
    "        [\r\n",
    "            \"objectId\",\r\n",
    "            \"serviceCategories\",\r\n",
    "            \"servicePrices\",\r\n",
    "            \"name\",\r\n",
    "            \"task_name\",\r\n",
    "            \"keywordServiceCategories\",\r\n",
    "            \"description\",\r\n",
    "            \"haveAndroidApp\",\r\n",
    "            \"haveIOSApp\",\r\n",
    "        ]\r\n",
    "    ].set_index(\"objectId\"),\r\n",
    "    on=\"service\",\r\n",
    "    how=\"left\",\r\n",
    ")\r\n"
   ],
   "outputs": [],
   "metadata": {}
  },
  {
   "cell_type": "code",
   "execution_count": 69,
   "source": [
    "train_data.head()\r\n"
   ],
   "outputs": [
    {
     "output_type": "execute_result",
     "data": {
      "text/plain": [
       "         user     service  size         serviceCategories  \\\n",
       "0  0ULHUAAtf3  07s0zeZYjN    53                      None   \n",
       "1  0ULHUAAtf3  1VPS3tlcBE     3                       NaN   \n",
       "2  0ULHUAAtf3  1wjtGuM9P1    10              [1pSekv8tDk]   \n",
       "3  0ULHUAAtf3  2TklcqXBtG     1  [Y75plfloDh, 3qMFRyth3m]   \n",
       "4  0ULHUAAtf3  41SOBgfSTA     8              [HMFAL7N1yK]   \n",
       "\n",
       "                                       servicePrices                    name  \\\n",
       "0                                               None             Domain Name   \n",
       "1                                                NaN                     NaN   \n",
       "2  [niCzqvNs2p, kqjeGDDnok, WyRlkmAw6G, SykQsRCcZ...                  Drupal   \n",
       "3  [niCzqvNs2p, kqjeGDDnok, udbz7SmUsG, cBoebS59t...               MediaWiki   \n",
       "4  [prBlW9GMpA, CuYOUoKqX0, 0eSSww5jud, yMmOf4BEC...  Virtual Private Server   \n",
       "\n",
       "   task_name                       keywordServiceCategories  \\\n",
       "0        dns                                            NaN   \n",
       "1        NaN                                            NaN   \n",
       "2     drupal            ['content', 'management', 'system']   \n",
       "3  mediawiki  ['software', 'development', 'devops', 'tool']   \n",
       "4       vps                ['virtual', 'private', 'server']   \n",
       "\n",
       "                                         description haveAndroidApp  \\\n",
       "0  The Domain Name System (DNS) is a hierarchical...            NaN   \n",
       "1                                                NaN            NaN   \n",
       "2  Drupal is a popular CMS software, based on har...          False   \n",
       "3  MediaWiki is a collaboration and documentation...          False   \n",
       "4                                    Vps description            NaN   \n",
       "\n",
       "  haveIOSApp   baseline   confidence  \n",
       "0        NaN  41.599726  1664.989032  \n",
       "1        NaN  -2.945354  -116.814176  \n",
       "2      False   4.791660   192.666380  \n",
       "3      False  -4.985331  -198.413251  \n",
       "4        NaN   0.249184    10.967375  "
      ],
      "text/html": [
       "<div>\n",
       "<style scoped>\n",
       "    .dataframe tbody tr th:only-of-type {\n",
       "        vertical-align: middle;\n",
       "    }\n",
       "\n",
       "    .dataframe tbody tr th {\n",
       "        vertical-align: top;\n",
       "    }\n",
       "\n",
       "    .dataframe thead th {\n",
       "        text-align: right;\n",
       "    }\n",
       "</style>\n",
       "<table border=\"1\" class=\"dataframe\">\n",
       "  <thead>\n",
       "    <tr style=\"text-align: right;\">\n",
       "      <th></th>\n",
       "      <th>user</th>\n",
       "      <th>service</th>\n",
       "      <th>size</th>\n",
       "      <th>serviceCategories</th>\n",
       "      <th>servicePrices</th>\n",
       "      <th>name</th>\n",
       "      <th>task_name</th>\n",
       "      <th>keywordServiceCategories</th>\n",
       "      <th>description</th>\n",
       "      <th>haveAndroidApp</th>\n",
       "      <th>haveIOSApp</th>\n",
       "      <th>baseline</th>\n",
       "      <th>confidence</th>\n",
       "    </tr>\n",
       "  </thead>\n",
       "  <tbody>\n",
       "    <tr>\n",
       "      <th>0</th>\n",
       "      <td>0ULHUAAtf3</td>\n",
       "      <td>07s0zeZYjN</td>\n",
       "      <td>53</td>\n",
       "      <td>None</td>\n",
       "      <td>None</td>\n",
       "      <td>Domain Name</td>\n",
       "      <td>dns</td>\n",
       "      <td>NaN</td>\n",
       "      <td>The Domain Name System (DNS) is a hierarchical...</td>\n",
       "      <td>NaN</td>\n",
       "      <td>NaN</td>\n",
       "      <td>41.599726</td>\n",
       "      <td>1664.989032</td>\n",
       "    </tr>\n",
       "    <tr>\n",
       "      <th>1</th>\n",
       "      <td>0ULHUAAtf3</td>\n",
       "      <td>1VPS3tlcBE</td>\n",
       "      <td>3</td>\n",
       "      <td>NaN</td>\n",
       "      <td>NaN</td>\n",
       "      <td>NaN</td>\n",
       "      <td>NaN</td>\n",
       "      <td>NaN</td>\n",
       "      <td>NaN</td>\n",
       "      <td>NaN</td>\n",
       "      <td>NaN</td>\n",
       "      <td>-2.945354</td>\n",
       "      <td>-116.814176</td>\n",
       "    </tr>\n",
       "    <tr>\n",
       "      <th>2</th>\n",
       "      <td>0ULHUAAtf3</td>\n",
       "      <td>1wjtGuM9P1</td>\n",
       "      <td>10</td>\n",
       "      <td>[1pSekv8tDk]</td>\n",
       "      <td>[niCzqvNs2p, kqjeGDDnok, WyRlkmAw6G, SykQsRCcZ...</td>\n",
       "      <td>Drupal</td>\n",
       "      <td>drupal</td>\n",
       "      <td>['content', 'management', 'system']</td>\n",
       "      <td>Drupal is a popular CMS software, based on har...</td>\n",
       "      <td>False</td>\n",
       "      <td>False</td>\n",
       "      <td>4.791660</td>\n",
       "      <td>192.666380</td>\n",
       "    </tr>\n",
       "    <tr>\n",
       "      <th>3</th>\n",
       "      <td>0ULHUAAtf3</td>\n",
       "      <td>2TklcqXBtG</td>\n",
       "      <td>1</td>\n",
       "      <td>[Y75plfloDh, 3qMFRyth3m]</td>\n",
       "      <td>[niCzqvNs2p, kqjeGDDnok, udbz7SmUsG, cBoebS59t...</td>\n",
       "      <td>MediaWiki</td>\n",
       "      <td>mediawiki</td>\n",
       "      <td>['software', 'development', 'devops', 'tool']</td>\n",
       "      <td>MediaWiki is a collaboration and documentation...</td>\n",
       "      <td>False</td>\n",
       "      <td>False</td>\n",
       "      <td>-4.985331</td>\n",
       "      <td>-198.413251</td>\n",
       "    </tr>\n",
       "    <tr>\n",
       "      <th>4</th>\n",
       "      <td>0ULHUAAtf3</td>\n",
       "      <td>41SOBgfSTA</td>\n",
       "      <td>8</td>\n",
       "      <td>[HMFAL7N1yK]</td>\n",
       "      <td>[prBlW9GMpA, CuYOUoKqX0, 0eSSww5jud, yMmOf4BEC...</td>\n",
       "      <td>Virtual Private Server</td>\n",
       "      <td>vps</td>\n",
       "      <td>['virtual', 'private', 'server']</td>\n",
       "      <td>Vps description</td>\n",
       "      <td>NaN</td>\n",
       "      <td>NaN</td>\n",
       "      <td>0.249184</td>\n",
       "      <td>10.967375</td>\n",
       "    </tr>\n",
       "  </tbody>\n",
       "</table>\n",
       "</div>"
      ]
     },
     "metadata": {},
     "execution_count": 69
    }
   ],
   "metadata": {}
  },
  {
   "cell_type": "code",
   "execution_count": 66,
   "source": [
    "service_count = train_data[['user', 'service', 'size']].groupby('service', as_index=False).sum()\r\n",
    "display(service_count.head(10))\r\n",
    "service_count['size'].describe()"
   ],
   "outputs": [
    {
     "output_type": "display_data",
     "data": {
      "text/plain": [
       "      service  size\n",
       "0  07s0zeZYjN   313\n",
       "1  0Fegzq4Ny0     9\n",
       "2  1VPS3tlcBE    22\n",
       "3  1wjtGuM9P1    16\n",
       "4  2TklcqXBtG    39\n",
       "5  41SOBgfSTA    96\n",
       "6  4VGoltqhzv     2\n",
       "7  58z2G8LUxk    17\n",
       "8  5FEtwwKJtY     4\n",
       "9  7m30TaadKw    68"
      ],
      "text/html": [
       "<div>\n",
       "<style scoped>\n",
       "    .dataframe tbody tr th:only-of-type {\n",
       "        vertical-align: middle;\n",
       "    }\n",
       "\n",
       "    .dataframe tbody tr th {\n",
       "        vertical-align: top;\n",
       "    }\n",
       "\n",
       "    .dataframe thead th {\n",
       "        text-align: right;\n",
       "    }\n",
       "</style>\n",
       "<table border=\"1\" class=\"dataframe\">\n",
       "  <thead>\n",
       "    <tr style=\"text-align: right;\">\n",
       "      <th></th>\n",
       "      <th>service</th>\n",
       "      <th>size</th>\n",
       "    </tr>\n",
       "  </thead>\n",
       "  <tbody>\n",
       "    <tr>\n",
       "      <th>0</th>\n",
       "      <td>07s0zeZYjN</td>\n",
       "      <td>313</td>\n",
       "    </tr>\n",
       "    <tr>\n",
       "      <th>1</th>\n",
       "      <td>0Fegzq4Ny0</td>\n",
       "      <td>9</td>\n",
       "    </tr>\n",
       "    <tr>\n",
       "      <th>2</th>\n",
       "      <td>1VPS3tlcBE</td>\n",
       "      <td>22</td>\n",
       "    </tr>\n",
       "    <tr>\n",
       "      <th>3</th>\n",
       "      <td>1wjtGuM9P1</td>\n",
       "      <td>16</td>\n",
       "    </tr>\n",
       "    <tr>\n",
       "      <th>4</th>\n",
       "      <td>2TklcqXBtG</td>\n",
       "      <td>39</td>\n",
       "    </tr>\n",
       "    <tr>\n",
       "      <th>5</th>\n",
       "      <td>41SOBgfSTA</td>\n",
       "      <td>96</td>\n",
       "    </tr>\n",
       "    <tr>\n",
       "      <th>6</th>\n",
       "      <td>4VGoltqhzv</td>\n",
       "      <td>2</td>\n",
       "    </tr>\n",
       "    <tr>\n",
       "      <th>7</th>\n",
       "      <td>58z2G8LUxk</td>\n",
       "      <td>17</td>\n",
       "    </tr>\n",
       "    <tr>\n",
       "      <th>8</th>\n",
       "      <td>5FEtwwKJtY</td>\n",
       "      <td>4</td>\n",
       "    </tr>\n",
       "    <tr>\n",
       "      <th>9</th>\n",
       "      <td>7m30TaadKw</td>\n",
       "      <td>68</td>\n",
       "    </tr>\n",
       "  </tbody>\n",
       "</table>\n",
       "</div>"
      ]
     },
     "metadata": {}
    },
    {
     "output_type": "execute_result",
     "data": {
      "text/plain": [
       "count     62.000000\n",
       "mean      24.435484\n",
       "std       47.963996\n",
       "min        1.000000\n",
       "25%        5.000000\n",
       "50%       12.000000\n",
       "75%       20.750000\n",
       "max      313.000000\n",
       "Name: size, dtype: float64"
      ]
     },
     "metadata": {},
     "execution_count": 66
    }
   ],
   "metadata": {}
  },
  {
   "cell_type": "markdown",
   "source": [
    "The service purchases are nose-heavy with a few of the items being bought exponentially more than the rest."
   ],
   "metadata": {}
  },
  {
   "cell_type": "code",
   "execution_count": 65,
   "source": [
    "service_count.sort_values(by='size', ascending=False, inplace=True)\r\n",
    "plt.plot(service_count[\"service\"].values, service_count[\"size\"].values)"
   ],
   "outputs": [
    {
     "output_type": "execute_result",
     "data": {
      "text/plain": [
       "[<matplotlib.lines.Line2D at 0x1d223df63a0>]"
      ]
     },
     "metadata": {},
     "execution_count": 65
    },
    {
     "output_type": "display_data",
     "data": {
      "text/plain": [
       "<Figure size 432x288 with 1 Axes>"
      ],
      "image/png": "[encoded data removed]"
     },
     "metadata": {
      "needs_background": "light"
     }
    }
   ],
   "metadata": {}
  },
  {
   "cell_type": "markdown",
   "source": [
    "We have a similar curve with the users."
   ],
   "metadata": {}
  },
  {
   "cell_type": "code",
   "execution_count": null,
   "source": [
    "service_count = train_data[['user', 'service', 'size']].groupby('service', as_index=False).sum()\r\n",
    "service_count.head(10)"
   ],
   "outputs": [],
   "metadata": {}
  },
  {
   "cell_type": "code",
   "execution_count": 67,
   "source": [
    "user_count = train_data[['user', 'service', 'size']].groupby('user', as_index=False).sum()\r\n",
    "display(user_count.head(10))\r\n",
    "user_count['size'].describe()"
   ],
   "outputs": [
    {
     "output_type": "display_data",
     "data": {
      "text/plain": [
       "         user  size\n",
       "0  0ULHUAAtf3   271\n",
       "1  0Vnwjva3DC     3\n",
       "2  1ft2m6PbF3     4\n",
       "3  1jCnE220nA    43\n",
       "4  3g9IFrAAXf     1\n",
       "5  49xBwwcHpk     3\n",
       "6  4J60SXAGWB   209\n",
       "7  67mvU6rzxL    11\n",
       "8  7lF3yeqSP2     3\n",
       "9  80PupPuABn     1"
      ],
      "text/html": [
       "<div>\n",
       "<style scoped>\n",
       "    .dataframe tbody tr th:only-of-type {\n",
       "        vertical-align: middle;\n",
       "    }\n",
       "\n",
       "    .dataframe tbody tr th {\n",
       "        vertical-align: top;\n",
       "    }\n",
       "\n",
       "    .dataframe thead th {\n",
       "        text-align: right;\n",
       "    }\n",
       "</style>\n",
       "<table border=\"1\" class=\"dataframe\">\n",
       "  <thead>\n",
       "    <tr style=\"text-align: right;\">\n",
       "      <th></th>\n",
       "      <th>user</th>\n",
       "      <th>size</th>\n",
       "    </tr>\n",
       "  </thead>\n",
       "  <tbody>\n",
       "    <tr>\n",
       "      <th>0</th>\n",
       "      <td>0ULHUAAtf3</td>\n",
       "      <td>271</td>\n",
       "    </tr>\n",
       "    <tr>\n",
       "      <th>1</th>\n",
       "      <td>0Vnwjva3DC</td>\n",
       "      <td>3</td>\n",
       "    </tr>\n",
       "    <tr>\n",
       "      <th>2</th>\n",
       "      <td>1ft2m6PbF3</td>\n",
       "      <td>4</td>\n",
       "    </tr>\n",
       "    <tr>\n",
       "      <th>3</th>\n",
       "      <td>1jCnE220nA</td>\n",
       "      <td>43</td>\n",
       "    </tr>\n",
       "    <tr>\n",
       "      <th>4</th>\n",
       "      <td>3g9IFrAAXf</td>\n",
       "      <td>1</td>\n",
       "    </tr>\n",
       "    <tr>\n",
       "      <th>5</th>\n",
       "      <td>49xBwwcHpk</td>\n",
       "      <td>3</td>\n",
       "    </tr>\n",
       "    <tr>\n",
       "      <th>6</th>\n",
       "      <td>4J60SXAGWB</td>\n",
       "      <td>209</td>\n",
       "    </tr>\n",
       "    <tr>\n",
       "      <th>7</th>\n",
       "      <td>67mvU6rzxL</td>\n",
       "      <td>11</td>\n",
       "    </tr>\n",
       "    <tr>\n",
       "      <th>8</th>\n",
       "      <td>7lF3yeqSP2</td>\n",
       "      <td>3</td>\n",
       "    </tr>\n",
       "    <tr>\n",
       "      <th>9</th>\n",
       "      <td>80PupPuABn</td>\n",
       "      <td>1</td>\n",
       "    </tr>\n",
       "  </tbody>\n",
       "</table>\n",
       "</div>"
      ]
     },
     "metadata": {}
    },
    {
     "output_type": "execute_result",
     "data": {
      "text/plain": [
       "count     43.000000\n",
       "mean      35.232558\n",
       "std       83.461949\n",
       "min        1.000000\n",
       "25%        2.000000\n",
       "50%        4.000000\n",
       "75%       20.500000\n",
       "max      440.000000\n",
       "Name: size, dtype: float64"
      ]
     },
     "metadata": {},
     "execution_count": 67
    }
   ],
   "metadata": {}
  },
  {
   "cell_type": "code",
   "execution_count": 70,
   "source": [
    "user_count.sort_values(by='size', ascending=False, inplace=True)\r\n",
    "plt.plot(user_count[\"user\"].values, user_count[\"size\"].values)"
   ],
   "outputs": [
    {
     "output_type": "execute_result",
     "data": {
      "text/plain": [
       "[<matplotlib.lines.Line2D at 0x1d227b391c0>]"
      ]
     },
     "metadata": {},
     "execution_count": 70
    },
    {
     "output_type": "display_data",
     "data": {
      "text/plain": [
       "<Figure size 432x288 with 1 Axes>"
      ],
      "image/png": "[encoded data removed]"
     },
     "metadata": {
      "needs_background": "light"
     }
    }
   ],
   "metadata": {}
  },
  {
   "cell_type": "markdown",
   "source": [
    "## Evaluation functions"
   ],
   "metadata": {}
  },
  {
   "cell_type": "markdown",
   "source": [
    "### Recall at N"
   ],
   "metadata": {}
  },
  {
   "cell_type": "markdown",
   "source": [
    "For $N$ items recommended to a user, let $m$ be the number of relevant items in the list of $N$ items recommended and $M$ be the total number of relevant items. We have the **recall at N** to be,\r\n",
    "$\r\n",
    "recall\\ at\\ N = \\frac m M\r\n",
    "$"
   ],
   "metadata": {}
  },
  {
   "cell_type": "code",
   "execution_count": 21,
   "source": [
    "def recall_at_N(rankings: Dict[str, list], test_count: pd.DataFrame, N: int = 20):\r\n",
    "    recall_sum = 0\r\n",
    "    for user in rankings.keys():\r\n",
    "        recommendations = rankings[user][\r\n",
    "            :N\r\n",
    "        ]  # We get the first N items from the ranked list\r\n",
    "        relevant_items: list = (\r\n",
    "            test_count[test_count[\"user\"] == user]\r\n",
    "            .sort_values(by=\"size\", ascending=False)[\"service\"]\r\n",
    "            .values\r\n",
    "        )\r\n",
    "        relevant_recommendations = list(set(recommendations) & set(relevant_items))\r\n",
    "        recall = len(relevant_recommendations) / len(relevant_items)\r\n",
    "        recall_sum += recall\r\n",
    "\r\n",
    "    mean_recall = recall_sum / len(rankings.keys())\r\n",
    "    return mean_recall * 100\r\n"
   ],
   "outputs": [],
   "metadata": {}
  },
  {
   "cell_type": "markdown",
   "source": [
    "### Rank"
   ],
   "metadata": {}
  },
  {
   "cell_type": "markdown",
   "source": [
    "This is a measure that takes into account the order in which the items have been recommended.\r\n",
    "\r\n",
    "We denote by $rank_{ui}$ the percentile rank of the item $i$ within the ordered list of all items prepared for user $u$. \r\n",
    "\r\n",
    "This implies that $rank_{ui} = 0\\%$ would mean item $i$ is predicted to be the most desirable for user $u$ being in the first position.\r\n",
    "\r\n",
    "On the other hand, $rank_{ui} = 100\\%$ means item $i$ is predicted to be the least desirable for user $u$ being in the last position.\r\n",
    "\r\n",
    "Percentile ranks instead of absolute ranks are used to make sure the score is independent of the number of items, which is variable.\r\n",
    "\r\n",
    "The measure is basically the expected percentile ranking of an item during the test period.\r\n",
    "\r\n",
    "Let $r_{ui}^t$ be the rating of item $i$ for user $u$ during the test period. Then the measure is calculated as follows:\r\n",
    "\r\n",
    "$\r\n",
    "rank = \\frac {\\sum_{ui} r_{ui}^t rank_{ui}} {\\sum_{ui} r_{ui}^t}\r\n",
    "$"
   ],
   "metadata": {}
  },
  {
   "cell_type": "markdown",
   "source": [
    "We will use a modified version to compute the rank_score at $N$. We will calculate the expected percentile ranking of items only in the first $N$ ranked items."
   ],
   "metadata": {}
  },
  {
   "cell_type": "code",
   "execution_count": 22,
   "source": [
    "def rank_score(rankings: Dict[str, list], test_count: pd.DataFrame, N: int = 20):\r\n",
    "    rank_sum = 0\r\n",
    "    rating_sum = 0\r\n",
    "    for user in rankings.keys():\r\n",
    "        # print(len(rankings[user]))\r\n",
    "        for (index, item) in enumerate(rankings[user]):\r\n",
    "            if index >= N:\r\n",
    "                break\r\n",
    "            rank_ui: float = (index / len(rankings[user])) * 100\r\n",
    "            rating_ui: int = test_count[\r\n",
    "                (test_count[\"user\"] == user) & (test_count[\"service\"] == item)\r\n",
    "            ][\"size\"].values\r\n",
    "            if len(rating_ui) <= 0:\r\n",
    "                rating_ui = 0\r\n",
    "            else:\r\n",
    "                rating_ui = rating_ui[0]\r\n",
    "            rank_sum += rank_ui * rating_ui\r\n",
    "            rating_sum += rating_ui\r\n",
    "\r\n",
    "    expected_rank = rank_sum / rating_sum\r\n",
    "    return expected_rank\r\n"
   ],
   "outputs": [],
   "metadata": {}
  },
  {
   "cell_type": "markdown",
   "source": [
    "## Reading data"
   ],
   "metadata": {}
  },
  {
   "cell_type": "code",
   "execution_count": 23,
   "source": [
    "reader = surprise.Reader(rating_scale=(0, 103))\r\n",
    "train_dataset = surprise.Dataset.load_from_df(\r\n",
    "    train_data[[\"user\", \"service\", \"size\"]], reader\r\n",
    ")\r\n"
   ],
   "outputs": [],
   "metadata": {}
  },
  {
   "cell_type": "markdown",
   "source": [
    "## Baseline Models"
   ],
   "metadata": {}
  },
  {
   "cell_type": "markdown",
   "source": [
    "### Base Model"
   ],
   "metadata": {}
  },
  {
   "cell_type": "markdown",
   "source": [
    "We start by defining a base Model that has functions for instanciating and evaluating the models. Any other functions common to all models will be put here."
   ],
   "metadata": {}
  },
  {
   "cell_type": "code",
   "execution_count": 24,
   "source": [
    "class BaseModel:\r\n",
    "    def __init__(self, train_count: pd.DataFrame, test_count: pd.DataFrame):\r\n",
    "        self.train_count = train_count\r\n",
    "        self.test_count = test_count\r\n",
    "        self.rankings = None\r\n",
    "\r\n",
    "    def rank_items(self):\r\n",
    "        pass\r\n",
    "\r\n",
    "    def evaluate_recall(self, rankings: Dict[str, list], N: int = 20, on_train: bool = False):\r\n",
    "        if rankings is None:\r\n",
    "            raise Exception(\"Rankings cannot be None\")\r\n",
    "        else:\r\n",
    "            return recall_at_N(rankings=rankings, test_count=self.train_count if on_train else self.test_count, N=N)\r\n",
    "\r\n",
    "    def evaluate_rank(self, rankings: Dict[str, list], on_train: bool = False, N: int = 20):\r\n",
    "        if rankings is None:\r\n",
    "            raise Exception(\"Rankings cannot be None\")\r\n",
    "        else:\r\n",
    "            return rank_score(rankings=rankings, test_count=self.train_count if on_train else self.test_count, N=N)\r\n"
   ],
   "outputs": [],
   "metadata": {}
  },
  {
   "cell_type": "markdown",
   "source": [
    "### Random model"
   ],
   "metadata": {}
  },
  {
   "cell_type": "markdown",
   "source": [
    "This model randomly recommends $N$ items to each of the users."
   ],
   "metadata": {}
  },
  {
   "cell_type": "markdown",
   "source": [
    "#### Building the model"
   ],
   "metadata": {}
  },
  {
   "cell_type": "code",
   "execution_count": 25,
   "source": [
    "class RandomModel(BaseModel):\r\n",
    "    def rank_items(self):\r\n",
    "        users = self.train_count[\"user\"].unique()\r\n",
    "        items = self.train_count[\"service\"].unique()\r\n",
    "        rankings: Dict[str, list] = {}\r\n",
    "        for user in users:\r\n",
    "            random.shuffle(items)\r\n",
    "            rankings[user] = items\r\n",
    "        return rankings\r\n"
   ],
   "outputs": [],
   "metadata": {}
  },
  {
   "cell_type": "code",
   "execution_count": 26,
   "source": [
    "class SurpriseRandomModel(surprise.NormalPredictor):\r\n",
    "    def rank_items(self, users: list, items: list):\r\n",
    "        rankings: Dict[str, list] = {}\r\n",
    "        for user in users:\r\n",
    "            ranking_list = [self.predict(user, item, clip=False) for item in items]\r\n",
    "            rankings_df = pd.DataFrame({\"item\": items, \"ranking\": ranking_list})\r\n",
    "            rankings[user] = rankings_df.sort_values(by=\"ranking\")[\"item\"].values\r\n",
    "        return rankings\r\n"
   ],
   "outputs": [],
   "metadata": {}
  },
  {
   "cell_type": "markdown",
   "source": [
    "#### Evaluating the model"
   ],
   "metadata": {}
  },
  {
   "cell_type": "code",
   "execution_count": 27,
   "source": [
    "random_model = RandomModel(train_count=train_data, test_count=test_data)\r\n",
    "surprise_random_model = SurpriseRandomModel()\r\n",
    "surprise_random_model.fit(train_dataset.build_full_trainset())\r\n",
    "random_rankings = random_model.rank_items()\r\n",
    "surprise_random_rankings = surprise_random_model.rank_items(\r\n",
    "    users=train_data[\"user\"].unique(), items=train_data[\"service\"].unique()\r\n",
    ")\r\n"
   ],
   "outputs": [],
   "metadata": {}
  },
  {
   "cell_type": "code",
   "execution_count": 28,
   "source": [
    "num_services = len(train_data[\"service\"].values)\r\n",
    "random_rank_score = random_model.evaluate_rank(\r\n",
    "    rankings=random_rankings, on_train=True, N=num_services\r\n",
    ")\r\n",
    "surprise_random_rank_score = rank_score(\r\n",
    "    rankings=surprise_random_rankings, test_count=train_data, N=num_services\r\n",
    ")\r\n"
   ],
   "outputs": [],
   "metadata": {}
  },
  {
   "cell_type": "code",
   "execution_count": 29,
   "source": [
    "print(\"The rank score for the random model is {} %\".format(random_rank_score))\r\n",
    "print(\r\n",
    "    \"The rank score for the surprise random model is {} %\".format(\r\n",
    "        surprise_random_rank_score\r\n",
    "    )\r\n",
    ")\r\n"
   ],
   "outputs": [
    {
     "output_type": "stream",
     "name": "stdout",
     "text": [
      "The rank score for the random model is 53.27158522303841 %\n",
      "The rank score for the surprise random model is 34.769509208985404 %\n"
     ]
    }
   ],
   "metadata": {}
  },
  {
   "cell_type": "markdown",
   "source": [
    "The rank score for the random is quite correct, since it is normally supposed to be about 50%\r\n",
    "\r\n",
    "The rank score for the surprise module is lower, possibly due to the fact that it uses a normal distribution."
   ],
   "metadata": {}
  },
  {
   "cell_type": "code",
   "execution_count": 30,
   "source": [
    "random_recall = random_model.evaluate_recall(\r\n",
    "    rankings=random_rankings, N=40, on_train=True\r\n",
    ")\r\n",
    "surprise_random_recall = recall_at_N(\r\n",
    "    rankings=surprise_random_rankings, N=40, test_count=train_data\r\n",
    ")\r\n"
   ],
   "outputs": [],
   "metadata": {}
  },
  {
   "cell_type": "code",
   "execution_count": 31,
   "source": [
    "print(\"The recall score for the random model is {} %\".format(random_recall))\r\n",
    "print(\r\n",
    "    \"The recall score for the surprise random model is {} %\".format(\r\n",
    "        surprise_random_recall\r\n",
    "    )\r\n",
    ")\r\n"
   ],
   "outputs": [
    {
     "output_type": "stream",
     "name": "stdout",
     "text": [
      "The recall score for the random model is 55.68936092203369 %\n",
      "The recall score for the surprise random model is 73.79597856738056 %\n"
     ]
    }
   ],
   "metadata": {}
  },
  {
   "cell_type": "markdown",
   "source": [
    "### Global Popularity based model"
   ],
   "metadata": {}
  },
  {
   "cell_type": "markdown",
   "source": [
    "This model simply consists of recommending the $N$ most popular items to every user."
   ],
   "metadata": {}
  },
  {
   "cell_type": "markdown",
   "source": [
    "#### Building model"
   ],
   "metadata": {}
  },
  {
   "cell_type": "code",
   "execution_count": 32,
   "source": [
    "class PopularityModel(BaseModel):\r\n",
    "    def rank_items(self):\r\n",
    "        users = self.train_count[\"user\"].unique()\r\n",
    "        global_item_count = (\r\n",
    "            self.train_count.groupby(by=\"service\", as_index=False)\r\n",
    "            .sum()\r\n",
    "            .sort_values(by=\"size\", ascending=False)\r\n",
    "        )\r\n",
    "        rankings: Dict[str, list] = {}\r\n",
    "        for user in users:\r\n",
    "            rankings[user] = global_item_count[\"service\"].values\r\n",
    "        return rankings\r\n"
   ],
   "outputs": [],
   "metadata": {}
  },
  {
   "cell_type": "markdown",
   "source": [
    "#### Evaluating model"
   ],
   "metadata": {}
  },
  {
   "cell_type": "code",
   "execution_count": 33,
   "source": [
    "popularity_model = PopularityModel(train_count=train_data, test_count=test_data)\r\n",
    "popularity_rankings = popularity_model.rank_items()\r\n"
   ],
   "outputs": [],
   "metadata": {}
  },
  {
   "cell_type": "code",
   "execution_count": 34,
   "source": [
    "num_services = len(train_data[\"service\"].values)\r\n",
    "popularity_rank_score = popularity_model.evaluate_rank(\r\n",
    "    rankings=popularity_rankings, on_train=True, N=num_services\r\n",
    ")\r\n"
   ],
   "outputs": [],
   "metadata": {}
  },
  {
   "cell_type": "code",
   "execution_count": 35,
   "source": [
    "print(\"The rank score for the popularity model is {} %\".format(popularity_rank_score))\r\n"
   ],
   "outputs": [
    {
     "output_type": "stream",
     "name": "stdout",
     "text": [
      "The rank score for the popularity model is 16.986053444054086 %\n"
     ]
    }
   ],
   "metadata": {}
  },
  {
   "cell_type": "markdown",
   "source": [
    "The rank score has improved from the random model which was at about 50% to about 17%"
   ],
   "metadata": {}
  },
  {
   "cell_type": "code",
   "execution_count": 36,
   "source": [
    "popularity_recall = popularity_model.evaluate_recall(\r\n",
    "    rankings=popularity_rankings, N=40, on_train=True\r\n",
    ")\r\n"
   ],
   "outputs": [],
   "metadata": {}
  },
  {
   "cell_type": "code",
   "execution_count": 37,
   "source": [
    "print(\"The recall for the popularity model is {} %\".format(popularity_recall))\r\n"
   ],
   "outputs": [
    {
     "output_type": "stream",
     "name": "stdout",
     "text": [
      "The recall for the popularity model is 92.70480282918193 %\n"
     ]
    }
   ],
   "metadata": {}
  },
  {
   "cell_type": "markdown",
   "source": [
    "We see an increase in recall from the random model even thought high recall doesn't necessarily imply a good performing model."
   ],
   "metadata": {}
  },
  {
   "cell_type": "markdown",
   "source": [
    "### Global Baseline model"
   ],
   "metadata": {}
  },
  {
   "cell_type": "markdown",
   "source": [
    "#### Theoritical concept"
   ],
   "metadata": {}
  },
  {
   "cell_type": "markdown",
   "source": [
    "This model encapsulates all the effects that do not involve user-item interaction.\r\n",
    "\r\n",
    "We denote $\\mu$ the overall average. A baseline prediction for an unknown item $i$ by a user $u$ will be denoted by $b_{ui}$ and accounts for the user and the item effects:\r\n",
    "\r\n",
    "$\r\n",
    "b_{ui} = \\mu + b_u + b_i\r\n",
    "$\r\n"
   ],
   "metadata": {}
  },
  {
   "cell_type": "markdown",
   "source": [
    "The parameters $b_u$ and $b_i$ indicate the observed deviations of user $u$ and item $i$ respectively, from the average. In order to estimate $b_u$ and $b_i$, we will solve the least squares problem:\r\n",
    "$\r\n",
    "\\min_{b_*} \\sum_{(u, i) \\in \\Kappa} {(r_{ui} - \\mu - b_u - b_i)^2} + \\lambda_1(\\sum_u {b_u^2} + \\sum_i {b_i^2})\r\n",
    "$\r\n",
    "The regularization term avoids overfitting."
   ],
   "metadata": {}
  },
  {
   "cell_type": "code",
   "execution_count": 38,
   "source": [
    "class SurpriseGlobalBaselineModel(surprise.BaselineOnly):\r\n",
    "    def rank_items(self, users: list, items: list):\r\n",
    "        rankings: Dict[str, list] = {}\r\n",
    "        for user in users:\r\n",
    "            ranking_list = [self.predict(user, item, clip=False) for item in items]\r\n",
    "            rankings_df = pd.DataFrame({\"item\": items, \"ranking\": ranking_list})\r\n",
    "            rankings[user] = rankings_df.sort_values(by=\"ranking\")[\"item\"].values\r\n",
    "        return rankings\r\n"
   ],
   "outputs": [],
   "metadata": {}
  },
  {
   "cell_type": "markdown",
   "source": [
    "#### Evaluating model"
   ],
   "metadata": {}
  },
  {
   "cell_type": "code",
   "execution_count": 39,
   "source": [
    "global_baseline_model = SurpriseGlobalBaselineModel()\r\n",
    "global_baseline_model.fit(train_dataset.build_full_trainset())\r\n",
    "global_baseline_rankings = global_baseline_model.rank_items(\r\n",
    "    users=train_data[\"user\"].unique(), items=train_data[\"service\"].unique()\r\n",
    ")\r\n"
   ],
   "outputs": [
    {
     "output_type": "stream",
     "name": "stdout",
     "text": [
      "Estimating biases using als...\n"
     ]
    }
   ],
   "metadata": {}
  },
  {
   "cell_type": "code",
   "execution_count": 40,
   "source": [
    "num_services = len(train_data[\"service\"].values)\r\n",
    "global_baseline_rank_score = rank_score(\r\n",
    "    rankings=global_baseline_rankings, test_count=train_data, N=40\r\n",
    ")\r\n"
   ],
   "outputs": [],
   "metadata": {}
  },
  {
   "cell_type": "code",
   "execution_count": 41,
   "source": [
    "print(\r\n",
    "    \"The rank score for the global baseline model is {} %\".format(\r\n",
    "        global_baseline_rank_score\r\n",
    "    )\r\n",
    ")\r\n"
   ],
   "outputs": [
    {
     "output_type": "stream",
     "name": "stdout",
     "text": [
      "The rank score for the global baseline model is 22.679880388472828 %\n"
     ]
    }
   ],
   "metadata": {}
  },
  {
   "cell_type": "markdown",
   "source": [
    "This is a slight improvement from the User popularity model above."
   ],
   "metadata": {}
  },
  {
   "cell_type": "code",
   "execution_count": 42,
   "source": [
    "global_baseline_recall = recall_at_N(\r\n",
    "    rankings=global_baseline_rankings, test_count=train_data, N=40\r\n",
    ")\r\n"
   ],
   "outputs": [],
   "metadata": {}
  },
  {
   "cell_type": "code",
   "execution_count": 43,
   "source": [
    "print(\"The recall for the global baseline model is {} %\".format(global_baseline_recall))\r\n"
   ],
   "outputs": [
    {
     "output_type": "stream",
     "name": "stdout",
     "text": [
      "The recall for the global baseline model is 73.79597856738056 %\n"
     ]
    }
   ],
   "metadata": {}
  },
  {
   "cell_type": "markdown",
   "source": [
    "### Testing if order of users and services is the same as the order of their baselines\r\n",
    "\r\n",
    "And also storing the baselines"
   ],
   "metadata": {}
  },
  {
   "cell_type": "code",
   "execution_count": 44,
   "source": [
    "# users: list = train_data[\"user\"].unique()\r\n",
    "# services: list = train_data[\"service\"].unique()\r\n",
    "# mean = train_data[\"size\"].mean()\r\n",
    "\r\n",
    "# # print(users)\r\n",
    "# # print(services)\r\n",
    "\r\n",
    "# user_index = 5\r\n",
    "# item_index = 6\r\n",
    "\r\n",
    "# item_baseline = global_baseline_model.bi\r\n",
    "# user_baseline = global_baseline_model.bu\r\n",
    "\r\n",
    "# predict1 = global_baseline_model.predict(\r\n",
    "#     users[user_index], services[item_index], clip=False\r\n",
    "# )\r\n",
    "# predict2 = mean + item_baseline[item_index] + user_baseline[user_index]\r\n",
    "\r\n",
    "# print(predict1)\r\n",
    "# print(predict2)\r\n"
   ],
   "outputs": [],
   "metadata": {}
  },
  {
   "cell_type": "markdown",
   "source": [
    "## Collaborative models"
   ],
   "metadata": {}
  },
  {
   "cell_type": "markdown",
   "source": [
    "### Transforming training data with the baselines (To be used by ALS and Item CF models)"
   ],
   "metadata": {}
  },
  {
   "cell_type": "code",
   "execution_count": 45,
   "source": [
    "def get_baseline(row, bi: np.ndarray, bu: np.ndarray):\r\n",
    "    size = row[\"size\"]\r\n",
    "    uid: str = row[\"user\"]\r\n",
    "    iid: str = row[\"service\"]\r\n",
    "    user_index = users.tolist().index(uid)\r\n",
    "    item_index = services.tolist().index(iid)\r\n",
    "    return size - mean - bi[item_index] - bu[user_index]\r\n"
   ],
   "outputs": [],
   "metadata": {}
  },
  {
   "cell_type": "code",
   "execution_count": 46,
   "source": [
    "users = train_data['user'].unique()\r\n",
    "services = train_data['service'].unique()\r\n",
    "mean = train_data['size'].mean()\r\n",
    "\r\n",
    "train_data[\"baseline\"] = train_data.apply(\r\n",
    "    get_baseline, axis=1, bi=global_baseline_model.bi, bu=global_baseline_model.bu\r\n",
    ")\r\n",
    "train_data[[\"user\", \"service\", \"baseline\"]].describe()\r\n"
   ],
   "outputs": [
    {
     "output_type": "execute_result",
     "data": {
      "text/plain": [
       "         baseline\n",
       "count  341.000000\n",
       "mean    -0.668162\n",
       "std      8.377521\n",
       "min     -9.218750\n",
       "25%     -3.590763\n",
       "50%     -1.948920\n",
       "75%     -0.434528\n",
       "max     88.802974"
      ],
      "text/html": [
       "<div>\n",
       "<style scoped>\n",
       "    .dataframe tbody tr th:only-of-type {\n",
       "        vertical-align: middle;\n",
       "    }\n",
       "\n",
       "    .dataframe tbody tr th {\n",
       "        vertical-align: top;\n",
       "    }\n",
       "\n",
       "    .dataframe thead th {\n",
       "        text-align: right;\n",
       "    }\n",
       "</style>\n",
       "<table border=\"1\" class=\"dataframe\">\n",
       "  <thead>\n",
       "    <tr style=\"text-align: right;\">\n",
       "      <th></th>\n",
       "      <th>baseline</th>\n",
       "    </tr>\n",
       "  </thead>\n",
       "  <tbody>\n",
       "    <tr>\n",
       "      <th>count</th>\n",
       "      <td>341.000000</td>\n",
       "    </tr>\n",
       "    <tr>\n",
       "      <th>mean</th>\n",
       "      <td>-0.668162</td>\n",
       "    </tr>\n",
       "    <tr>\n",
       "      <th>std</th>\n",
       "      <td>8.377521</td>\n",
       "    </tr>\n",
       "    <tr>\n",
       "      <th>min</th>\n",
       "      <td>-9.218750</td>\n",
       "    </tr>\n",
       "    <tr>\n",
       "      <th>25%</th>\n",
       "      <td>-3.590763</td>\n",
       "    </tr>\n",
       "    <tr>\n",
       "      <th>50%</th>\n",
       "      <td>-1.948920</td>\n",
       "    </tr>\n",
       "    <tr>\n",
       "      <th>75%</th>\n",
       "      <td>-0.434528</td>\n",
       "    </tr>\n",
       "    <tr>\n",
       "      <th>max</th>\n",
       "      <td>88.802974</td>\n",
       "    </tr>\n",
       "  </tbody>\n",
       "</table>\n",
       "</div>"
      ]
     },
     "metadata": {},
     "execution_count": 46
    }
   ],
   "metadata": {}
  },
  {
   "cell_type": "markdown",
   "source": [
    "### Building the confidence values with baseline corrected data.\r\n",
    "The Collaborative Filtering for Implicit Feedback Datasets paper details how they used ALS for implicit feedback. They made a certain transformation to their data to use in the Alternating Least Square algorithm. The implicit python module, implements this algorithm but requires the confidence values to be calculated prior. The confidence values are derived by a function that strictly increases with $r_{ui}$. One of the functions they used was:\r\n",
    "$\r\n",
    "c_{ui} = 1 + \\alpha r_{ui}\r\n",
    "$"
   ],
   "metadata": {}
  },
  {
   "cell_type": "code",
   "execution_count": 47,
   "source": [
    "alpha = 40\r\n",
    "train_data[\"confidence\"] = train_data[\"baseline\"].apply(\r\n",
    "    lambda baseline: 1 + (baseline * alpha)\r\n",
    ")\r\n",
    "train_data[[\"user\", \"service\", \"confidence\"]].describe()\r\n"
   ],
   "outputs": [
    {
     "output_type": "execute_result",
     "data": {
      "text/plain": [
       "        confidence\n",
       "count   341.000000\n",
       "mean    -25.726479\n",
       "std     335.100853\n",
       "min    -367.750019\n",
       "25%    -142.630517\n",
       "50%     -76.956804\n",
       "75%     -16.381122\n",
       "max    3553.118975"
      ],
      "text/html": [
       "<div>\n",
       "<style scoped>\n",
       "    .dataframe tbody tr th:only-of-type {\n",
       "        vertical-align: middle;\n",
       "    }\n",
       "\n",
       "    .dataframe tbody tr th {\n",
       "        vertical-align: top;\n",
       "    }\n",
       "\n",
       "    .dataframe thead th {\n",
       "        text-align: right;\n",
       "    }\n",
       "</style>\n",
       "<table border=\"1\" class=\"dataframe\">\n",
       "  <thead>\n",
       "    <tr style=\"text-align: right;\">\n",
       "      <th></th>\n",
       "      <th>confidence</th>\n",
       "    </tr>\n",
       "  </thead>\n",
       "  <tbody>\n",
       "    <tr>\n",
       "      <th>count</th>\n",
       "      <td>341.000000</td>\n",
       "    </tr>\n",
       "    <tr>\n",
       "      <th>mean</th>\n",
       "      <td>-25.726479</td>\n",
       "    </tr>\n",
       "    <tr>\n",
       "      <th>std</th>\n",
       "      <td>335.100853</td>\n",
       "    </tr>\n",
       "    <tr>\n",
       "      <th>min</th>\n",
       "      <td>-367.750019</td>\n",
       "    </tr>\n",
       "    <tr>\n",
       "      <th>25%</th>\n",
       "      <td>-142.630517</td>\n",
       "    </tr>\n",
       "    <tr>\n",
       "      <th>50%</th>\n",
       "      <td>-76.956804</td>\n",
       "    </tr>\n",
       "    <tr>\n",
       "      <th>75%</th>\n",
       "      <td>-16.381122</td>\n",
       "    </tr>\n",
       "    <tr>\n",
       "      <th>max</th>\n",
       "      <td>3553.118975</td>\n",
       "    </tr>\n",
       "  </tbody>\n",
       "</table>\n",
       "</div>"
      ]
     },
     "metadata": {},
     "execution_count": 47
    }
   ],
   "metadata": {}
  },
  {
   "cell_type": "markdown",
   "source": [
    "### Implicit ALS model"
   ],
   "metadata": {}
  },
  {
   "cell_type": "markdown",
   "source": [
    "#### Building the sparse matrix for confidence values"
   ],
   "metadata": {}
  },
  {
   "cell_type": "code",
   "execution_count": 49,
   "source": [
    "cat_type = pd.api.types.CategoricalDtype(categories=users)\r\n",
    "rows = train_data.user.astype(cat_type).cat.codes\r\n",
    "# Get the associated row indices\r\n",
    "\r\n",
    "cat_type = pd.api.types.CategoricalDtype(categories=services)\r\n",
    "cols = train_data.service.astype(cat_type).cat.codes\r\n",
    "# Get the associated column indices\r\n",
    "\r\n",
    "confidence = list(train_data.confidence)  # All of our confidence values\r\n",
    "\r\n",
    "confidence_sparse = sparse.csr_matrix(\r\n",
    "    (confidence, (rows, cols)), shape=(len(users), len(services))\r\n",
    ")\r\n"
   ],
   "outputs": [],
   "metadata": {}
  },
  {
   "cell_type": "markdown",
   "source": [
    "#### Calculating sparsity"
   ],
   "metadata": {}
  },
  {
   "cell_type": "code",
   "execution_count": 50,
   "source": [
    "matrix_size = (\r\n",
    "    len(train_data['user'].unique()) * len(train_data['service'].unique())\r\n",
    ")  # Number of possible interactions in the matrix\r\n",
    "num_interactions = train_data.count()['size']  # Number of items interacted with\r\n",
    "sparsity = 100 * (1 - (num_interactions / matrix_size))\r\n",
    "sparsity\r\n"
   ],
   "outputs": [
    {
     "output_type": "execute_result",
     "data": {
      "text/plain": [
       "87.20930232558139"
      ]
     },
     "metadata": {},
     "execution_count": 50
    }
   ],
   "metadata": {}
  },
  {
   "cell_type": "markdown",
   "source": [
    "87.2% of the interaction matrix is sparse. For collaborative filtering to work, the maximum sparsity you could get away with would probably be about 99.5% or so. We are well below this, so we should be able to get decent results."
   ],
   "metadata": {}
  },
  {
   "cell_type": "code",
   "execution_count": 51,
   "source": [
    "class ImplicitAlternatingLeastSquares(implicit.als.AlternatingLeastSquares):\r\n",
    "    def __init__(\r\n",
    "        self,\r\n",
    "        factors=100,\r\n",
    "        regularization=0.01,\r\n",
    "        dtype=np.float32,\r\n",
    "        use_native=True,\r\n",
    "        use_cg=True,\r\n",
    "        use_gpu=implicit.cuda.HAS_CUDA,\r\n",
    "        iterations=15,\r\n",
    "        calculate_training_loss=False,\r\n",
    "        num_threads=0,\r\n",
    "        random_state=None,\r\n",
    "        alpha=40, \r\n",
    "    ):\r\n",
    "        super().__init__(\r\n",
    "            factors=factors,\r\n",
    "            regularization=regularization,\r\n",
    "            dtype=dtype,\r\n",
    "            use_native=use_native,\r\n",
    "            use_cg=use_cg,\r\n",
    "            use_gpu=use_gpu,\r\n",
    "            iterations=iterations,\r\n",
    "            calculate_training_loss=calculate_training_loss,\r\n",
    "            num_threads=num_threads,\r\n",
    "            random_state=random_state,\r\n",
    "        )\r\n",
    "        self.global_baseline_model = surprise.BaselineOnly()\r\n",
    "        self.alpha = alpha\r\n",
    "\r\n",
    "    def fit(self, train_data, show_progress=True):\r\n",
    "        self.train_data = train_data.copy()\r\n",
    "        self.reader = surprise.Reader(rating_scale=(0, self.train_data['size'].max()))\r\n",
    "        self.train_dataset = surprise.Dataset.load_from_df(\r\n",
    "            self.train_data[[\"user\", \"service\", \"size\"]], self.reader\r\n",
    "        )\r\n",
    "        self.global_baseline_model.fit(self.train_dataset.build_full_trainset())\r\n",
    "\r\n",
    "        self.users: list = train_data[\"user\"].unique()\r\n",
    "        self.services: list = train_data[\"service\"].unique()\r\n",
    "\r\n",
    "        self.uid_to_idx = {user: index for index, user in enumerate(self.users)}\r\n",
    "        self.idx_to_uid = {index: user for index, user in enumerate(self.users)}\r\n",
    "\r\n",
    "        self.iid_to_idx = {item: index for index, item in enumerate(self.services)}\r\n",
    "        self.idx_to_iid = {index: item for index, item in enumerate(self.services)}\r\n",
    "\r\n",
    "        self.train_data[\"baseline\"] = self.train_data.apply(\r\n",
    "            self.get_baseline, axis=1, bi=self.global_baseline_model.bi, bu=self.global_baseline_model.bu, mean=self.train_data['size'].mean()\r\n",
    "        )\r\n",
    "\r\n",
    "        self.train_data[\"confidence\"] = self.train_data[\"baseline\"].apply(\r\n",
    "            lambda baseline: 1 + (baseline * self.alpha)\r\n",
    "        )\r\n",
    "\r\n",
    "        cat_type = pd.api.types.CategoricalDtype(categories=self.users)\r\n",
    "        self.rows = self.train_data.user.astype(cat_type).cat.codes\r\n",
    "        # Get the associated row indices\r\n",
    "\r\n",
    "        cat_type = pd.api.types.CategoricalDtype(categories=self.services)\r\n",
    "        self.cols = self.train_data.service.astype(cat_type).cat.codes\r\n",
    "        # Get the associated column indices\r\n",
    "        \r\n",
    "        confidence = list(self.train_data.confidence)  # All of our confidence values\r\n",
    "\r\n",
    "        self.confidence_sparse = sparse.csr_matrix(\r\n",
    "            (confidence, (self.rows, self.cols)), shape=(len(self.users), len(self.services))\r\n",
    "        )\r\n",
    "\r\n",
    "        return super().fit(self.confidence_sparse.transpose().tocsr(), show_progress=show_progress)\r\n",
    "\r\n",
    "    def rank_items(self, recalculate_user=False):\r\n",
    "        implicit_als_rankings = {}\r\n",
    "        for (user, user_index) in self.uid_to_idx.items():\r\n",
    "            rankings = super().rank_items(\r\n",
    "                userid=user_index,\r\n",
    "                user_items=self.confidence_sparse,\r\n",
    "                selected_items=list(self.idx_to_iid.keys()),\r\n",
    "                recalculate_user=recalculate_user,\r\n",
    "            )\r\n",
    "            implicit_als_rankings[user] = [self.idx_to_iid[index] for (index, score) in rankings]\r\n",
    "        return implicit_als_rankings\r\n",
    "\r\n",
    "    def get_baseline(self, row, bi: np.ndarray, bu: np.ndarray, mean):\r\n",
    "        size = row[\"size\"]\r\n",
    "        uid: str = row[\"user\"]\r\n",
    "        iid: str = row[\"service\"]\r\n",
    "        user_index = self.uid_to_idx[uid]\r\n",
    "        item_index = self.iid_to_idx[iid]\r\n",
    "        return size - mean - bi[item_index] - bu[user_index]\r\n"
   ],
   "outputs": [],
   "metadata": {}
  },
  {
   "cell_type": "code",
   "execution_count": 52,
   "source": [
    "implicit_als_model = ImplicitAlternatingLeastSquares(\r\n",
    "    factors=100, regularization=0.1, iterations=1000, alpha=40\r\n",
    ")\r\n",
    "implicit_als_model.fit(train_data=train_data)"
   ],
   "outputs": [
    {
     "output_type": "stream",
     "name": "stderr",
     "text": [
      "WARNING:root:OpenBLAS detected. Its highly recommend to set the environment variable 'export OPENBLAS_NUM_THREADS=1' to disable its internal multithreading\n"
     ]
    },
    {
     "output_type": "stream",
     "name": "stdout",
     "text": [
      "Estimating biases using als...\n"
     ]
    },
    {
     "output_type": "stream",
     "name": "stderr",
     "text": [
      "100%|██████████| 1000/1000 [00:03<00:00, 314.40it/s]\n"
     ]
    }
   ],
   "metadata": {}
  },
  {
   "cell_type": "code",
   "execution_count": 53,
   "source": [
    "implicit_als_rankings = implicit_als_model.rank_items()"
   ],
   "outputs": [],
   "metadata": {}
  },
  {
   "cell_type": "code",
   "execution_count": 54,
   "source": [
    "num_services = len(train_data[\"service\"].values)\r\n",
    "implicit_als_rank_score = rank_score(\r\n",
    "    rankings=implicit_als_rankings, test_count=train_data, N=40\r\n",
    ")\r\n"
   ],
   "outputs": [],
   "metadata": {}
  },
  {
   "cell_type": "code",
   "execution_count": 55,
   "source": [
    "print(\r\n",
    "    \"The MPR score for the Implicit ALS model is {} %\".format(implicit_als_rank_score)\r\n",
    ")\r\n"
   ],
   "outputs": [
    {
     "output_type": "stream",
     "name": "stdout",
     "text": [
      "The MPR score for the Implicit ALS model is 10.65848902929634 %\n"
     ]
    }
   ],
   "metadata": {}
  },
  {
   "cell_type": "markdown",
   "source": [
    "### Normalizing the baseline values\r\n",
    "We have to try two versions of normalization for item-based recommendation:\r\n",
    "- Normalizing before calculating baselines\r\n",
    "- Calculating baselines before normalizing"
   ],
   "metadata": {}
  },
  {
   "cell_type": "markdown",
   "source": [
    "#### Defining the normalizer class"
   ],
   "metadata": {}
  },
  {
   "cell_type": "code",
   "execution_count": 56,
   "source": [
    "class Normalizer:\r\n",
    "    def __init__(self):\r\n",
    "        pass\r\n",
    "\r\n",
    "    def fit(self, values: np.ndarray):\r\n",
    "        self.mean = values.mean()\r\n",
    "        self.std = values.std()\r\n",
    "\r\n",
    "    def transform(self, values: np.ndarray):\r\n",
    "        return (values - self.mean) / self.std\r\n",
    "\r\n",
    "    def fit_transform(self, values: np.ndarray):\r\n",
    "        self.fit(values)\r\n",
    "        return self.transform(values)\r\n",
    "\r\n",
    "    def inverse(self, values: np.ndarray):\r\n",
    "        return (values * self.std) + self.mean\r\n"
   ],
   "outputs": [],
   "metadata": {}
  },
  {
   "cell_type": "markdown",
   "source": [
    "#### Normalizing the data"
   ],
   "metadata": {}
  },
  {
   "cell_type": "code",
   "execution_count": 57,
   "source": [
    "normalizer = Normalizer()\r\n",
    "normalizer.fit(train_data.baseline.values)\r\n",
    "train_data[\"normal_baseline\"] = pd.Series(\r\n",
    "    normalizer.transform(train_data.baseline.values)\r\n",
    ")\r\n"
   ],
   "outputs": [],
   "metadata": {}
  },
  {
   "cell_type": "code",
   "execution_count": 58,
   "source": [
    "train_data[[\"user\", \"service\", \"baseline\", \"normal_baseline\"]].describe()\r\n"
   ],
   "outputs": [
    {
     "output_type": "execute_result",
     "data": {
      "text/plain": [
       "         baseline  normal_baseline\n",
       "count  341.000000     3.410000e+02\n",
       "mean    -0.668162    -3.906943e-18\n",
       "std      8.377521     1.001470e+00\n",
       "min     -9.218750    -1.022158e+00\n",
       "25%     -3.590763    -3.493749e-01\n",
       "50%     -1.948920    -1.531050e-01\n",
       "75%     -0.434528     2.792917e-02\n",
       "max     88.802974     1.069560e+01"
      ],
      "text/html": [
       "<div>\n",
       "<style scoped>\n",
       "    .dataframe tbody tr th:only-of-type {\n",
       "        vertical-align: middle;\n",
       "    }\n",
       "\n",
       "    .dataframe tbody tr th {\n",
       "        vertical-align: top;\n",
       "    }\n",
       "\n",
       "    .dataframe thead th {\n",
       "        text-align: right;\n",
       "    }\n",
       "</style>\n",
       "<table border=\"1\" class=\"dataframe\">\n",
       "  <thead>\n",
       "    <tr style=\"text-align: right;\">\n",
       "      <th></th>\n",
       "      <th>baseline</th>\n",
       "      <th>normal_baseline</th>\n",
       "    </tr>\n",
       "  </thead>\n",
       "  <tbody>\n",
       "    <tr>\n",
       "      <th>count</th>\n",
       "      <td>341.000000</td>\n",
       "      <td>3.410000e+02</td>\n",
       "    </tr>\n",
       "    <tr>\n",
       "      <th>mean</th>\n",
       "      <td>-0.668162</td>\n",
       "      <td>-3.906943e-18</td>\n",
       "    </tr>\n",
       "    <tr>\n",
       "      <th>std</th>\n",
       "      <td>8.377521</td>\n",
       "      <td>1.001470e+00</td>\n",
       "    </tr>\n",
       "    <tr>\n",
       "      <th>min</th>\n",
       "      <td>-9.218750</td>\n",
       "      <td>-1.022158e+00</td>\n",
       "    </tr>\n",
       "    <tr>\n",
       "      <th>25%</th>\n",
       "      <td>-3.590763</td>\n",
       "      <td>-3.493749e-01</td>\n",
       "    </tr>\n",
       "    <tr>\n",
       "      <th>50%</th>\n",
       "      <td>-1.948920</td>\n",
       "      <td>-1.531050e-01</td>\n",
       "    </tr>\n",
       "    <tr>\n",
       "      <th>75%</th>\n",
       "      <td>-0.434528</td>\n",
       "      <td>2.792917e-02</td>\n",
       "    </tr>\n",
       "    <tr>\n",
       "      <th>max</th>\n",
       "      <td>88.802974</td>\n",
       "      <td>1.069560e+01</td>\n",
       "    </tr>\n",
       "  </tbody>\n",
       "</table>\n",
       "</div>"
      ]
     },
     "metadata": {},
     "execution_count": 58
    }
   ],
   "metadata": {}
  },
  {
   "cell_type": "code",
   "execution_count": 59,
   "source": [
    "normalizer = Normalizer()\r\n",
    "normalizer.fit(train_data[\"size\"].values)\r\n",
    "train_data[\"normal\"] = pd.Series(normalizer.transform(train_data[\"size\"].values))\r\n"
   ],
   "outputs": [],
   "metadata": {}
  },
  {
   "cell_type": "code",
   "execution_count": 60,
   "source": [
    "train_data[[\"user\", \"service\", \"size\", \"normal\"]].describe()\r\n"
   ],
   "outputs": [
    {
     "output_type": "execute_result",
     "data": {
      "text/plain": [
       "             size        normal\n",
       "count  341.000000  3.410000e+02\n",
       "mean     4.442815  6.251109e-17\n",
       "std      9.445219  1.001470e+00\n",
       "min      1.000000 -3.650391e-01\n",
       "25%      1.000000 -3.650391e-01\n",
       "50%      2.000000 -2.590099e-01\n",
       "75%      4.000000 -4.695137e-02\n",
       "max    103.000000  1.044994e+01"
      ],
      "text/html": [
       "<div>\n",
       "<style scoped>\n",
       "    .dataframe tbody tr th:only-of-type {\n",
       "        vertical-align: middle;\n",
       "    }\n",
       "\n",
       "    .dataframe tbody tr th {\n",
       "        vertical-align: top;\n",
       "    }\n",
       "\n",
       "    .dataframe thead th {\n",
       "        text-align: right;\n",
       "    }\n",
       "</style>\n",
       "<table border=\"1\" class=\"dataframe\">\n",
       "  <thead>\n",
       "    <tr style=\"text-align: right;\">\n",
       "      <th></th>\n",
       "      <th>size</th>\n",
       "      <th>normal</th>\n",
       "    </tr>\n",
       "  </thead>\n",
       "  <tbody>\n",
       "    <tr>\n",
       "      <th>count</th>\n",
       "      <td>341.000000</td>\n",
       "      <td>3.410000e+02</td>\n",
       "    </tr>\n",
       "    <tr>\n",
       "      <th>mean</th>\n",
       "      <td>4.442815</td>\n",
       "      <td>6.251109e-17</td>\n",
       "    </tr>\n",
       "    <tr>\n",
       "      <th>std</th>\n",
       "      <td>9.445219</td>\n",
       "      <td>1.001470e+00</td>\n",
       "    </tr>\n",
       "    <tr>\n",
       "      <th>min</th>\n",
       "      <td>1.000000</td>\n",
       "      <td>-3.650391e-01</td>\n",
       "    </tr>\n",
       "    <tr>\n",
       "      <th>25%</th>\n",
       "      <td>1.000000</td>\n",
       "      <td>-3.650391e-01</td>\n",
       "    </tr>\n",
       "    <tr>\n",
       "      <th>50%</th>\n",
       "      <td>2.000000</td>\n",
       "      <td>-2.590099e-01</td>\n",
       "    </tr>\n",
       "    <tr>\n",
       "      <th>75%</th>\n",
       "      <td>4.000000</td>\n",
       "      <td>-4.695137e-02</td>\n",
       "    </tr>\n",
       "    <tr>\n",
       "      <th>max</th>\n",
       "      <td>103.000000</td>\n",
       "      <td>1.044994e+01</td>\n",
       "    </tr>\n",
       "  </tbody>\n",
       "</table>\n",
       "</div>"
      ]
     },
     "metadata": {},
     "execution_count": 60
    }
   ],
   "metadata": {}
  },
  {
   "cell_type": "markdown",
   "source": [
    "### Item Neighbourhood model"
   ],
   "metadata": {}
  },
  {
   "cell_type": "code",
   "execution_count": 72,
   "source": [
    "class SurpriseKnnBaselineModel(surprise.KNNBaseline):\r\n",
    "    def rank_items(self, users: list, items: list):\r\n",
    "        rankings: Dict[str, list] = {}\r\n",
    "        for user in users:\r\n",
    "            ranking_list = [self.predict(user, item, clip=False) for item in items]\r\n",
    "            rankings_df = pd.DataFrame({\"item\": items, \"ranking\": ranking_list})\r\n",
    "            rankings[user] = rankings_df.sort_values(by=\"ranking\")[\"item\"].values\r\n",
    "        return rankings\r\n"
   ],
   "outputs": [],
   "metadata": {}
  },
  {
   "cell_type": "code",
   "execution_count": 73,
   "source": [
    "class SurpriseKnnNormalModel(surprise.KNNWithZScore):\r\n",
    "    def rank_items(self, users: list, items: list):\r\n",
    "        rankings: Dict[str, list] = {}\r\n",
    "        for user in users:\r\n",
    "            ranking_list = [self.predict(user, item, clip=False) for item in items]\r\n",
    "            rankings_df = pd.DataFrame({\"item\": items, \"ranking\": ranking_list})\r\n",
    "            rankings[user] = rankings_df.sort_values(by=\"ranking\")[\"item\"].values\r\n",
    "        return rankings\r\n"
   ],
   "outputs": [],
   "metadata": {}
  },
  {
   "cell_type": "code",
   "execution_count": 74,
   "source": [
    "reader = surprise.Reader(rating_scale=(0, train_data[\"baseline\"].max()))\r\n",
    "train_dataset = surprise.Dataset.load_from_df(\r\n",
    "    train_data[[\"user\", \"service\", \"baseline\"]], reader\r\n",
    ")\r\n"
   ],
   "outputs": [],
   "metadata": {}
  },
  {
   "cell_type": "code",
   "execution_count": 75,
   "source": [
    "bsl_options = {\r\n",
    "    \"method\": \"sgd\",\r\n",
    "    \"n_epochs\": 20,\r\n",
    "}\r\n",
    "\r\n",
    "sim_options = {\r\n",
    "    \"name\": \"msd\",\r\n",
    "    \"user_based\": False,  # compute  similarities between items\r\n",
    "}\r\n"
   ],
   "outputs": [],
   "metadata": {}
  },
  {
   "cell_type": "code",
   "execution_count": 79,
   "source": [
    "knn_baseline_model = SurpriseKnnBaselineModel(\r\n",
    "    sim_options=sim_options, bsl_options=bsl_options\r\n",
    ")\r\n",
    "knn_baseline_model.fit(train_dataset.build_full_trainset())\r\n",
    "knn_baseline_rankings = knn_baseline_model.rank_items(\r\n",
    "    users=train_data[\"user\"].unique(), items=train_data[\"service\"].unique()\r\n",
    ")\r\n",
    "\r\n",
    "knn_normal_model = SurpriseKnnNormalModel(\r\n",
    "    sim_options={\"name\": \"pearson_baseline\", \"user_based\": False}\r\n",
    ")\r\n",
    "knn_normal_model.fit(train_dataset.build_full_trainset())\r\n",
    "knn_normal_rankings = knn_normal_model.rank_items(\r\n",
    "    users=train_data[\"user\"].unique(), items=train_data[\"service\"].unique()\r\n",
    ")\r\n"
   ],
   "outputs": [
    {
     "output_type": "stream",
     "name": "stdout",
     "text": [
      "Estimating biases using sgd...\n",
      "Computing the msd similarity matrix...\n",
      "Done computing similarity matrix.\n",
      "Estimating biases using als...\n",
      "Computing the pearson_baseline similarity matrix...\n",
      "Done computing similarity matrix.\n"
     ]
    }
   ],
   "metadata": {}
  },
  {
   "cell_type": "code",
   "execution_count": 80,
   "source": [
    "num_services = len(train_data[\"service\"].values)\r\n",
    "knn_baseline_rank_score = rank_score(\r\n",
    "    rankings=knn_baseline_rankings, test_count=train_data, N=40\r\n",
    ")\r\n",
    "knn_normal_rank_score = rank_score(\r\n",
    "    rankings=knn_normal_rankings, test_count=train_data, N=40\r\n",
    ")\r\n"
   ],
   "outputs": [],
   "metadata": {}
  },
  {
   "cell_type": "code",
   "execution_count": 81,
   "source": [
    "print(\r\n",
    "    \"The rank score for the KNN Baseline model is {} %\".format(knn_baseline_rank_score)\r\n",
    ")\r\n",
    "print(\"The rank score for the KNN Normal model is {} %\".format(knn_normal_rank_score))\r\n"
   ],
   "outputs": [
    {
     "output_type": "stream",
     "name": "stdout",
     "text": [
      "The rank score for the KNN Baseline model is 22.679880388472828 %\n",
      "The rank score for the KNN Normal model is 22.679880388472828 %\n"
     ]
    }
   ],
   "metadata": {}
  },
  {
   "cell_type": "code",
   "execution_count": 68,
   "source": [
    "for user in users:\r\n",
    "    ranking_list1 = [\r\n",
    "        knn_baseline_model.predict(user, item, clip=False) for item in services\r\n",
    "    ]\r\n",
    "    rankings_df1 = pd.DataFrame({\"item\": services, \"ranking\": ranking_list1})\r\n",
    "    predict1 = rankings_df1.sort_values(by=\"ranking\")[\"item\"].values\r\n",
    "\r\n",
    "    ranking_list2 = [\r\n",
    "        knn_normal_model.predict(user, item, clip=False) for item in services\r\n",
    "    ]\r\n",
    "    rankings_df2 = pd.DataFrame({\"item\": services, \"ranking\": ranking_list2})\r\n",
    "    predict2 = rankings_df2.sort_values(by=\"ranking\")[\"item\"].values\r\n",
    "    # print(ranking_list1 == ranking_list2)\r\n",
    "    # print((ranking_list1))\r\n",
    "    # print('\\n')\r\n",
    "    # print(ranking_list2)\r\n",
    "    # print('\\n\\n')\r\n"
   ],
   "outputs": [],
   "metadata": {}
  },
  {
   "cell_type": "markdown",
   "source": [
    "## Content-based Models"
   ],
   "metadata": {}
  },
  {
   "cell_type": "markdown",
   "source": [
    "### Term-Frequency Inverse-Document-Frequency Model"
   ],
   "metadata": {}
  },
  {
   "cell_type": "code",
   "execution_count": 95,
   "source": [
    "class ContentBasedRecommender(BaseModel):\r\n",
    "    def __init__(self, train_count: pd.DataFrame, test_count: pd.DataFrame):\r\n",
    "        super().__init__(train_count, test_count)\r\n",
    "        nltk.download('stopwords')\r\n",
    "\r\n",
    "        self.REPLACE_BY_SPACE_RE = re.compile('[/(){}\\[\\]\\|@,;]')\r\n",
    "        self.BAD_SYMBOLS_RE = re.compile('[^0-9a-z #+_]')\r\n",
    "        self.STOPWORDS = set(stopwords.words('english'))\r\n",
    "\r\n",
    "    def fit(self, train_data: pd.DataFrame, service_data: pd.DataFrame, ngram_range= (1,1)):\r\n",
    "        self.train_data = train_data[train_data['description'].notna()]\r\n",
    "        self.service_data = service_data[service_data['description'].notna()]\r\n",
    "\r\n",
    "        self.train_data.loc[:, ['description_clean']] = self.train_data['description'].apply(self.clean_text)\r\n",
    "        self.service_data.loc[:, ['description_clean']] = self.service_data['description'].apply(self.clean_text)\r\n",
    "\r\n",
    "        self.users = self.train_data['user'].unique()\r\n",
    "\r\n",
    "        self.service_data.reset_index(inplace=True)\r\n",
    "        self.index_to_item = self.service_data['objectId'].to_dict()\r\n",
    "        self.item_to_index = {value: key for key, value in self.index_to_item.items()}\r\n",
    "\r\n",
    "        self.tfidf = TfidfVectorizer(analyzer=\"word\", ngram_range=ngram_range, min_df=0, stop_words=\"english\")\r\n",
    "        self.tfidf_matrix = self.tfidf.fit_transform(self.service_data[\"description_clean\"])\r\n",
    "        self.cosine_similarities = cosine_similarity(self.tfidf_matrix, self.tfidf_matrix)\r\n",
    "\r\n",
    "    def rank_items(self):\r\n",
    "        content_based_rankings = {}\r\n",
    "        for user in self.users:\r\n",
    "            user_rankings = self.get_user_rankings(user_id=user)\r\n",
    "            user_rankings = pd.DataFrame.from_dict(user_rankings, orient=\"index\", columns=[\"score\"])\r\n",
    "            user_rankings = user_rankings.sort_values(by=\"score\", ascending=False)\r\n",
    "            content_based_rankings[user] = user_rankings.index.values\r\n",
    "\r\n",
    "        return content_based_rankings\r\n",
    "\r\n",
    "    def clean_text(self, text):\r\n",
    "        \"\"\"\r\n",
    "            text: a string\r\n",
    "            \r\n",
    "            return: modified initial string\r\n",
    "        \"\"\"\r\n",
    "        text = text.lower() # lowercase text\r\n",
    "        text = self.REPLACE_BY_SPACE_RE.sub(' ', text) # replace REPLACE_BY_SPACE_RE symbols by space in text. substitute the matched string in REPLACE_BY_SPACE_RE with space.\r\n",
    "        text = self.BAD_SYMBOLS_RE.sub('', text) # remove symbols which are in BAD_SYMBOLS_RE from text. substitute the matched string in BAD_SYMBOLS_RE with nothing. \r\n",
    "        text = ' '.join(word for word in text.split() if word not in self.STOPWORDS) # remove stopwords from text\r\n",
    "        return text\r\n",
    "\r\n",
    "    def get_knn(self, item_index: int, k: int = None, cosine_similarities = None):\r\n",
    "        assert self.cosine_similarities is not None\r\n",
    "        assert item_index >= 0 and item_index < self.cosine_similarities.shape[0]\r\n",
    "        if k is None: k = self.cosine_similarities.shape[0]\r\n",
    "        assert k >= 0\r\n",
    "\r\n",
    "        if cosine_similarities is None: cosine_similarities = self.cosine_similarities\r\n",
    "\r\n",
    "        score_series = pd.Series(cosine_similarities[item_index]).sort_values(ascending=False)\r\n",
    "        top_k_indices = list(score_series.iloc[1 : k + 1].index)\r\n",
    "        top_k_scores = list(score_series.iloc[1 : k + 1].values)\r\n",
    "        return {index: score for index, score in zip(top_k_indices, top_k_scores)}\r\n",
    "\r\n",
    "    def get_user_rankings(self, user_id: str) -> Dict:\r\n",
    "        user_relations = self.train_data[self.train_data[\"user\"] == user_id]\r\n",
    "        user_items = user_relations['service'].values\r\n",
    "        item_scores = {}\r\n",
    "        for item in user_items:\r\n",
    "            iid = self.item_to_index[item]\r\n",
    "            nearest_indices = self.get_knn(item_index=iid)\r\n",
    "            nearest_items = {self.index_to_item[idx]: score for idx, score in nearest_indices.items()}\r\n",
    "            for neighbour_item in nearest_items:\r\n",
    "                if neighbour_item in item_scores.keys():\r\n",
    "                    if item_scores[neighbour_item] < nearest_items[neighbour_item]:\r\n",
    "                        item_scores[neighbour_item] = nearest_items[neighbour_item]\r\n",
    "                else:\r\n",
    "                    item_scores[neighbour_item] = nearest_items[neighbour_item]\r\n",
    "        return item_scores"
   ],
   "outputs": [],
   "metadata": {}
  },
  {
   "cell_type": "code",
   "execution_count": 96,
   "source": [
    "content_based_model = ContentBasedRecommender(train_count=train_data, test_count=test_data)\r\n",
    "content_based_model.fit(train_data=train_data, service_data=service_df, ngram_range=(1,3))\r\n",
    "content_based_rankings = content_based_model.rank_items()"
   ],
   "outputs": [
    {
     "output_type": "stream",
     "name": "stderr",
     "text": [
      "[nltk_data] Downloading package stopwords to\n",
      "[nltk_data]     C:\\Users\\roybm\\AppData\\Roaming\\nltk_data...\n",
      "[nltk_data]   Package stopwords is already up-to-date!\n",
      "d:\\Projects\\machine-learning\\venv\\lib\\site-packages\\pandas\\core\\indexing.py:1676: SettingWithCopyWarning: \n",
      "A value is trying to be set on a copy of a slice from a DataFrame.\n",
      "Try using .loc[row_indexer,col_indexer] = value instead\n",
      "\n",
      "See the caveats in the documentation: https://pandas.pydata.org/pandas-docs/stable/user_guide/indexing.html#returning-a-view-versus-a-copy\n",
      "  self._setitem_single_column(ilocs[0], value, pi)\n"
     ]
    }
   ],
   "metadata": {}
  },
  {
   "cell_type": "code",
   "execution_count": 97,
   "source": [
    "num_services = len(train_data[\"service\"].values)\r\n",
    "content_based_rank_score = content_based_model.evaluate_rank(\r\n",
    "    rankings=content_based_rankings, on_train=True, N=num_services\r\n",
    ")"
   ],
   "outputs": [],
   "metadata": {}
  },
  {
   "cell_type": "code",
   "execution_count": 98,
   "source": [
    "print(\"The rank score for the content based model is {} %\".format(content_based_rank_score))"
   ],
   "outputs": [
    {
     "output_type": "stream",
     "name": "stdout",
     "text": [
      "The rank score for the content based model is 43.73993782971013 %\n"
     ]
    }
   ],
   "metadata": {}
  }
 ],
 "metadata": {
  "interpreter": {
   "hash": "93a6a9b76bfd63e02ab1b2bd2e6bc5ff501c9330c8c8db6caa76d3262061148d"
  },
  "kernelspec": {
   "display_name": "Python 3.8.5  ('venv': venv)",
   "name": "python3"
  },
  "language_info": {
   "codemirror_mode": {
    "name": "ipython",
    "version": 3
   },
   "file_extension": ".py",
   "mimetype": "text/x-python",
   "name": "python",
   "nbconvert_exporter": "python",
   "pygments_lexer": "ipython3",
   "version": "3.8.5"
  },
  "orig_nbformat": 3
 },
 "nbformat": 4,
 "nbformat_minor": 2
}