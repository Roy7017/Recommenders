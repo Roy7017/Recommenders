{
 "cells": [
  {
   "source": [
    "# Connecting to Parse"
   ],
   "cell_type": "markdown",
   "metadata": {}
  },
  {
   "cell_type": "code",
   "execution_count": 1,
   "metadata": {},
   "outputs": [],
   "source": [
    "import json, http.client\n",
    "import pandas as pd\n",
    "import numpy as np\n",
    "import matplotlib.pyplot as plt"
   ]
  },
  {
   "cell_type": "code",
   "execution_count": 2,
   "metadata": {},
   "outputs": [],
   "source": [
    "APP_ID = 'net.acesy.backend'\n",
    "PARSE_SERVER_URL = 'backend.console.acesy.net'\n",
    "REST_API_KEY= 'rest-api-key'"
   ]
  },
  {
   "cell_type": "code",
   "execution_count": null,
   "metadata": {
    "tags": []
   },
   "outputs": [],
   "source": [
    "# connection = http.client.HTTPSConnection(PARSE_SERVER_URL)\n",
    "# connection.connect()\n",
    "# connection.request('POST', '/parse/functions/getAllUsers', json.dumps({}), {\n",
    "#        \"X-Parse-Application-Id\": f\"{APP_ID}\",\n",
    "#        \"X-Parse-REST-API-Key\": f\"{REST_API_KEY}\",\n",
    "#        \"Content-Type\": \"application/json\"\n",
    "#      })\n",
    "# result = connection.getresponse().read()\n",
    "# # print(result)\n",
    "# result = json.loads(result)"
   ]
  },
  {
   "cell_type": "code",
   "execution_count": 3,
   "metadata": {},
   "outputs": [],
   "source": [
    "def getDataFrameFromParse(func_name, app_id=APP_ID, url=PARSE_SERVER_URL, api_key=REST_API_KEY):\n",
    "    connection = http.client.HTTPSConnection(url)\n",
    "    connection.connect()\n",
    "    connection.request('POST', f'/parse/functions/{func_name}', json.dumps({}), {\n",
    "        \"X-Parse-Application-Id\": f\"{app_id}\",\n",
    "        \"X-Parse-REST-API-Key\": f\"{api_key}\",\n",
    "        \"Content-Type\": \"application/json\"\n",
    "        })\n",
    "    result = connection.getresponse().read()\n",
    "    result = json.loads(result)\n",
    "    df = pd.DataFrame.from_records(result['result']['results'])\n",
    "    return df"
   ]
  },
  {
   "cell_type": "code",
   "execution_count": null,
   "metadata": {},
   "outputs": [],
   "source": [
    "user_df = getDataFrameFromParse('getAllUsers')"
   ]
  },
  {
   "cell_type": "code",
   "execution_count": null,
   "metadata": {},
   "outputs": [],
   "source": [
    "user_df.shape"
   ]
  },
  {
   "cell_type": "code",
   "execution_count": null,
   "metadata": {},
   "outputs": [],
   "source": [
    "account_user_df = getDataFrameFromParse('getAllAccountUsers')"
   ]
  },
  {
   "cell_type": "code",
   "execution_count": null,
   "metadata": {},
   "outputs": [],
   "source": [
    "account_user_df.shape"
   ]
  },
  {
   "cell_type": "code",
   "execution_count": null,
   "metadata": {},
   "outputs": [],
   "source": [
    "service_subscripted_df = getDataFrameFromParse('getAllServiceSubscripted')"
   ]
  },
  {
   "cell_type": "code",
   "execution_count": null,
   "metadata": {},
   "outputs": [],
   "source": [
    "service_subscripted_df.shape"
   ]
  },
  {
   "cell_type": "code",
   "execution_count": null,
   "metadata": {},
   "outputs": [],
   "source": [
    "service_subscripted_mode_df = getDataFrameFromParse('getAllServiceSubscriptedModes')"
   ]
  },
  {
   "cell_type": "code",
   "execution_count": null,
   "metadata": {},
   "outputs": [],
   "source": [
    "service_subscripted_mode_df.shape"
   ]
  },
  {
   "cell_type": "code",
   "execution_count": null,
   "metadata": {},
   "outputs": [],
   "source": [
    "service_subscripted_status_df = getDataFrameFromParse('getAllServiceSubscriptedStatus')"
   ]
  },
  {
   "cell_type": "code",
   "execution_count": null,
   "metadata": {},
   "outputs": [],
   "source": [
    "service_subscripted_status_df.shape"
   ]
  },
  {
   "cell_type": "code",
   "execution_count": null,
   "metadata": {},
   "outputs": [],
   "source": [
    "service_df = getDataFrameFromParse('getAllServices')"
   ]
  },
  {
   "cell_type": "code",
   "execution_count": null,
   "metadata": {},
   "outputs": [],
   "source": [
    "service_df.shape"
   ]
  },
  {
   "cell_type": "code",
   "execution_count": null,
   "metadata": {},
   "outputs": [],
   "source": [
    "service_category_df = getDataFrameFromParse('getAllServiceCategories')"
   ]
  },
  {
   "cell_type": "code",
   "execution_count": null,
   "metadata": {},
   "outputs": [],
   "source": [
    "service_category_df.shape"
   ]
  },
  {
   "cell_type": "code",
   "execution_count": null,
   "metadata": {},
   "outputs": [],
   "source": [
    "service_class_df = getDataFrameFromParse('getAllServiceClasses')"
   ]
  },
  {
   "cell_type": "code",
   "execution_count": null,
   "metadata": {},
   "outputs": [],
   "source": [
    "service_class_df.shape"
   ]
  },
  {
   "cell_type": "code",
   "execution_count": 4,
   "metadata": {},
   "outputs": [],
   "source": [
    "service_price_df = getDataFrameFromParse('getAllServicePrices')"
   ]
  },
  {
   "cell_type": "code",
   "execution_count": 5,
   "metadata": {},
   "outputs": [
    {
     "output_type": "execute_result",
     "data": {
      "text/plain": [
       "(133, 50)"
      ]
     },
     "metadata": {},
     "execution_count": 5
    }
   ],
   "source": [
    "service_price_df.shape"
   ]
  },
  {
   "source": [
    "# Saving data as CSV"
   ],
   "cell_type": "markdown",
   "metadata": {}
  },
  {
   "cell_type": "code",
   "execution_count": null,
   "metadata": {},
   "outputs": [],
   "source": [
    "user_df.to_csv('./data/users.csv')\n",
    "account_user_df.to_csv('./data/account_users.csv')\n",
    "\n",
    "service_subscripted_df.to_csv('./data/service_subscripted.csv')\n",
    "service_subscripted_mode_df.to_csv('./data/service_subscripted_modes.csv')\n",
    "service_subscripted_status_df.to_csv('./data/service_subscripted_status.csv')\n",
    "\n",
    "service_df.to_csv('./data/services.csv')\n",
    "service_category_df.to_csv('./data/service_categories.csv')\n",
    "service_class_df.to_csv('./data/service_classes.csv')\n",
    "service_price_df.to_csv('./data/service_prices.csv')"
   ]
  },
  {
   "cell_type": "code",
   "execution_count": null,
   "metadata": {},
   "outputs": [],
   "source": []
  }
 ],
 "metadata": {
  "kernelspec": {
   "name": "python385jvsc74a57bd0559ce0ef628513145435e95416c500221ede1eb2e24cad5e17fc1aa423e2e35e",
   "display_name": "Python 3.8.5 64-bit ('venv': venv)",
   "language": "python"
  },
  "language_info": {
   "codemirror_mode": {
    "name": "ipython",
    "version": 3
   },
   "file_extension": ".py",
   "mimetype": "text/x-python",
   "name": "python",
   "nbconvert_exporter": "python",
   "pygments_lexer": "ipython3",
   "version": "3.8.5"
  },
  "metadata": {
   "interpreter": {
    "hash": "559ce0ef628513145435e95416c500221ede1eb2e24cad5e17fc1aa423e2e35e"
   }
  }
 },
 "nbformat": 4,
 "nbformat_minor": 4
}