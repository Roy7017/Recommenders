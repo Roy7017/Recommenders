{
 "cells": [
  {
   "cell_type": "code",
   "execution_count": 2,
   "metadata": {},
   "outputs": [],
   "source": [
    "import json,http.client"
   ]
  },
  {
   "cell_type": "code",
   "execution_count": 3,
   "metadata": {},
   "outputs": [],
   "source": [
    "APP_ID = 'ACESY Console'\n",
    "PARSE_SERVER_URL = 'https://backend.console.acesy.net/parse'\n",
    "REST_API_KEY= ''"
   ]
  },
  {
   "cell_type": "code",
   "execution_count": null,
   "metadata": {},
   "outputs": [],
   "source": [
    "connection = httplib.HTTPSConnection(PARSE_SERVER_URL, 443)\n",
    "connection.connect()\n",
    "connection.request('GET', '/parse/classes/GameScore', '', {\n",
    "       \"X-Parse-Application-Id\": \"${APP_ID}\",\n",
    "       \"X-Parse-REST-API-Key\": \"${REST_API_KEY}\"\n",
    "     })\n",
    "result = json.loads(connection.getresponse().read())\n",
    "print result"
   ]
  }
 ],
 "metadata": {
  "kernelspec": {
   "display_name": "Python 3",
   "language": "python",
   "name": "python3"
  },
  "language_info": {
   "codemirror_mode": {
    "name": "ipython",
    "version": 3
   },
   "file_extension": ".py",
   "mimetype": "text/x-python",
   "name": "python",
   "nbconvert_exporter": "python",
   "pygments_lexer": "ipython3",
   "version": "3.8.5"
  }
 },
 "nbformat": 4,
 "nbformat_minor": 4
}
