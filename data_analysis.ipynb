{
 "cells": [
  {
   "cell_type": "markdown",
   "source": [
    "# Imports"
   ],
   "metadata": {}
  },
  {
   "cell_type": "code",
   "execution_count": 2,
   "source": [
    "from datetime import datetime, timedelta\r\n",
    "import random\r\n",
    "import json\r\n",
    "import statistics\r\n",
    "import re\r\n",
    "from typing import Dict\r\n",
    "import pandas as pd\r\n",
    "import numpy as np\r\n",
    "import matplotlib.pyplot as plt\r\n",
    "import surprise\r\n",
    "import implicit\r\n",
    "import nltk\r\n",
    "from nltk.corpus import stopwords\r\n",
    "import scipy.sparse as sparse\r\n",
    "from scipy.sparse.linalg import spsolve\r\n",
    "from sklearn.linear_model import SGDRegressor\r\n",
    "from sklearn.metrics.pairwise import linear_kernel, cosine_similarity\r\n",
    "from sklearn.feature_extraction.text import CountVectorizer\r\n",
    "from sklearn.feature_extraction.text import TfidfVectorizer\r\n",
    "from sklearn.decomposition import LatentDirichletAllocation\r\n",
    "from tqdm.notebook import tqdm_notebook"
   ],
   "outputs": [],
   "metadata": {}
  },
  {
   "cell_type": "markdown",
   "source": [
    "# Reading the data"
   ],
   "metadata": {}
  },
  {
   "cell_type": "code",
   "execution_count": 3,
   "source": [
    "user_df = pd.read_csv(\"./columns_removed/users.csv\", index_col=\"Unnamed: 0\")\r\n",
    "\r\n",
    "service_subscripted_df = pd.read_csv(\r\n",
    "    \"./columns_removed/service_subscripted.csv\", index_col=\"Unnamed: 0\"\r\n",
    ")\r\n",
    "\r\n",
    "service_df = pd.read_csv(\"./columns_removed/services.csv\", index_col=\"Unnamed: 0\")"
   ],
   "outputs": [],
   "metadata": {}
  },
  {
   "cell_type": "markdown",
   "source": [
    "# Preprocessing the data"
   ],
   "metadata": {}
  },
  {
   "cell_type": "code",
   "execution_count": 4,
   "source": [
    "def getObjectIds(strings):\r\n",
    "    strings = json.loads(strings.replace(\"'\", '\"')) if type(strings) == str else None\r\n",
    "    return [string[\"objectId\"] for string in strings] if not strings is None else None\r\n",
    "\r\n",
    "def getObjectId(string):\r\n",
    "    return (\r\n",
    "        json.loads(string.replace(\"'\", '\"'))[\"objectId\"]\r\n",
    "        if type(string) == str\r\n",
    "        else None\r\n",
    "    )"
   ],
   "outputs": [],
   "metadata": {}
  },
  {
   "cell_type": "code",
   "execution_count": 5,
   "source": [
    "print(\"Extracting IDs in service_subscripted_df\")\r\n",
    "service_subscripted_df[\"user\"] = service_subscripted_df[\"user\"].apply(\r\n",
    "    getObjectId\r\n",
    ")\r\n",
    "service_subscripted_df[\"service\"] = service_subscripted_df[\"service\"].apply(\r\n",
    "    getObjectId\r\n",
    ")\r\n",
    "service_subscripted_df[\"servicePrice\"] = service_subscripted_df[\r\n",
    "    \"servicePrice\"\r\n",
    "].apply(getObjectId)\r\n",
    "service_subscripted_df[\"serviceSubscriptedStatus\"] = service_subscripted_df[\r\n",
    "    \"serviceSubscriptedStatus\"\r\n",
    "].apply(getObjectId)\r\n",
    "\r\n",
    "service_df[\"servicePrices\"] = service_df[\"servicePrices\"].apply(getObjectIds)\r\n",
    "service_df[\"serviceCategories\"] = service_df[\"serviceCategories\"].apply(\r\n",
    "    getObjectIds\r\n",
    ")"
   ],
   "outputs": [
    {
     "output_type": "stream",
     "name": "stdout",
     "text": [
      "Extracting IDs in service_subscripted_df\n"
     ]
    }
   ],
   "metadata": {}
  },
  {
   "cell_type": "code",
   "execution_count": 6,
   "source": [
    "service_subscripted_df[\"createdAt\"] = pd.to_datetime(\r\n",
    "    service_subscripted_df[\"createdAt\"]\r\n",
    ")\r\n",
    "service_subscripted_df = service_subscripted_df.sort_values(by=\"createdAt\")"
   ],
   "outputs": [],
   "metadata": {}
  },
  {
   "cell_type": "code",
   "execution_count": 7,
   "source": [
    "train_set = service_subscripted_df.copy()\r\n",
    "train_subscribe_count = train_set.groupby([\"user\", \"service\"], as_index=False).size()\r\n",
    "train_data = train_subscribe_count[[\"user\", \"service\", \"size\"]].join(\r\n",
    "    service_df[\r\n",
    "        [\r\n",
    "            \"objectId\",\r\n",
    "            \"serviceCategories\",\r\n",
    "            \"servicePrices\",\r\n",
    "            \"name\",\r\n",
    "            \"task_name\",\r\n",
    "            \"keywordServiceCategories\",\r\n",
    "            \"description\",\r\n",
    "            \"haveAndroidApp\",\r\n",
    "            \"haveIOSApp\",\r\n",
    "        ]\r\n",
    "    ].set_index(\"objectId\"),\r\n",
    "    on=\"service\",\r\n",
    "    how=\"left\",\r\n",
    ")"
   ],
   "outputs": [],
   "metadata": {}
  },
  {
   "cell_type": "code",
   "execution_count": 8,
   "source": [
    "train_data['size'].describe()"
   ],
   "outputs": [
    {
     "output_type": "execute_result",
     "data": {
      "text/plain": [
       "count    406.000000\n",
       "mean       5.783251\n",
       "std       18.685501\n",
       "min        1.000000\n",
       "25%        1.000000\n",
       "50%        2.000000\n",
       "75%        4.000000\n",
       "max      311.000000\n",
       "Name: size, dtype: float64"
      ]
     },
     "metadata": {},
     "execution_count": 8
    }
   ],
   "metadata": {}
  },
  {
   "cell_type": "code",
   "execution_count": 9,
   "source": [
    "service_count = train_data[['user', 'service', 'size']].groupby('service', as_index=False).sum()\r\n",
    "# display(service_count.head(10))\r\n",
    "service_count['size'].describe()"
   ],
   "outputs": [
    {
     "output_type": "execute_result",
     "data": {
      "text/plain": [
       "count     65.000000\n",
       "mean      36.123077\n",
       "std       88.431560\n",
       "min        1.000000\n",
       "25%        6.000000\n",
       "50%       16.000000\n",
       "75%       31.000000\n",
       "max      654.000000\n",
       "Name: size, dtype: float64"
      ]
     },
     "metadata": {},
     "execution_count": 9
    }
   ],
   "metadata": {}
  },
  {
   "cell_type": "code",
   "execution_count": 10,
   "source": [
    "service_count.sort_values(by='size', ascending=False, inplace=True)\r\n",
    "plt.figure(figsize=(10,7))\r\n",
    "plt.plot(service_count[\"service\"].values, service_count[\"size\"].values)"
   ],
   "outputs": [
    {
     "output_type": "execute_result",
     "data": {
      "text/plain": [
       "[<matplotlib.lines.Line2D at 0x1df75eba070>]"
      ]
     },
     "metadata": {},
     "execution_count": 10
    },
    {
     "output_type": "display_data",
     "data": {
      "text/plain": [
       "<Figure size 720x504 with 1 Axes>"
      ],
      "image/png": "[encoded data removed]"
     },
     "metadata": {
      "needs_background": "light"
     }
    }
   ],
   "metadata": {}
  },
  {
   "cell_type": "code",
   "execution_count": 11,
   "source": [
    "user_count = train_data[['user', 'service', 'size']].groupby('user', as_index=False).sum()\r\n",
    "# display(user_count.head(10))\r\n",
    "user_count['size'].describe()"
   ],
   "outputs": [
    {
     "output_type": "execute_result",
     "data": {
      "text/plain": [
       "count     58.000000\n",
       "mean      40.482759\n",
       "std      122.281275\n",
       "min        1.000000\n",
       "25%        2.000000\n",
       "50%        6.000000\n",
       "75%       19.000000\n",
       "max      710.000000\n",
       "Name: size, dtype: float64"
      ]
     },
     "metadata": {},
     "execution_count": 11
    }
   ],
   "metadata": {}
  },
  {
   "cell_type": "code",
   "execution_count": 12,
   "source": [
    "user_count.sort_values(by='size', ascending=False, inplace=True)\r\n",
    "plt.figure(figsize=(10,7))\r\n",
    "plt.plot(user_count[\"user\"].values, user_count[\"size\"].values)"
   ],
   "outputs": [
    {
     "output_type": "execute_result",
     "data": {
      "text/plain": [
       "[<matplotlib.lines.Line2D at 0x1df75fa0640>]"
      ]
     },
     "metadata": {},
     "execution_count": 12
    },
    {
     "output_type": "display_data",
     "data": {
      "text/plain": [
       "<Figure size 720x504 with 1 Axes>"
      ],
      "image/png": "[encoded data removed]"
     },
     "metadata": {
      "needs_background": "light"
     }
    }
   ],
   "metadata": {}
  },
  {
   "cell_type": "code",
   "execution_count": 13,
   "source": [
    "matrix_size = (\r\n",
    "    len(train_data['user'].unique()) * len(train_data['service'].unique())\r\n",
    ")  # Number of possible interactions in the matrix\r\n",
    "num_interactions = train_data.count()['size']  # Number of items interacted with\r\n",
    "sparsity = 100 * (1 - (num_interactions / matrix_size))\r\n",
    "sparsity"
   ],
   "outputs": [
    {
     "output_type": "execute_result",
     "data": {
      "text/plain": [
       "89.23076923076923"
      ]
     },
     "metadata": {},
     "execution_count": 13
    }
   ],
   "metadata": {}
  },
  {
   "cell_type": "code",
   "execution_count": 14,
   "source": [
    "user_count"
   ],
   "outputs": [
    {
     "output_type": "execute_result",
     "data": {
      "text/plain": [
       "          user  size\n",
       "7   4J60SXAGWB   710\n",
       "34  Wuht2SEQKc   573\n",
       "0   0ULHUAAtf3   271\n",
       "52  t9IQcZ3cdL   123\n",
       "21  JVEJq4hHlI   103\n",
       "35  ZxcHkwHGRL    52\n",
       "14  C3X1fCjFik    50\n",
       "48  pJyGMKcKXX    46\n",
       "3   1jCnE220nA    43\n",
       "41  jzl9egzBnk    38\n",
       "32  W77SJBHD8m    37\n",
       "13  BNTjH18Ejd    22\n",
       "16  DduHEK4gmd    21\n",
       "39  gkNS6OhXdu    20\n",
       "49  q9tvslyJrk    19\n",
       "12  8HgxQqhRLI    19\n",
       "57  zDcJYcUkww    17\n",
       "17  EheabjDXnM    13\n",
       "26  PVEOyjSyKx    13\n",
       "36  ahVNB7GjOM    13\n",
       "53  uNBLcS9wWE    11\n",
       "8   67mvU6rzxL    11\n",
       "30  SEnUD6jndH    10\n",
       "5   43jK2px6ed    10\n",
       "18  GGLeH6cyob    10\n",
       "46  o1gq9H4BHk     7\n",
       "43  lxE9vOz3vZ     7\n",
       "38  eLvSNpMECU     6\n",
       "37  cHx4HyUyEQ     6\n",
       "24  Louz9FIJbi     6\n",
       "33  WgWte9wmZN     5\n",
       "55  yhBKHAjOKD     4\n",
       "2   1ft2m6PbF3     4\n",
       "51  snrKRv2Qa4     4\n",
       "40  hKnvWYfAGs     4\n",
       "1   0Vnwjva3DC     3\n",
       "15  Cp6zcKgDNC     3\n",
       "31  SrFUU82tJ6     3\n",
       "10  7lF3yeqSP2     3\n",
       "27  R5BBYXbKvE     3\n",
       "25  OOFc9DBk9a     3\n",
       "6   49xBwwcHpk     3\n",
       "47  oyGo3q4lVW     2\n",
       "29  S4rPlGLIlY     2\n",
       "42  lEAthq8htG     2\n",
       "44  nSVHvNcZa3     1\n",
       "45  nwP5Ow37Gj     1\n",
       "28  RHJhjMrZ3m     1\n",
       "20  IbxlSIs5n3     1\n",
       "4   3g9IFrAAXf     1\n",
       "50  qQIXGC3Whq     1\n",
       "23  KxCardD2Jt     1\n",
       "9   6Awn5tE4lZ     1\n",
       "19  HHP1JSxS0l     1\n",
       "54  vGh1LX3MS0     1\n",
       "11  80PupPuABn     1\n",
       "56  z8H9oODUSU     1\n",
       "22  KCPtdGl9RW     1"
      ],
      "text/html": [
       "<div>\n",
       "<style scoped>\n",
       "    .dataframe tbody tr th:only-of-type {\n",
       "        vertical-align: middle;\n",
       "    }\n",
       "\n",
       "    .dataframe tbody tr th {\n",
       "        vertical-align: top;\n",
       "    }\n",
       "\n",
       "    .dataframe thead th {\n",
       "        text-align: right;\n",
       "    }\n",
       "</style>\n",
       "<table border=\"1\" class=\"dataframe\">\n",
       "  <thead>\n",
       "    <tr style=\"text-align: right;\">\n",
       "      <th></th>\n",
       "      <th>user</th>\n",
       "      <th>size</th>\n",
       "    </tr>\n",
       "  </thead>\n",
       "  <tbody>\n",
       "    <tr>\n",
       "      <th>7</th>\n",
       "      <td>4J60SXAGWB</td>\n",
       "      <td>710</td>\n",
       "    </tr>\n",
       "    <tr>\n",
       "      <th>34</th>\n",
       "      <td>Wuht2SEQKc</td>\n",
       "      <td>573</td>\n",
       "    </tr>\n",
       "    <tr>\n",
       "      <th>0</th>\n",
       "      <td>0ULHUAAtf3</td>\n",
       "      <td>271</td>\n",
       "    </tr>\n",
       "    <tr>\n",
       "      <th>52</th>\n",
       "      <td>t9IQcZ3cdL</td>\n",
       "      <td>123</td>\n",
       "    </tr>\n",
       "    <tr>\n",
       "      <th>21</th>\n",
       "      <td>JVEJq4hHlI</td>\n",
       "      <td>103</td>\n",
       "    </tr>\n",
       "    <tr>\n",
       "      <th>35</th>\n",
       "      <td>ZxcHkwHGRL</td>\n",
       "      <td>52</td>\n",
       "    </tr>\n",
       "    <tr>\n",
       "      <th>14</th>\n",
       "      <td>C3X1fCjFik</td>\n",
       "      <td>50</td>\n",
       "    </tr>\n",
       "    <tr>\n",
       "      <th>48</th>\n",
       "      <td>pJyGMKcKXX</td>\n",
       "      <td>46</td>\n",
       "    </tr>\n",
       "    <tr>\n",
       "      <th>3</th>\n",
       "      <td>1jCnE220nA</td>\n",
       "      <td>43</td>\n",
       "    </tr>\n",
       "    <tr>\n",
       "      <th>41</th>\n",
       "      <td>jzl9egzBnk</td>\n",
       "      <td>38</td>\n",
       "    </tr>\n",
       "    <tr>\n",
       "      <th>32</th>\n",
       "      <td>W77SJBHD8m</td>\n",
       "      <td>37</td>\n",
       "    </tr>\n",
       "    <tr>\n",
       "      <th>13</th>\n",
       "      <td>BNTjH18Ejd</td>\n",
       "      <td>22</td>\n",
       "    </tr>\n",
       "    <tr>\n",
       "      <th>16</th>\n",
       "      <td>DduHEK4gmd</td>\n",
       "      <td>21</td>\n",
       "    </tr>\n",
       "    <tr>\n",
       "      <th>39</th>\n",
       "      <td>gkNS6OhXdu</td>\n",
       "      <td>20</td>\n",
       "    </tr>\n",
       "    <tr>\n",
       "      <th>49</th>\n",
       "      <td>q9tvslyJrk</td>\n",
       "      <td>19</td>\n",
       "    </tr>\n",
       "    <tr>\n",
       "      <th>12</th>\n",
       "      <td>8HgxQqhRLI</td>\n",
       "      <td>19</td>\n",
       "    </tr>\n",
       "    <tr>\n",
       "      <th>57</th>\n",
       "      <td>zDcJYcUkww</td>\n",
       "      <td>17</td>\n",
       "    </tr>\n",
       "    <tr>\n",
       "      <th>17</th>\n",
       "      <td>EheabjDXnM</td>\n",
       "      <td>13</td>\n",
       "    </tr>\n",
       "    <tr>\n",
       "      <th>26</th>\n",
       "      <td>PVEOyjSyKx</td>\n",
       "      <td>13</td>\n",
       "    </tr>\n",
       "    <tr>\n",
       "      <th>36</th>\n",
       "      <td>ahVNB7GjOM</td>\n",
       "      <td>13</td>\n",
       "    </tr>\n",
       "    <tr>\n",
       "      <th>53</th>\n",
       "      <td>uNBLcS9wWE</td>\n",
       "      <td>11</td>\n",
       "    </tr>\n",
       "    <tr>\n",
       "      <th>8</th>\n",
       "      <td>67mvU6rzxL</td>\n",
       "      <td>11</td>\n",
       "    </tr>\n",
       "    <tr>\n",
       "      <th>30</th>\n",
       "      <td>SEnUD6jndH</td>\n",
       "      <td>10</td>\n",
       "    </tr>\n",
       "    <tr>\n",
       "      <th>5</th>\n",
       "      <td>43jK2px6ed</td>\n",
       "      <td>10</td>\n",
       "    </tr>\n",
       "    <tr>\n",
       "      <th>18</th>\n",
       "      <td>GGLeH6cyob</td>\n",
       "      <td>10</td>\n",
       "    </tr>\n",
       "    <tr>\n",
       "      <th>46</th>\n",
       "      <td>o1gq9H4BHk</td>\n",
       "      <td>7</td>\n",
       "    </tr>\n",
       "    <tr>\n",
       "      <th>43</th>\n",
       "      <td>lxE9vOz3vZ</td>\n",
       "      <td>7</td>\n",
       "    </tr>\n",
       "    <tr>\n",
       "      <th>38</th>\n",
       "      <td>eLvSNpMECU</td>\n",
       "      <td>6</td>\n",
       "    </tr>\n",
       "    <tr>\n",
       "      <th>37</th>\n",
       "      <td>cHx4HyUyEQ</td>\n",
       "      <td>6</td>\n",
       "    </tr>\n",
       "    <tr>\n",
       "      <th>24</th>\n",
       "      <td>Louz9FIJbi</td>\n",
       "      <td>6</td>\n",
       "    </tr>\n",
       "    <tr>\n",
       "      <th>33</th>\n",
       "      <td>WgWte9wmZN</td>\n",
       "      <td>5</td>\n",
       "    </tr>\n",
       "    <tr>\n",
       "      <th>55</th>\n",
       "      <td>yhBKHAjOKD</td>\n",
       "      <td>4</td>\n",
       "    </tr>\n",
       "    <tr>\n",
       "      <th>2</th>\n",
       "      <td>1ft2m6PbF3</td>\n",
       "      <td>4</td>\n",
       "    </tr>\n",
       "    <tr>\n",
       "      <th>51</th>\n",
       "      <td>snrKRv2Qa4</td>\n",
       "      <td>4</td>\n",
       "    </tr>\n",
       "    <tr>\n",
       "      <th>40</th>\n",
       "      <td>hKnvWYfAGs</td>\n",
       "      <td>4</td>\n",
       "    </tr>\n",
       "    <tr>\n",
       "      <th>1</th>\n",
       "      <td>0Vnwjva3DC</td>\n",
       "      <td>3</td>\n",
       "    </tr>\n",
       "    <tr>\n",
       "      <th>15</th>\n",
       "      <td>Cp6zcKgDNC</td>\n",
       "      <td>3</td>\n",
       "    </tr>\n",
       "    <tr>\n",
       "      <th>31</th>\n",
       "      <td>SrFUU82tJ6</td>\n",
       "      <td>3</td>\n",
       "    </tr>\n",
       "    <tr>\n",
       "      <th>10</th>\n",
       "      <td>7lF3yeqSP2</td>\n",
       "      <td>3</td>\n",
       "    </tr>\n",
       "    <tr>\n",
       "      <th>27</th>\n",
       "      <td>R5BBYXbKvE</td>\n",
       "      <td>3</td>\n",
       "    </tr>\n",
       "    <tr>\n",
       "      <th>25</th>\n",
       "      <td>OOFc9DBk9a</td>\n",
       "      <td>3</td>\n",
       "    </tr>\n",
       "    <tr>\n",
       "      <th>6</th>\n",
       "      <td>49xBwwcHpk</td>\n",
       "      <td>3</td>\n",
       "    </tr>\n",
       "    <tr>\n",
       "      <th>47</th>\n",
       "      <td>oyGo3q4lVW</td>\n",
       "      <td>2</td>\n",
       "    </tr>\n",
       "    <tr>\n",
       "      <th>29</th>\n",
       "      <td>S4rPlGLIlY</td>\n",
       "      <td>2</td>\n",
       "    </tr>\n",
       "    <tr>\n",
       "      <th>42</th>\n",
       "      <td>lEAthq8htG</td>\n",
       "      <td>2</td>\n",
       "    </tr>\n",
       "    <tr>\n",
       "      <th>44</th>\n",
       "      <td>nSVHvNcZa3</td>\n",
       "      <td>1</td>\n",
       "    </tr>\n",
       "    <tr>\n",
       "      <th>45</th>\n",
       "      <td>nwP5Ow37Gj</td>\n",
       "      <td>1</td>\n",
       "    </tr>\n",
       "    <tr>\n",
       "      <th>28</th>\n",
       "      <td>RHJhjMrZ3m</td>\n",
       "      <td>1</td>\n",
       "    </tr>\n",
       "    <tr>\n",
       "      <th>20</th>\n",
       "      <td>IbxlSIs5n3</td>\n",
       "      <td>1</td>\n",
       "    </tr>\n",
       "    <tr>\n",
       "      <th>4</th>\n",
       "      <td>3g9IFrAAXf</td>\n",
       "      <td>1</td>\n",
       "    </tr>\n",
       "    <tr>\n",
       "      <th>50</th>\n",
       "      <td>qQIXGC3Whq</td>\n",
       "      <td>1</td>\n",
       "    </tr>\n",
       "    <tr>\n",
       "      <th>23</th>\n",
       "      <td>KxCardD2Jt</td>\n",
       "      <td>1</td>\n",
       "    </tr>\n",
       "    <tr>\n",
       "      <th>9</th>\n",
       "      <td>6Awn5tE4lZ</td>\n",
       "      <td>1</td>\n",
       "    </tr>\n",
       "    <tr>\n",
       "      <th>19</th>\n",
       "      <td>HHP1JSxS0l</td>\n",
       "      <td>1</td>\n",
       "    </tr>\n",
       "    <tr>\n",
       "      <th>54</th>\n",
       "      <td>vGh1LX3MS0</td>\n",
       "      <td>1</td>\n",
       "    </tr>\n",
       "    <tr>\n",
       "      <th>11</th>\n",
       "      <td>80PupPuABn</td>\n",
       "      <td>1</td>\n",
       "    </tr>\n",
       "    <tr>\n",
       "      <th>56</th>\n",
       "      <td>z8H9oODUSU</td>\n",
       "      <td>1</td>\n",
       "    </tr>\n",
       "    <tr>\n",
       "      <th>22</th>\n",
       "      <td>KCPtdGl9RW</td>\n",
       "      <td>1</td>\n",
       "    </tr>\n",
       "  </tbody>\n",
       "</table>\n",
       "</div>"
      ]
     },
     "metadata": {},
     "execution_count": 14
    }
   ],
   "metadata": {}
  }
 ],
 "metadata": {
  "orig_nbformat": 4,
  "language_info": {
   "name": "python"
  }
 },
 "nbformat": 4,
 "nbformat_minor": 2
}